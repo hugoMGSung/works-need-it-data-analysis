{
 "cells": [
  {
   "cell_type": "markdown",
   "metadata": {},
   "source": [
    "## Beautifulsoup으로 이미지 크롤링"
   ]
  },
  {
   "cell_type": "markdown",
   "metadata": {},
   "source": [
    "- python. re, requests로 크롤링 테스트\n",
    "- 예제사이트 : 빙 고양이 이미지 검색결과\n",
    "    - https://www.bing.com/images/search?q=%EA%B3%A0%EC%96%91%EC%9D%B4&form=HDRSC3&first=1&cw=1177&ch=930"
   ]
  },
  {
   "cell_type": "code",
   "execution_count": 1,
   "metadata": {},
   "outputs": [
    {
     "name": "stdout",
     "output_type": "stream",
     "text": [
      "Python 3.11.9\n"
     ]
    }
   ],
   "source": [
    "!python --version"
   ]
  },
  {
   "cell_type": "markdown",
   "metadata": {},
   "source": [
    "### 테스트 순\n",
    "\n",
    "1. URL을 뽑아내는 전처리 작업\n",
    "3. 이미지 저장코드 \n",
    "\n",
    "#### 모듈 임포트"
   ]
  },
  {
   "cell_type": "code",
   "execution_count": 3,
   "metadata": {},
   "outputs": [
    {
     "name": "stdout",
     "output_type": "stream",
     "text": [
      "Collecting beautifulsoup4\n",
      "  Using cached beautifulsoup4-4.12.3-py3-none-any.whl.metadata (3.8 kB)\n",
      "Collecting soupsieve>1.2 (from beautifulsoup4)\n",
      "  Using cached soupsieve-2.6-py3-none-any.whl.metadata (4.6 kB)\n",
      "Using cached beautifulsoup4-4.12.3-py3-none-any.whl (147 kB)\n",
      "Using cached soupsieve-2.6-py3-none-any.whl (36 kB)\n",
      "Installing collected packages: soupsieve, beautifulsoup4\n",
      "Successfully installed beautifulsoup4-4.12.3 soupsieve-2.6\n"
     ]
    },
    {
     "name": "stderr",
     "output_type": "stream",
     "text": [
      "\n",
      "[notice] A new release of pip is available: 24.2 -> 24.3.1\n",
      "[notice] To update, run: python.exe -m pip install --upgrade pip\n"
     ]
    }
   ],
   "source": [
    "!pip install beautifulsoup4"
   ]
  },
  {
   "cell_type": "code",
   "execution_count": 4,
   "metadata": {},
   "outputs": [],
   "source": [
    "import requests\n",
    "import time\n",
    "from bs4 import BeautifulSoup"
   ]
  },
  {
   "cell_type": "markdown",
   "metadata": {},
   "source": [
    "#### 함수 선언"
   ]
  },
  {
   "cell_type": "code",
   "execution_count": 29,
   "metadata": {},
   "outputs": [],
   "source": [
    "# url 이미지 저장 함수\n",
    "def save_image(idx, img_url):\n",
    "    res = requests.get(img_url).content\n",
    "    with open(f'./results/bing_{idx}.jpg', 'wb') as f:\n",
    "        # 이미지 관련작업은 pillow 모듈 사용 권장\n",
    "        f.write(res)\n",
    "        print(f'saved by {idx}')"
   ]
  },
  {
   "cell_type": "markdown",
   "metadata": {},
   "source": [
    "#### 순서대로 작성"
   ]
  },
  {
   "cell_type": "code",
   "execution_count": 11,
   "metadata": {},
   "outputs": [],
   "source": [
    "start_time = time.time()\n",
    "\n",
    "url = f'https://www.bing.com/images/search?q=%EA%B3%A0%EC%96%91%EC%9D%B4&form=HDRSC3&first=1&cw=1177&ch=930'\n",
    "html = requests.get(url=url)\n",
    "html_raw_data = str(html.content)\n",
    "soup = BeautifulSoup(html_raw_data, 'html.parser')"
   ]
  },
  {
   "cell_type": "markdown",
   "metadata": {},
   "source": [
    "##### 반복해서 뽑아보기"
   ]
  },
  {
   "cell_type": "code",
   "execution_count": 13,
   "metadata": {},
   "outputs": [
    {
     "name": "stdout",
     "output_type": "stream",
     "text": [
      "30\n"
     ]
    }
   ],
   "source": [
    "tag_list = []\n",
    "tag_list = soup.find_all(\"img\", \"mimg\")\n",
    "print(len(tag_list))"
   ]
  },
  {
   "cell_type": "code",
   "execution_count": 27,
   "metadata": {},
   "outputs": [
    {
     "name": "stdout",
     "output_type": "stream",
     "text": [
      "https://tse1.mm.bing.net/th/id/OIP.Y9h80DtXEhUNVqMCm8cn8wHaEJ?w=303&h=180&c=7&r=0&o=5&pid=1.7\n",
      "https://tse1.mm.bing.net/th/id/OIP.N1JNQXWUeZWlWBdo7zwrEAHaE4?w=225&h=180&c=7&r=0&o=5&pid=1.7\n",
      "https://tse4.mm.bing.net/th/id/OIP.HUXfYr1XIAm6QzPprjdzuwHaGP?w=202&h=180&c=7&r=0&o=5&pid=1.7\n",
      "https://tse1.mm.bing.net/th/id/OIP.FQXMBKq8VyvEw98bOUiBUQHaE7?w=223&h=180&c=7&r=0&o=5&pid=1.7\n",
      "https://tse4.mm.bing.net/th/id/OIP.nfOunZ_SW8pyzi--CPui6AHaEJ?w=315&h=180&c=7&r=0&o=5&pid=1.7\n",
      "https://tse2.mm.bing.net/th/id/OIP.ZZhEg5i3_rLVlYGmFr2REgHaE8?w=234&h=180&c=7&r=0&o=5&pid=1.7\n",
      "https://tse2.mm.bing.net/th/id/OIP.bnRLASbftzBG1750I_Lu1QHaHW?w=178&h=180&c=7&r=0&o=5&pid=1.7\n",
      "https://tse3.mm.bing.net/th/id/OIP.xPQ03hsKbT5n1X_qjLHiNgHaEJ?w=316&h=180&c=7&r=0&o=5&pid=1.7\n",
      "https://tse4.mm.bing.net/th/id/OIP.SuPaBflgtROH6Qq0igYEggHaE8?w=277&h=185&c=7&r=0&o=5&pid=1.7\n",
      "https://tse1.mm.bing.net/th/id/OIP.ZxKHXOvHFDpOS0YW9RiMqAHaFx?w=238&h=185&c=7&r=0&o=5&pid=1.7\n",
      "https://tse1.mm.bing.net/th/id/OIP.q-q9G52ELypGVoztuHdu2gHaE7?w=278&h=185&c=7&r=0&o=5&pid=1.7\n",
      "https://tse1.mm.bing.net/th/id/OIP.28u_4MdnP6rE7vHo3jUwLAHaE8?w=278&h=185&c=7&r=0&o=5&pid=1.7\n",
      "https://tse1.mm.bing.net/th/id/OIP.j37gNlMEIpQ4Ivt-Pq2Z9gHaE8?w=278&h=185&c=7&r=0&o=5&pid=1.7\n",
      "https://tse3.mm.bing.net/th/id/OIP.MwCiaVbPPHGcTwTiJJvaggHaEJ?w=329&h=185&c=7&r=0&o=5&pid=1.7\n",
      "https://tse2.mm.bing.net/th/id/OIP.1wK9LdD0lZOCeewA5EQZXAHaE7?w=278&h=185&c=7&r=0&o=5&pid=1.7\n",
      "https://tse1.mm.bing.net/th/id/OIP.0WPfAYStKriBzp2cB69vmAHaHa?w=186&h=185&c=7&r=0&o=5&pid=1.7\n",
      "https://tse1.mm.bing.net/th/id/OIP.yRgJ2cgbdDzdO-9Baq9-2gHaE8?w=319&h=180&c=7&r=0&o=5&pid=1.7\n",
      "https://tse2.mm.bing.net/th/id/OIP.eN1eyjUd5OQmonQy1ORsWgHaHa?w=174&h=180&c=7&r=0&o=5&pid=1.7\n",
      "https://tse1.mm.bing.net/th/id/OIP.FPYQN-SixCU_oIB_-2fF8QHaEK?w=308&h=180&c=7&r=0&o=5&pid=1.7\n",
      "https://tse2.mm.bing.net/th/id/OIP.NBH0gPePcpTjaEjumP-xlQHaE8?w=259&h=180&c=7&r=0&o=5&pid=1.7\n",
      "https://tse3.mm.bing.net/th/id/OIP.N5cg88QxU4SaeN2zRqreugHaE8?w=259&h=180&c=7&r=0&o=5&pid=1.7\n",
      "https://tse2.mm.bing.net/th/id/OIP.22NYP9tLCD9sMkoTlRp28QHaEJ?w=307&h=180&c=7&r=0&o=5&pid=1.7\n",
      "https://tse4.mm.bing.net/th/id/OIP.JeNOfZnN7d8C2p1qAaJRAAHaFj?w=197&h=180&c=7&r=0&o=5&pid=1.7\n",
      "https://tse1.mm.bing.net/th/id/OIP.geo_zhYh52KUKCbOk9310AHaEJ?w=264&h=180&c=7&r=0&o=5&pid=1.7\n",
      "https://tse2.mm.bing.net/th/id/OIP.pjDd9mLX4YxiVE8MYTj30AHaGJ?w=179&h=180&c=7&r=0&o=5&pid=1.7\n",
      "https://tse3.mm.bing.net/th/id/OIP.HI6lSk4LumduVHBeSqFGIQHaE8?w=221&h=180&c=7&r=0&o=5&pid=1.7\n",
      "https://tse3.mm.bing.net/th/id/OIP.7U-MuNgVCNGeHYpA-kMp8gHaEK?w=264&h=180&c=7&r=0&o=5&pid=1.7\n",
      "https://tse3.mm.bing.net/th/id/OIP.sU9yB239oblyIgjrGXBwMQHaF7?w=236&h=188&c=7&r=0&o=5&pid=1.7\n",
      "https://tse4.mm.bing.net/th/id/OIP.hT2314ZloPHzKMn2VaUDNAHaE7?w=276&h=184&c=7&r=0&o=5&pid=1.7\n",
      "https://tse1.mm.bing.net/th/id/OIP.4cIQf6Z8dARVg48om79MWgHaNK?w=115&h=184&c=7&r=0&o=5&pid=1.7\n"
     ]
    }
   ],
   "source": [
    "for idx, res_data in enumerate(tag_list):\n",
    "    val = ''\n",
    "    if res_data.get('src') is None:\n",
    "        print(res_data.get('data-src'))\n",
    "    else:\n",
    "        print(res_data.get('src'))\n",
    "        "
   ]
  },
  {
   "cell_type": "markdown",
   "metadata": {},
   "source": [
    "##### 이미지 저장\n",
    "- 시간 측정"
   ]
  },
  {
   "cell_type": "code",
   "execution_count": 30,
   "metadata": {},
   "outputs": [
    {
     "name": "stdout",
     "output_type": "stream",
     "text": [
      "saved by 0\n",
      "saved by 1\n",
      "saved by 2\n",
      "saved by 3\n",
      "saved by 4\n",
      "saved by 5\n",
      "saved by 6\n",
      "saved by 7\n",
      "saved by 8\n",
      "saved by 9\n",
      "saved by 10\n",
      "saved by 11\n",
      "saved by 12\n",
      "saved by 13\n",
      "saved by 14\n",
      "saved by 15\n",
      "saved by 16\n",
      "saved by 17\n",
      "saved by 18\n",
      "saved by 19\n",
      "saved by 20\n",
      "saved by 21\n",
      "saved by 22\n",
      "saved by 23\n",
      "saved by 24\n",
      "saved by 25\n",
      "saved by 26\n",
      "saved by 27\n",
      "saved by 28\n",
      "saved by 29\n",
      "time elapsed : 6.309060335159302 sec.\n"
     ]
    }
   ],
   "source": [
    "start_time = time.time()\n",
    "\n",
    "for idx, res_data in enumerate(tag_list):\n",
    "    if res_data.get('src') is None:\n",
    "        save_image(idx, res_data.get('data-src'))\n",
    "    else:\n",
    "        save_image(idx, res_data.get('src'))\n",
    "        \n",
    "end_time = time.time()\n",
    "print(f'time elapsed : {end_time - start_time} sec.')"
   ]
  },
  {
   "cell_type": "markdown",
   "metadata": {},
   "source": [
    "##### 총 6.3초 가량 소요"
   ]
  },
  {
   "cell_type": "markdown",
   "metadata": {},
   "source": [
    "### 병렬처리로 크롤링 시간 단축\n",
    "- thread 와 concurrent.futures 사용으로 병렬 처리\n",
    "\n",
    "#### Thread 사용으로 병렬처리"
   ]
  },
  {
   "cell_type": "markdown",
   "metadata": {},
   "source": [
    "#### 모듈 임포트"
   ]
  },
  {
   "cell_type": "code",
   "execution_count": 31,
   "metadata": {},
   "outputs": [],
   "source": [
    "import requests\n",
    "import threading    ## 스레드 추가\n",
    "import time\n",
    "from bs4 import BeautifulSoup"
   ]
  },
  {
   "cell_type": "markdown",
   "metadata": {},
   "source": [
    "##### 아래는 동일"
   ]
  },
  {
   "cell_type": "code",
   "execution_count": 34,
   "metadata": {},
   "outputs": [
    {
     "name": "stdout",
     "output_type": "stream",
     "text": [
      "saved by 1\n",
      "saved by 0\n",
      "saved by 8\n",
      "saved by 6\n",
      "saved by 21\n",
      "saved by 18\n",
      "saved by 17\n",
      "saved by 26\n",
      "saved by 22\n",
      "saved by 4\n",
      "saved by 2\n",
      "saved by 7\n",
      "saved by 13\n",
      "saved by 10\n",
      "saved by 5\n",
      "saved by 3\n",
      "saved by 9\n",
      "saved by 11\n",
      "saved by 14\n",
      "saved by 12\n",
      "saved by 15\n",
      "saved by 19\n",
      "saved by 20\n",
      "saved by 27\n",
      "saved by 23\n",
      "saved by 16\n",
      "saved by 24\n",
      "saved by 29\n",
      "saved by 25\n",
      "saved by 28\n",
      "time elapsed : 0.27315640449523926 sec.\n"
     ]
    }
   ],
   "source": [
    "start_time = time.time()\n",
    "thread_list = []\n",
    "\n",
    "for idx, res_data in enumerate(tag_list):\n",
    "    img_url = ''\n",
    "    if res_data.get('src') is None:\n",
    "        img_url = res_data.get('data-src')\n",
    "    else:\n",
    "        img_url = res_data.get('src')\n",
    "\n",
    "    thread_worker = threading.Thread(target=save_image, args=(idx, img_url))\n",
    "    thread_worker.start()\n",
    "    thread_list.append(thread_worker)\n",
    "\n",
    "for thread in thread_list:\n",
    "    thread.join()\n",
    "        \n",
    "end_time = time.time()\n",
    "print(f'time elapsed : {end_time - start_time} sec.')"
   ]
  },
  {
   "cell_type": "markdown",
   "metadata": {},
   "source": [
    "##### 총 0.5초 가량 소요"
   ]
  },
  {
   "cell_type": "markdown",
   "metadata": {},
   "source": [
    "#### concurrent.futures 사용으로 병렬 처리\n",
    "- concurrent.futures는 비동기 처리 고수준 인터페이스 모듈"
   ]
  },
  {
   "cell_type": "markdown",
   "metadata": {},
   "source": [
    "#### 모듈 임포트"
   ]
  },
  {
   "cell_type": "code",
   "execution_count": 35,
   "metadata": {},
   "outputs": [],
   "source": [
    "import requests\n",
    "import time\n",
    "from bs4 import BeautifulSoup\n",
    "from concurrent.futures import ThreadPoolExecutor"
   ]
  },
  {
   "cell_type": "code",
   "execution_count": 36,
   "metadata": {},
   "outputs": [
    {
     "name": "stdout",
     "output_type": "stream",
     "text": [
      "saved by 1\n",
      "saved by 5\n",
      "saved by 11\n",
      "saved by 3\n",
      "saved by 0\n",
      "saved by 2\n",
      "saved by 8\n",
      "saved by 16\n",
      "saved by 18\n",
      "saved by 19\n",
      "saved by 10\n",
      "saved by 4\n",
      "saved by 9\n",
      "saved by 14\n",
      "saved by 13\n",
      "saved by 7\n",
      "saved by 12\n",
      "saved by 6\n",
      "saved by 15\n",
      "saved by 20\n",
      "saved by 27\n",
      "saved by 17\n",
      "saved by 28\n",
      "saved by 22\n",
      "saved by 21\n",
      "saved by 23\n",
      "saved by 24\n",
      "saved by 25\n",
      "saved by 26\n",
      "saved by 29\n",
      "time elapsed : 0.4644143581390381 sec.\n"
     ]
    }
   ],
   "source": [
    "start_time = time.time()\n",
    "\n",
    "thread_list = []\n",
    "\n",
    "with ThreadPoolExecutor(max_workers=16) as executor:\n",
    "    for idx, res_data in enumerate(tag_list):\n",
    "        img_url = ''\n",
    "        if res_data.get('src') is None:\n",
    "            img_url = res_data.get('data-src')\n",
    "        else:\n",
    "            img_url = res_data.get('src')\n",
    "\n",
    "        executor.submit(save_image, idx, img_url)\n",
    "\n",
    "end_time = time.time()\n",
    "print(f'time elapsed : {end_time - start_time} sec.')"
   ]
  },
  {
   "cell_type": "markdown",
   "metadata": {},
   "source": [
    "##### 0.46초 소요"
   ]
  }
 ],
 "metadata": {
  "kernelspec": {
   "display_name": "analEnv",
   "language": "python",
   "name": "python3"
  },
  "language_info": {
   "codemirror_mode": {
    "name": "ipython",
    "version": 3
   },
   "file_extension": ".py",
   "mimetype": "text/x-python",
   "name": "python",
   "nbconvert_exporter": "python",
   "pygments_lexer": "ipython3",
   "version": "3.11.9"
  }
 },
 "nbformat": 4,
 "nbformat_minor": 2
}
