{
 "cells": [
  {
   "cell_type": "markdown",
   "metadata": {},
   "source": [
    "## 판다스 데이터 입출력\n",
    "\n",
    "### 판다스 데이터프레임 활용"
   ]
  },
  {
   "cell_type": "code",
   "execution_count": 3,
   "metadata": {},
   "outputs": [],
   "source": [
    "import pandas as pd\n",
    "from urllib import parse  # URL 인코딩 파싱용 추가"
   ]
  },
  {
   "cell_type": "markdown",
   "metadata": {},
   "source": [
    "#### 파일 다운로드 없이 csv파일 읽어오기"
   ]
  },
  {
   "cell_type": "code",
   "execution_count": 13,
   "metadata": {},
   "outputs": [
    {
     "data": {
      "text/plain": [
       "'https://raw.githubusercontent.com/hugoMGSung/works-need-it-data-analysis/refs/heads/main/bigdata-python-2023/Day03/%EC%B6%A9%EC%B2%AD%EB%B6%81%EB%8F%84_%ED%91%B8%EB%93%9C%EB%B1%85%ED%81%AC%ED%98%84%ED%99%A9.csv'"
      ]
     },
     "execution_count": 13,
     "metadata": {},
     "output_type": "execute_result"
    }
   ],
   "source": [
    "file_url = 'https://raw.githubusercontent.com/hugoMGSung/works-need-it-data-analysis/refs/heads/main/bigdata-python-2023/Day03/' + parse.quote('충청북도_푸드뱅크현황.csv')\n",
    "file_url            "
   ]
  },
  {
   "cell_type": "code",
   "execution_count": 17,
   "metadata": {},
   "outputs": [],
   "source": [
    "df_choonbook_food = pd.read_csv(filepath_or_buffer=file_url, encoding='utf-8')"
   ]
  },
  {
   "cell_type": "code",
   "execution_count": 19,
   "metadata": {},
   "outputs": [
    {
     "data": {
      "text/html": [
       "<div>\n",
       "<style scoped>\n",
       "    .dataframe tbody tr th:only-of-type {\n",
       "        vertical-align: middle;\n",
       "    }\n",
       "\n",
       "    .dataframe tbody tr th {\n",
       "        vertical-align: top;\n",
       "    }\n",
       "\n",
       "    .dataframe thead th {\n",
       "        text-align: right;\n",
       "    }\n",
       "</style>\n",
       "<table border=\"1\" class=\"dataframe\">\n",
       "  <thead>\n",
       "    <tr style=\"text-align: right;\">\n",
       "      <th></th>\n",
       "      <th>지역</th>\n",
       "      <th>시군구</th>\n",
       "      <th>센터단위</th>\n",
       "      <th>센터구분</th>\n",
       "      <th>지원센터</th>\n",
       "      <th>신고구분</th>\n",
       "      <th>운영단체명</th>\n",
       "      <th>운영법인분류(대)</th>\n",
       "      <th>대표자명</th>\n",
       "      <th>센터전화번호</th>\n",
       "      <th>주소</th>\n",
       "      <th>등록일자</th>\n",
       "    </tr>\n",
       "  </thead>\n",
       "  <tbody>\n",
       "    <tr>\n",
       "      <th>24</th>\n",
       "      <td>충북</td>\n",
       "      <td>충청북도 음성군</td>\n",
       "      <td>기초</td>\n",
       "      <td>푸드뱅크</td>\n",
       "      <td>한울사랑나눔</td>\n",
       "      <td>당연신고</td>\n",
       "      <td>한울사랑나눔푸드뱅크</td>\n",
       "      <td>개인 운영</td>\n",
       "      <td>이*경</td>\n",
       "      <td>043-878-4312</td>\n",
       "      <td>음성군 생극면 음성로 1620번길 7</td>\n",
       "      <td>2011-11-25</td>\n",
       "    </tr>\n",
       "    <tr>\n",
       "      <th>25</th>\n",
       "      <td>충북</td>\n",
       "      <td>충청북도 음성군</td>\n",
       "      <td>기초</td>\n",
       "      <td>푸드뱅크</td>\n",
       "      <td>관성푸드뱅크</td>\n",
       "      <td>당연신고</td>\n",
       "      <td>개인</td>\n",
       "      <td>개인 운영</td>\n",
       "      <td>유*호</td>\n",
       "      <td>043-877-9457</td>\n",
       "      <td>음성군 삼성면 대성로547번길 12</td>\n",
       "      <td>2014-04-18</td>\n",
       "    </tr>\n",
       "    <tr>\n",
       "      <th>26</th>\n",
       "      <td>충북</td>\n",
       "      <td>충청북도 단양군</td>\n",
       "      <td>기초</td>\n",
       "      <td>푸드뱅크</td>\n",
       "      <td>단양군푸드뱅크</td>\n",
       "      <td>임의신고</td>\n",
       "      <td>단양군사회복지협의회</td>\n",
       "      <td>법인 운영</td>\n",
       "      <td>김*학</td>\n",
       "      <td>043-422-1299</td>\n",
       "      <td>단양군 단양읍 수변로 83, 3층</td>\n",
       "      <td>2022-12-01</td>\n",
       "    </tr>\n",
       "    <tr>\n",
       "      <th>27</th>\n",
       "      <td>충북</td>\n",
       "      <td>충청북도 단양군</td>\n",
       "      <td>기초</td>\n",
       "      <td>푸드뱅크</td>\n",
       "      <td>단양나눔과기쁨</td>\n",
       "      <td>당연신고</td>\n",
       "      <td>기독교대한성결교회(단양수정교회)</td>\n",
       "      <td>법인 운영</td>\n",
       "      <td>함*용</td>\n",
       "      <td>043-421-3191</td>\n",
       "      <td>단양군 대강면 장림1길 6</td>\n",
       "      <td>2012-04-17</td>\n",
       "    </tr>\n",
       "    <tr>\n",
       "      <th>28</th>\n",
       "      <td>충북</td>\n",
       "      <td>충청북도 단양군</td>\n",
       "      <td>기초</td>\n",
       "      <td>푸드마켓</td>\n",
       "      <td>단양군푸드마켓</td>\n",
       "      <td>임의신고</td>\n",
       "      <td>단양군사회복지협의회</td>\n",
       "      <td>법인 운영</td>\n",
       "      <td>김*학</td>\n",
       "      <td>043-422-1700</td>\n",
       "      <td>단양군 단양읍 중앙1로 29, 1층</td>\n",
       "      <td>2012-06-22</td>\n",
       "    </tr>\n",
       "  </tbody>\n",
       "</table>\n",
       "</div>"
      ],
      "text/plain": [
       "    지역       시군구 센터단위  센터구분     지원센터  신고구분              운영단체명 운영법인분류(대) 대표자명  \\\n",
       "24  충북  충청북도 음성군   기초  푸드뱅크   한울사랑나눔  당연신고         한울사랑나눔푸드뱅크     개인 운영  이*경   \n",
       "25  충북  충청북도 음성군   기초  푸드뱅크   관성푸드뱅크  당연신고                 개인     개인 운영  유*호   \n",
       "26  충북  충청북도 단양군   기초  푸드뱅크  단양군푸드뱅크  임의신고         단양군사회복지협의회     법인 운영  김*학   \n",
       "27  충북  충청북도 단양군   기초  푸드뱅크  단양나눔과기쁨  당연신고  기독교대한성결교회(단양수정교회)     법인 운영  함*용   \n",
       "28  충북  충청북도 단양군   기초  푸드마켓  단양군푸드마켓  임의신고         단양군사회복지협의회     법인 운영  김*학   \n",
       "\n",
       "          센터전화번호                    주소        등록일자  \n",
       "24  043-878-4312  음성군 생극면 음성로 1620번길 7  2011-11-25  \n",
       "25  043-877-9457   음성군 삼성면 대성로547번길 12  2014-04-18  \n",
       "26  043-422-1299    단양군 단양읍 수변로 83, 3층  2022-12-01  \n",
       "27  043-421-3191        단양군 대강면 장림1길 6  2012-04-17  \n",
       "28  043-422-1700   단양군 단양읍 중앙1로 29, 1층  2012-06-22  "
      ]
     },
     "execution_count": 19,
     "metadata": {},
     "output_type": "execute_result"
    }
   ],
   "source": [
    "df_choonbook_food.tail()"
   ]
  },
  {
   "cell_type": "code",
   "execution_count": 22,
   "metadata": {},
   "outputs": [
    {
     "name": "stdout",
     "output_type": "stream",
     "text": [
      "<class 'pandas.core.frame.DataFrame'>\n",
      "RangeIndex: 29 entries, 0 to 28\n",
      "Data columns (total 12 columns):\n",
      " #   Column     Non-Null Count  Dtype \n",
      "---  ------     --------------  ----- \n",
      " 0   지역         29 non-null     object\n",
      " 1   시군구        29 non-null     object\n",
      " 2   센터단위       29 non-null     object\n",
      " 3   센터구분       29 non-null     object\n",
      " 4   지원센터       29 non-null     object\n",
      " 5   신고구분       29 non-null     object\n",
      " 6   운영단체명      29 non-null     object\n",
      " 7   운영법인분류(대)  29 non-null     object\n",
      " 8   대표자명       29 non-null     object\n",
      " 9   센터전화번호     29 non-null     object\n",
      " 10  주소         29 non-null     object\n",
      " 11  등록일자       29 non-null     object\n",
      "dtypes: object(12)\n",
      "memory usage: 2.8+ KB\n"
     ]
    }
   ],
   "source": [
    "## 데이터프레임의 기본정보\n",
    "df_choonbook_food.info()"
   ]
  },
  {
   "cell_type": "markdown",
   "metadata": {},
   "source": [
    "##### CSV 저장후\n",
    "- Preview로 엑셀처럼 보고자 하면 **확장** > Excel viewer를 설치"
   ]
  },
  {
   "cell_type": "code",
   "execution_count": 33,
   "metadata": {},
   "outputs": [],
   "source": [
    "## 저장 시 데이터프레임에서 만들어지는 index는 제거하는게 좋음\n",
    "## csv파일 encoding='euc-kr'로 저장하면 윈도우탐색기에서 엑셀로 파일을 열면 한글이 깨짐(!!)\n",
    "df_choonbook_food.to_csv('./data/충북푸드뱅크현황.csv', encoding='utf-8', index=False)"
   ]
  },
  {
   "cell_type": "markdown",
   "metadata": {},
   "source": [
    "##### 엑셀파일 로드, 저장 시 오류\n",
    "- openpyxl 모듈을 추가로 설치해야 함\n",
    "\n",
    "```shell\n",
    "!pip install openpyxl \n",
    "```"
   ]
  },
  {
   "cell_type": "code",
   "execution_count": 32,
   "metadata": {},
   "outputs": [],
   "source": [
    "df_choonbook_food.to_excel('./data/충북푸드뱅크현황.xlsx', index=False)"
   ]
  },
  {
   "cell_type": "markdown",
   "metadata": {},
   "source": [
    "#### 데이터포털 OpenAPI 활용\n",
    "1. https://data.go.kr 로그인\n",
    "2. 기상청 종관 ASOS 일별 관측자료 API를 활용신청"
   ]
  }
 ],
 "metadata": {
  "kernelspec": {
   "display_name": "Python 3",
   "language": "python",
   "name": "python3"
  },
  "language_info": {
   "codemirror_mode": {
    "name": "ipython",
    "version": 3
   },
   "file_extension": ".py",
   "mimetype": "text/x-python",
   "name": "python",
   "nbconvert_exporter": "python",
   "pygments_lexer": "ipython3",
   "version": "3.11.5"
  }
 },
 "nbformat": 4,
 "nbformat_minor": 2
}
