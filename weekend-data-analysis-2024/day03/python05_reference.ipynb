{
 "cells": [
  {
   "cell_type": "markdown",
   "metadata": {},
   "source": [
    "- https://github.com/hugoMGSung/works-need-it-data-analysis/blob/main/study_bigdata/day06/%EC%8A%A4%ED%83%80%EB%B2%85%EC%8A%A4_%EC%9D%B4%EB%94%94%EC%95%BC_%EB%A7%A4%EC%9E%A5_%EB%B6%84%EC%84%9D.ipynb\n",
    "\n",
    "- https://github.com/hugoMGSung/works-need-it-data-analysis/blob/main/bigdata-python-2023/Day12/py42_%EC%A0%84%EC%B2%98%EB%A6%AC%EB%B0%8F_%EC%8B%9C%EA%B0%81%ED%99%94.ipynb"
   ]
  },
  {
   "cell_type": "code",
   "execution_count": null,
   "metadata": {},
   "outputs": [],
   "source": []
  }
 ],
 "metadata": {
  "language_info": {
   "name": "python"
  }
 },
 "nbformat": 4,
 "nbformat_minor": 2
}
