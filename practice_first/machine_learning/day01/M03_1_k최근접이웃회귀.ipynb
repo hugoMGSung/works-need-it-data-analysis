{
 "cells": [
  {
   "cell_type": "markdown",
   "metadata": {},
   "source": [
    "### 사전준비"
   ]
  },
  {
   "cell_type": "code",
   "execution_count": 1,
   "metadata": {},
   "outputs": [],
   "source": [
    "# 기본 패키지 import\n",
    "import numpy as np\n",
    "import pandas as pd\n",
    "import scipy as sp\n",
    "\n",
    "import matplotlib as mpl\n",
    "import matplotlib.pyplot as plt\n",
    "import seaborn as sns"
   ]
  },
  {
   "cell_type": "code",
   "execution_count": 2,
   "metadata": {},
   "outputs": [],
   "source": [
    "# 한글 설정/차트 마이너스 깨짐현상 해결 / seaborn 화면설정\n",
    "from matplotlib import rc\n",
    "import matplotlib.font_manager as fm\n",
    "\n",
    "plt.rc('font', family='Malgun Gothic')\n",
    "sns.set(font='Malgun Gothic', rc={'axes.unicode_minus':False}, style='darkgrid')"
   ]
  },
  {
   "cell_type": "code",
   "execution_count": 3,
   "metadata": {},
   "outputs": [],
   "source": [
    "# 머신러닝 패키지 import\n",
    "import statsmodels.api as sm # 안쓸껄??\n",
    "import sklearn as sk"
   ]
  },
  {
   "cell_type": "markdown",
   "metadata": {},
   "source": [
    "##### 한글문제 여전히 발생  - 이 아래 두개의 쉘은 패스할 것 "
   ]
  },
  {
   "cell_type": "code",
   "execution_count": 4,
   "metadata": {},
   "outputs": [],
   "source": [
    "from matplotlib import rc\n",
    "import matplotlib as mpl\n",
    "import matplotlib.font_manager as fm\n",
    "import matplotlib.pyplot as plt\n",
    "\n",
    "font_path = 'C:/Windows/Fonts/malgun.ttf'\n",
    "font_name = fm.FontProperties(fname=font_path).get_name()\n",
    "rc('font', family=font_name)\n",
    "\n",
    "mpl.rcParams['axes.unicode_minus']=False\n",
    "\n",
    "plt.rc(\"font\", family = \"Malgun Gothic\")\n",
    "sns.set(font=\"Malgun Gothic\", rc={\"axes.unicode_minus\":False}, style='white')"
   ]
  },
  {
   "cell_type": "code",
   "execution_count": 5,
   "metadata": {},
   "outputs": [
    {
     "data": {
      "text/plain": [
       "['cmtt10',\n",
       " 'DejaVu Sans',\n",
       " 'STIXGeneral',\n",
       " 'DejaVu Sans Display',\n",
       " 'DejaVu Sans Mono',\n",
       " 'cmex10',\n",
       " 'DejaVu Serif',\n",
       " 'cmsy10',\n",
       " 'STIXGeneral',\n",
       " 'DejaVu Serif Display',\n",
       " 'cmss10',\n",
       " 'DejaVu Serif',\n",
       " 'DejaVu Sans',\n",
       " 'STIXNonUnicode',\n",
       " 'STIXNonUnicode',\n",
       " 'DejaVu Sans Mono',\n",
       " 'STIXNonUnicode',\n",
       " 'cmmi10',\n",
       " 'DejaVu Sans Mono',\n",
       " 'STIXSizeOneSym',\n",
       " 'DejaVu Serif',\n",
       " 'DejaVu Sans Mono',\n",
       " 'STIXSizeFiveSym',\n",
       " 'STIXSizeTwoSym',\n",
       " 'DejaVu Sans',\n",
       " 'STIXSizeFourSym',\n",
       " 'cmr10',\n",
       " 'STIXSizeThreeSym',\n",
       " 'STIXGeneral',\n",
       " 'STIXSizeTwoSym',\n",
       " 'STIXSizeOneSym',\n",
       " 'STIXSizeThreeSym',\n",
       " 'STIXSizeFourSym',\n",
       " 'DejaVu Sans',\n",
       " 'STIXNonUnicode',\n",
       " 'cmb10',\n",
       " 'DejaVu Serif',\n",
       " 'STIXGeneral',\n",
       " 'Myriad Arabic',\n",
       " 'MSugiJeong',\n",
       " 'Comic Sans MS',\n",
       " 'Tekton Pro',\n",
       " 'Adobe Caslon Pro',\n",
       " 'Myriad Hebrew',\n",
       " 'Lithos Pro',\n",
       " 'Blippo Blk BT',\n",
       " 'Cambria',\n",
       " 'Kozuka Mincho Pro',\n",
       " 'HYgsrB',\n",
       " 'Adobe Fangsong Std',\n",
       " 'Franklin Gothic Medium',\n",
       " 'Georgia',\n",
       " 'Microsoft New Tai Lue',\n",
       " 'Giddyup Std',\n",
       " 'Letter Gothic Std',\n",
       " '??????',\n",
       " 'HYcysM',\n",
       " 'MJemokGothic',\n",
       " 'Baskerville BT',\n",
       " 'Corbel',\n",
       " 'OCR A Std',\n",
       " 'Impact',\n",
       " 'BrushScript BT',\n",
       " 'Nueva Std',\n",
       " 'MDSol',\n",
       " 'Kozuka Gothic Pro',\n",
       " 'Verdana',\n",
       " 'Myriad Pro',\n",
       " 'Calibri',\n",
       " 'Franklin Gothic Medium',\n",
       " 'Myriad Pro',\n",
       " 'Adobe Caslon Pro',\n",
       " 'HYgtrE',\n",
       " 'Segoe Print',\n",
       " 'Mesquite Std',\n",
       " 'Orator Std',\n",
       " 'Webdings',\n",
       " 'HYbsrB',\n",
       " 'Candara',\n",
       " 'Adobe Caslon Pro',\n",
       " 'Calibri',\n",
       " 'Haansoft Dotum',\n",
       " 'Chaparral Pro',\n",
       " 'Yj TEUNTEUN Bold',\n",
       " 'MDAlong',\n",
       " 'CentSchbook BT',\n",
       " 'Adobe Myungjo Std',\n",
       " 'MDotum',\n",
       " 'Corbel',\n",
       " 'Gadugi',\n",
       " 'Chaparral Pro',\n",
       " '??????',\n",
       " 'Malgun Gothic',\n",
       " 'MJemokBatang',\n",
       " '????',\n",
       " 'Haan Cooljazz B',\n",
       " 'Arial',\n",
       " 'Poplar Std',\n",
       " 'NanumBarunpen',\n",
       " 'Nueva Std',\n",
       " 'Kozuka Mincho Pr6N',\n",
       " 'Yj DWMMOOGJO',\n",
       " 'GoudyOlSt BT',\n",
       " 'MurrayHill Bd BT',\n",
       " 'Adobe Devanagari',\n",
       " 'Times New Roman',\n",
       " 'Ebrima',\n",
       " 'Lucida Sans Unicode',\n",
       " 'Adobe Hebrew',\n",
       " 'Kozuka Mincho Pr6N',\n",
       " 'HCR Batang Ext',\n",
       " 'Nueva Std',\n",
       " 'HCR Dotum',\n",
       " '??????',\n",
       " 'Microsoft JhengHei',\n",
       " 'OCR-B-10 BT',\n",
       " 'Kozuka Gothic Pr6N',\n",
       " 'Myriad Pro',\n",
       " 'YJ INJANG Medium',\n",
       " 'Haan Baekje B',\n",
       " 'Kozuka Mincho Pr6N',\n",
       " 'Nirmala UI',\n",
       " 'Candara',\n",
       " 'Microsoft Himalaya',\n",
       " 'Mongolian Baiti',\n",
       " 'Nanum Brush Script',\n",
       " 'Adobe Arabic',\n",
       " 'Arial',\n",
       " 'Times New Roman',\n",
       " 'Constantia',\n",
       " 'GoudyOlSt BT',\n",
       " 'Candara',\n",
       " 'Minion Pro',\n",
       " 'Kozuka Gothic Pr6N',\n",
       " 'Trebuchet MS',\n",
       " 'Minion Pro',\n",
       " 'Calibri',\n",
       " 'Myanmar Text',\n",
       " 'Microsoft JhengHei',\n",
       " 'Haan Somang M',\n",
       " 'Cooper Blk BT',\n",
       " 'Haan Sollip M',\n",
       " 'BernhardFashion BT',\n",
       " 'Minion Pro',\n",
       " 'MS Gothic',\n",
       " 'Calibri',\n",
       " 'Arial',\n",
       " 'Palatino Linotype',\n",
       " 'HYsupB',\n",
       " 'MDGaesung',\n",
       " 'Yj GOTGAE Medium',\n",
       " 'Arial',\n",
       " 'Calibri',\n",
       " 'Myanmar Text',\n",
       " 'Myriad Pro',\n",
       " 'Yj CHMSOOT Bold',\n",
       " 'Orator10 BT',\n",
       " 'Kozuka Gothic Pr6N',\n",
       " '???',\n",
       " 'Adobe Gothic Std',\n",
       " 'HCR Dotum',\n",
       " 'Kozuka Mincho Pro',\n",
       " 'Lithos Pro',\n",
       " 'Yu Gothic',\n",
       " 'Segoe Script',\n",
       " 'ahn2006-B',\n",
       " 'Microsoft YaHei',\n",
       " 'Palatino Linotype',\n",
       " 'Lucida Console',\n",
       " 'Sitka Small',\n",
       " 'Minion Pro',\n",
       " 'Adobe Song Std',\n",
       " 'Nirmala UI',\n",
       " 'Rosewood Std',\n",
       " 'Adobe Ming Std',\n",
       " 'Calibri',\n",
       " 'Comic Sans MS',\n",
       " 'Yj SOSEL SemiBold',\n",
       " 'HYporM',\n",
       " 'Candara',\n",
       " '??????',\n",
       " 'HYmprL',\n",
       " 'Segoe UI',\n",
       " 'Myriad Arabic',\n",
       " 'Kozuka Mincho Pr6N',\n",
       " 'HoloLens MDL2 Assets',\n",
       " 'Candara',\n",
       " 'Haan Somang B',\n",
       " 'BroadwayEngraved BT',\n",
       " 'Yu Gothic',\n",
       " 'NanumBarunpen',\n",
       " 'Segoe UI',\n",
       " 'MGungJeong',\n",
       " '??????',\n",
       " 'Segoe UI',\n",
       " 'Haansoft Batang',\n",
       " 'GoudyOlSt BT',\n",
       " 'Minion Pro',\n",
       " 'Adobe Garamond Pro',\n",
       " 'Sitka Small',\n",
       " 'Palatino Linotype',\n",
       " 'MDEasop',\n",
       " 'Adobe Hebrew',\n",
       " 'Kozuka Gothic Pro',\n",
       " 'Segoe Script',\n",
       " 'Haan YHead M',\n",
       " 'Nueva Std',\n",
       " 'Courier New',\n",
       " 'Minion Pro',\n",
       " 'Verdana',\n",
       " 'HCR Batang',\n",
       " 'Courier New',\n",
       " 'Bodoni Bk BT',\n",
       " 'Adobe Arabic',\n",
       " 'Myriad Pro',\n",
       " 'Adobe Devanagari',\n",
       " 'Times New Roman',\n",
       " 'Leelawadee UI',\n",
       " 'Constantia',\n",
       " 'Stencil Std',\n",
       " 'Adobe Caslon Pro',\n",
       " 'SimSun',\n",
       " '??????',\n",
       " 'Myriad Pro',\n",
       " 'Palatino Linotype',\n",
       " 'Kozuka Mincho Pro',\n",
       " 'Adobe Fan Heiti Std',\n",
       " 'Microsoft PhagsPa',\n",
       " 'Kozuka Mincho Pro',\n",
       " 'Haan Cooljazz L',\n",
       " 'Comic Sans MS',\n",
       " 'FuturaBlack BT',\n",
       " 'Georgia',\n",
       " 'Microsoft New Tai Lue',\n",
       " 'Times New Roman',\n",
       " 'Bodoni Bd BT',\n",
       " 'Batang',\n",
       " 'Chaparral Pro',\n",
       " 'Courier10 BT',\n",
       " 'Corbel',\n",
       " 'Ink Free',\n",
       " 'Haan YGodic 240',\n",
       " 'HYbdaM',\n",
       " 'HYnamM',\n",
       " 'CentSchbook BT',\n",
       " 'Haan Sollip B',\n",
       " 'Letter Gothic Std',\n",
       " 'Ebrima',\n",
       " 'Cooper Blk BT',\n",
       " 'HyhwpEQ',\n",
       " '????',\n",
       " 'HYkanM',\n",
       " 'Myriad Hebrew',\n",
       " 'HYdnkB',\n",
       " 'Charlemagne Std',\n",
       " 'MGungHeulim',\n",
       " 'ahn2006-L',\n",
       " 'Segoe UI',\n",
       " 'Symbol',\n",
       " 'Hobo Std',\n",
       " 'Microsoft PhagsPa',\n",
       " 'Haan Sale B',\n",
       " 'Tekton Pro',\n",
       " 'Myriad Pro',\n",
       " 'Haan YHead L',\n",
       " 'Letter Gothic Std',\n",
       " 'HYwulM',\n",
       " 'HCR Dotum Ext',\n",
       " 'Minion Pro',\n",
       " 'Kozuka Gothic Pro',\n",
       " 'Bodoni Bk BT',\n",
       " 'Microsoft YaHei',\n",
       " 'Kozuka Mincho Pro',\n",
       " 'Yj MAEHWA  SemiBold',\n",
       " 'Malgun Gothic',\n",
       " 'HYgprM',\n",
       " 'Haan YHead B',\n",
       " 'Kozuka Mincho Pr6N',\n",
       " 'Letter Gothic Std',\n",
       " 'Trajan Pro',\n",
       " 'Haan Sale M',\n",
       " 'Haan YGodic 250',\n",
       " 'Adobe Heiti Std',\n",
       " 'Corbel',\n",
       " 'Cambria',\n",
       " 'Sitka Small',\n",
       " 'HYsnrL',\n",
       " 'Nueva Std',\n",
       " 'Verdana',\n",
       " 'Minion Pro',\n",
       " 'Cambria',\n",
       " 'Segoe MDL2 Assets',\n",
       " 'Kozuka Gothic Pr6N',\n",
       " 'Yj NANCHO Medium',\n",
       " 'Arial',\n",
       " 'Segoe UI',\n",
       " 'Haan YGodic 230',\n",
       " 'Adobe Hebrew',\n",
       " 'Orbit-B BT',\n",
       " 'Segoe UI Historic',\n",
       " 'Trebuchet MS',\n",
       " 'Myriad Arabic',\n",
       " 'Kozuka Gothic Pro',\n",
       " 'Orator Std',\n",
       " 'Corbel',\n",
       " 'Microsoft Sans Serif',\n",
       " 'Consolas',\n",
       " 'Adobe Garamond Pro',\n",
       " 'HYsanB',\n",
       " 'Haan Cooljazz M',\n",
       " 'Myriad Pro',\n",
       " 'Myriad Hebrew',\n",
       " 'Courier New',\n",
       " 'Brush Script Std',\n",
       " 'Malgun Gothic',\n",
       " 'HYwulB',\n",
       " 'Kozuka Gothic Pro',\n",
       " 'Microsoft Yi Baiti',\n",
       " 'Bahnschrift',\n",
       " 'Chaparral Pro',\n",
       " 'Segoe UI',\n",
       " 'Adobe Devanagari',\n",
       " 'OCR-A BT',\n",
       " 'SimSun-ExtB',\n",
       " 'Comic Sans MS',\n",
       " 'Segoe UI Emoji',\n",
       " 'Microsoft YaHei',\n",
       " 'Gulim',\n",
       " 'Yu Gothic',\n",
       " 'Newtext Bk BT',\n",
       " 'Yj WADAG Medium',\n",
       " 'Birch Std',\n",
       " 'Yj GABI',\n",
       " 'MBatang',\n",
       " 'Yj BONMOKGAK Medium ',\n",
       " 'Myriad Pro',\n",
       " 'Trebuchet MS',\n",
       " 'HYkanB',\n",
       " 'Microsoft JhengHei',\n",
       " 'Liberty BT',\n",
       " 'Yj INITIALPOSITIVE Medium',\n",
       " 'Swis721 BT',\n",
       " '??????',\n",
       " 'Gadugi',\n",
       " 'Myriad Pro',\n",
       " 'Yj SHANALL Medium ',\n",
       " 'MDArt',\n",
       " 'Kozuka Gothic Pro',\n",
       " 'Segoe UI',\n",
       " 'Cambria',\n",
       " 'Nirmala UI',\n",
       " 'Adobe Arabic',\n",
       " 'Leelawadee UI',\n",
       " 'Tekton Pro',\n",
       " 'Freehand591 BT',\n",
       " 'Microsoft Tai Le',\n",
       " 'Adobe Naskh',\n",
       " 'Prestige Elite Std',\n",
       " 'GoudyOlSt BT',\n",
       " 'Tekton Pro',\n",
       " 'AmeriGarmnd BT',\n",
       " 'Segoe UI',\n",
       " 'Adobe Garamond Pro',\n",
       " 'Consolas',\n",
       " 'Myriad Arabic',\n",
       " 'Wingdings',\n",
       " 'Courier10 BT',\n",
       " 'MSugiHeulim',\n",
       " 'DomCasual BT',\n",
       " 'Segoe UI',\n",
       " 'Swis721 BT',\n",
       " 'AmeriGarmnd BT',\n",
       " 'Minion Pro',\n",
       " 'Georgia',\n",
       " 'Trebuchet MS',\n",
       " 'Javanese Text',\n",
       " 'ahn2006-M',\n",
       " 'Verdana',\n",
       " 'Cooper Std',\n",
       " 'Stencil BT',\n",
       " 'Yj BUTGOT Light ',\n",
       " 'Haan Baekje M',\n",
       " 'HYbdaL',\n",
       " 'HYnamB',\n",
       " 'Leelawadee UI',\n",
       " 'Trajan Pro',\n",
       " 'Candara',\n",
       " 'Segoe Print',\n",
       " 'Segoe UI',\n",
       " 'Kozuka Mincho Pro',\n",
       " 'NewJumja',\n",
       " 'Sitka Small',\n",
       " 'MingLiU-ExtB',\n",
       " 'Yj BACDOO Bold ',\n",
       " 'Kozuka Gothic Pr6N',\n",
       " 'Myriad Hebrew',\n",
       " 'Consolas',\n",
       " 'HCR Batang',\n",
       " 'Microsoft Tai Le',\n",
       " 'Segoe UI',\n",
       " 'MV Boli',\n",
       " 'HYsupM',\n",
       " 'AmeriGarmnd BT',\n",
       " 'Constantia',\n",
       " 'Kozuka Mincho Pr6N',\n",
       " 'Adobe Caslon Pro',\n",
       " 'Courier New',\n",
       " 'Hobo BT',\n",
       " 'Bodoni Bd BT',\n",
       " 'Marlett',\n",
       " 'Consolas',\n",
       " 'Yu Gothic',\n",
       " 'Yj BLOCK Medium',\n",
       " 'Georgia',\n",
       " 'Yj DOOLGI Medium',\n",
       " 'Tahoma',\n",
       " 'Corbel',\n",
       " 'Tahoma',\n",
       " 'Minion Pro',\n",
       " 'Blackoak Std',\n",
       " '??????',\n",
       " 'HYnamL',\n",
       " 'Kozuka Gothic Pr6N',\n",
       " 'Chaparral Pro',\n",
       " 'MHunmin',\n",
       " 'CentSchbook BT',\n",
       " 'Gabriola',\n",
       " 'Nueva Std',\n",
       " 'Adobe Garamond Pro',\n",
       " 'HYmjrE',\n",
       " 'HYhaeseo',\n",
       " 'Segoe UI Symbol',\n",
       " 'YJ BELLA Medium',\n",
       " '? ??',\n",
       " 'FZSong_Superfont',\n",
       " 'Adobe Caslon Pro',\n",
       " 'Constantia',\n",
       " 'CentSchbook BT',\n",
       " 'ParkAvenue BT',\n",
       " 'HYdnkM',\n",
       " 'Adobe Hebrew',\n",
       " 'CommercialScript BT',\n",
       " 'Cooper Std',\n",
       " '????',\n",
       " 'HYtbrB',\n",
       " '??????',\n",
       " 'Adobe Arabic',\n",
       " 'Sylfaen',\n",
       " 'Segoe UI',\n",
       " 'Adobe Kaiti Std',\n",
       " 'AmeriGarmnd BT',\n",
       " 'Adobe Devanagari']"
      ]
     },
     "execution_count": 5,
     "metadata": {},
     "output_type": "execute_result"
    }
   ],
   "source": [
    "import matplotlib.font_manager as fm\n",
    "\n",
    "# 설치된 폰트 출력\n",
    "font_list = [font.name for font in fm.fontManager.ttflist]\n",
    "font_list"
   ]
  },
  {
   "cell_type": "markdown",
   "metadata": {},
   "source": [
    "## k-최근접 이웃 회귀\n",
    "\n",
    "### 데이터 준비"
   ]
  },
  {
   "cell_type": "code",
   "execution_count": 6,
   "metadata": {},
   "outputs": [],
   "source": [
    "import numpy as np\n",
    "import matplotlib.pyplot as plt\n",
    "import seaborn as sns"
   ]
  },
  {
   "cell_type": "code",
   "execution_count": 7,
   "metadata": {},
   "outputs": [],
   "source": [
    "perch_length = np.array(\n",
    "    [8.4, 13.7, 15.0, 16.2, 17.4, 18.0, 18.7, 19.0, 19.6, 20.0, \n",
    "     21.0, 21.0, 21.0, 21.3, 22.0, 22.0, 22.0, 22.0, 22.0, 22.5, \n",
    "     22.5, 22.7, 23.0, 23.5, 24.0, 24.0, 24.6, 25.0, 25.6, 26.5, \n",
    "     27.3, 27.5, 27.5, 27.5, 28.0, 28.7, 30.0, 32.8, 34.5, 35.0, \n",
    "     36.5, 36.0, 37.0, 37.0, 39.0, 39.0, 39.0, 40.0, 40.0, 40.0, \n",
    "     40.0, 42.0, 43.0, 43.0, 43.5, 44.0]\n",
    "     )\n",
    "perch_weight = np.array(\n",
    "    [5.9, 32.0, 40.0, 51.5, 70.0, 100.0, 78.0, 80.0, 85.0, 85.0, \n",
    "     110.0, 115.0, 125.0, 130.0, 120.0, 120.0, 130.0, 135.0, 110.0, \n",
    "     130.0, 150.0, 145.0, 150.0, 170.0, 225.0, 145.0, 188.0, 180.0, \n",
    "     197.0, 218.0, 300.0, 260.0, 265.0, 250.0, 250.0, 300.0, 320.0, \n",
    "     514.0, 556.0, 840.0, 685.0, 700.0, 700.0, 690.0, 900.0, 650.0, \n",
    "     820.0, 850.0, 900.0, 1015.0, 820.0, 1100.0, 1000.0, 1100.0, \n",
    "     1000.0, 1000.0]\n",
    "     )"
   ]
  },
  {
   "cell_type": "code",
   "execution_count": 8,
   "metadata": {},
   "outputs": [
    {
     "data": {
      "image/png": "[encoded data removed]",
      "text/plain": [
       "<Figure size 720x360 with 1 Axes>"
      ]
     },
     "metadata": {
      "needs_background": "light"
     },
     "output_type": "display_data"
    }
   ],
   "source": [
    "plt.figure(figsize=(10, 5))\n",
    "plt.scatter(perch_length, perch_weight)\n",
    "plt.title('생선 데이터')\n",
    "plt.xlabel('길이')\n",
    "plt.ylabel('무게')\n",
    "plt.show()"
   ]
  },
  {
   "cell_type": "code",
   "execution_count": 9,
   "metadata": {},
   "outputs": [],
   "source": [
    "from sklearn.model_selection import train_test_split"
   ]
  },
  {
   "cell_type": "code",
   "execution_count": 10,
   "metadata": {},
   "outputs": [],
   "source": [
    "train_input, test_input, train_target, test_target = train_test_split(\n",
    "    perch_length, perch_weight, random_state=42)"
   ]
  },
  {
   "cell_type": "code",
   "execution_count": 11,
   "metadata": {},
   "outputs": [
    {
     "name": "stdout",
     "output_type": "stream",
     "text": [
      "(42,) (14,)\n"
     ]
    }
   ],
   "source": [
    "print(train_input.shape, test_input.shape)"
   ]
  },
  {
   "cell_type": "code",
   "execution_count": 12,
   "metadata": {},
   "outputs": [
    {
     "name": "stdout",
     "output_type": "stream",
     "text": [
      "(4,)\n"
     ]
    }
   ],
   "source": [
    "test_array = np.array([1,2,3,4])\n",
    "print(test_array.shape)"
   ]
  },
  {
   "cell_type": "code",
   "execution_count": 13,
   "metadata": {},
   "outputs": [
    {
     "name": "stdout",
     "output_type": "stream",
     "text": [
      "(2, 2)\n"
     ]
    }
   ],
   "source": [
    "test_array = test_array.reshape(2, 2)\n",
    "print(test_array.shape)"
   ]
  },
  {
   "cell_type": "code",
   "execution_count": 14,
   "metadata": {},
   "outputs": [],
   "source": [
    "# 아래 코드의 주석을 제거하고 실행하면 에러가 발생합니다\n",
    "# test_array = test_array.reshape(2, 3)"
   ]
  },
  {
   "cell_type": "code",
   "execution_count": 15,
   "metadata": {},
   "outputs": [],
   "source": [
    "train_input = train_input.reshape(-1, 1)\n",
    "test_input = test_input.reshape(-1, 1)"
   ]
  },
  {
   "cell_type": "code",
   "execution_count": 16,
   "metadata": {},
   "outputs": [
    {
     "name": "stdout",
     "output_type": "stream",
     "text": [
      "(42, 1) (14, 1)\n"
     ]
    }
   ],
   "source": [
    "print(train_input.shape, test_input.shape)"
   ]
  },
  {
   "cell_type": "markdown",
   "metadata": {},
   "source": [
    "### 결정 계수 ($ R^2$)"
   ]
  },
  {
   "cell_type": "code",
   "execution_count": 17,
   "metadata": {},
   "outputs": [],
   "source": [
    "from sklearn.neighbors import KNeighborsRegressor"
   ]
  },
  {
   "cell_type": "code",
   "execution_count": 18,
   "metadata": {},
   "outputs": [
    {
     "data": {
      "text/html": [
       "<style>#sk-container-id-1 {color: black;background-color: white;}#sk-container-id-1 pre{padding: 0;}#sk-container-id-1 div.sk-toggleable {background-color: white;}#sk-container-id-1 label.sk-toggleable__label {cursor: pointer;display: block;width: 100%;margin-bottom: 0;padding: 0.3em;box-sizing: border-box;text-align: center;}#sk-container-id-1 label.sk-toggleable__label-arrow:before {content: \"▸\";float: left;margin-right: 0.25em;color: #696969;}#sk-container-id-1 label.sk-toggleable__label-arrow:hover:before {color: black;}#sk-container-id-1 div.sk-estimator:hover label.sk-toggleable__label-arrow:before {color: black;}#sk-container-id-1 div.sk-toggleable__content {max-height: 0;max-width: 0;overflow: hidden;text-align: left;background-color: #f0f8ff;}#sk-container-id-1 div.sk-toggleable__content pre {margin: 0.2em;color: black;border-radius: 0.25em;background-color: #f0f8ff;}#sk-container-id-1 input.sk-toggleable__control:checked~div.sk-toggleable__content {max-height: 200px;max-width: 100%;overflow: auto;}#sk-container-id-1 input.sk-toggleable__control:checked~label.sk-toggleable__label-arrow:before {content: \"▾\";}#sk-container-id-1 div.sk-estimator input.sk-toggleable__control:checked~label.sk-toggleable__label {background-color: #d4ebff;}#sk-container-id-1 div.sk-label input.sk-toggleable__control:checked~label.sk-toggleable__label {background-color: #d4ebff;}#sk-container-id-1 input.sk-hidden--visually {border: 0;clip: rect(1px 1px 1px 1px);clip: rect(1px, 1px, 1px, 1px);height: 1px;margin: -1px;overflow: hidden;padding: 0;position: absolute;width: 1px;}#sk-container-id-1 div.sk-estimator {font-family: monospace;background-color: #f0f8ff;border: 1px dotted black;border-radius: 0.25em;box-sizing: border-box;margin-bottom: 0.5em;}#sk-container-id-1 div.sk-estimator:hover {background-color: #d4ebff;}#sk-container-id-1 div.sk-parallel-item::after {content: \"\";width: 100%;border-bottom: 1px solid gray;flex-grow: 1;}#sk-container-id-1 div.sk-label:hover label.sk-toggleable__label {background-color: #d4ebff;}#sk-container-id-1 div.sk-serial::before {content: \"\";position: absolute;border-left: 1px solid gray;box-sizing: border-box;top: 0;bottom: 0;left: 50%;z-index: 0;}#sk-container-id-1 div.sk-serial {display: flex;flex-direction: column;align-items: center;background-color: white;padding-right: 0.2em;padding-left: 0.2em;position: relative;}#sk-container-id-1 div.sk-item {position: relative;z-index: 1;}#sk-container-id-1 div.sk-parallel {display: flex;align-items: stretch;justify-content: center;background-color: white;position: relative;}#sk-container-id-1 div.sk-item::before, #sk-container-id-1 div.sk-parallel-item::before {content: \"\";position: absolute;border-left: 1px solid gray;box-sizing: border-box;top: 0;bottom: 0;left: 50%;z-index: -1;}#sk-container-id-1 div.sk-parallel-item {display: flex;flex-direction: column;z-index: 1;position: relative;background-color: white;}#sk-container-id-1 div.sk-parallel-item:first-child::after {align-self: flex-end;width: 50%;}#sk-container-id-1 div.sk-parallel-item:last-child::after {align-self: flex-start;width: 50%;}#sk-container-id-1 div.sk-parallel-item:only-child::after {width: 0;}#sk-container-id-1 div.sk-dashed-wrapped {border: 1px dashed gray;margin: 0 0.4em 0.5em 0.4em;box-sizing: border-box;padding-bottom: 0.4em;background-color: white;}#sk-container-id-1 div.sk-label label {font-family: monospace;font-weight: bold;display: inline-block;line-height: 1.2em;}#sk-container-id-1 div.sk-label-container {text-align: center;}#sk-container-id-1 div.sk-container {/* jupyter's `normalize.less` sets `[hidden] { display: none; }` but bootstrap.min.css set `[hidden] { display: none !important; }` so we also need the `!important` here to be able to override the default hidden behavior on the sphinx rendered scikit-learn.org. See: https://github.com/scikit-learn/scikit-learn/issues/21755 */display: inline-block !important;position: relative;}#sk-container-id-1 div.sk-text-repr-fallback {display: none;}</style><div id=\"sk-container-id-1\" class=\"sk-top-container\"><div class=\"sk-text-repr-fallback\"><pre>KNeighborsRegressor()</pre><b>In a Jupyter environment, please rerun this cell to show the HTML representation or trust the notebook. <br />On GitHub, the HTML representation is unable to render, please try loading this page with nbviewer.org.</b></div><div class=\"sk-container\" hidden><div class=\"sk-item\"><div class=\"sk-estimator sk-toggleable\"><input class=\"sk-toggleable__control sk-hidden--visually\" id=\"sk-estimator-id-1\" type=\"checkbox\" checked><label for=\"sk-estimator-id-1\" class=\"sk-toggleable__label sk-toggleable__label-arrow\">KNeighborsRegressor</label><div class=\"sk-toggleable__content\"><pre>KNeighborsRegressor()</pre></div></div></div></div></div>"
      ],
      "text/plain": [
       "KNeighborsRegressor()"
      ]
     },
     "execution_count": 18,
     "metadata": {},
     "output_type": "execute_result"
    }
   ],
   "source": [
    "knr = KNeighborsRegressor()\n",
    "# k-최근접 이웃 회귀 모델을 훈련합니다\n",
    "knr.fit(train_input, train_target)"
   ]
  },
  {
   "cell_type": "code",
   "execution_count": 19,
   "metadata": {},
   "outputs": [
    {
     "data": {
      "text/plain": [
       "0.992809406101064"
      ]
     },
     "execution_count": 19,
     "metadata": {},
     "output_type": "execute_result"
    }
   ],
   "source": [
    "knr.score(test_input, test_target)"
   ]
  },
  {
   "cell_type": "code",
   "execution_count": 20,
   "metadata": {},
   "outputs": [],
   "source": [
    "from sklearn.metrics import mean_absolute_error"
   ]
  },
  {
   "cell_type": "code",
   "execution_count": 21,
   "metadata": {},
   "outputs": [
    {
     "name": "stdout",
     "output_type": "stream",
     "text": [
      "19.157142857142862\n"
     ]
    }
   ],
   "source": [
    "# 테스트 세트에 대한 예측을 만듭니다\n",
    "test_prediction = knr.predict(test_input)\n",
    "# 테스트 세트에 대한 평균 절댓값 오차를 계산합니다\n",
    "mae = mean_absolute_error(test_target, test_prediction)\n",
    "print(mae)"
   ]
  },
  {
   "cell_type": "markdown",
   "metadata": {},
   "source": [
    "### 과대적합 vs 과소적합"
   ]
  },
  {
   "cell_type": "code",
   "execution_count": 22,
   "metadata": {},
   "outputs": [
    {
     "name": "stdout",
     "output_type": "stream",
     "text": [
      "0.9698823289099254\n"
     ]
    }
   ],
   "source": [
    "print(knr.score(train_input, train_target))"
   ]
  },
  {
   "cell_type": "code",
   "execution_count": 23,
   "metadata": {},
   "outputs": [
    {
     "name": "stdout",
     "output_type": "stream",
     "text": [
      "0.9804899950518966\n"
     ]
    }
   ],
   "source": [
    "# 이웃의 갯수를 3으로 설정합니다\n",
    "knr.n_neighbors = 3\n",
    "# 모델을 다시 훈련합니다\n",
    "knr.fit(train_input, train_target)\n",
    "print(knr.score(train_input, train_target))"
   ]
  },
  {
   "cell_type": "code",
   "execution_count": 24,
   "metadata": {},
   "outputs": [
    {
     "name": "stdout",
     "output_type": "stream",
     "text": [
      "0.9746459963987609\n"
     ]
    }
   ],
   "source": [
    "print(knr.score(test_input, test_target))"
   ]
  },
  {
   "cell_type": "code",
   "execution_count": 25,
   "metadata": {},
   "outputs": [
    {
     "data": {
      "image/png": "[encoded data removed]",
      "text/plain": [
       "<Figure size 720x360 with 1 Axes>"
      ]
     },
     "metadata": {
      "needs_background": "light"
     },
     "output_type": "display_data"
    },
    {
     "data": {
      "image/png": "[encoded data removed]",
      "text/plain": [
       "<Figure size 720x360 with 1 Axes>"
      ]
     },
     "metadata": {
      "needs_background": "light"
     },
     "output_type": "display_data"
    },
    {
     "data": {
      "image/png": "[encoded data removed]",
      "text/plain": [
       "<Figure size 720x360 with 1 Axes>"
      ]
     },
     "metadata": {
      "needs_background": "light"
     },
     "output_type": "display_data"
    }
   ],
   "source": [
    "# k-최근접 이웃 회귀 객체를 만듭니다\n",
    "knr = KNeighborsRegressor()\n",
    "# 5에서 45까지 x 좌표를 만듭니다\n",
    "x = np.arange(5, 45).reshape(-1, 1)\n",
    "\n",
    "# n = 1, 5, 10일 때 예측 결과를 그래프로 그립니다.\n",
    "for n in [1, 5, 10]:\n",
    "    # 모델 훈련\n",
    "    knr.n_neighbors = n\n",
    "    knr.fit(train_input, train_target)\n",
    "    # 지정한 범위 x에 대한 예측 구하기 \n",
    "    prediction = knr.predict(x)\n",
    "    # 훈련 세트와 예측 결과 그래프 그리기\n",
    "    plt.figure(figsize=(10, 5))\n",
    "    plt.scatter(train_input, train_target)\n",
    "    plt.plot(x, prediction, color='orange')\n",
    "    plt.title('n_neighbors = {}'.format(n))    \n",
    "    plt.xlabel('길이')\n",
    "    plt.ylabel('무게')\n",
    "    plt.show()"
   ]
  }
 ],
 "metadata": {
  "kernelspec": {
   "display_name": "Python 3.10.5 64-bit",
   "language": "python",
   "name": "python3"
  },
  "language_info": {
   "codemirror_mode": {
    "name": "ipython",
    "version": 3
   },
   "file_extension": ".py",
   "mimetype": "text/x-python",
   "name": "python",
   "nbconvert_exporter": "python",
   "pygments_lexer": "ipython3",
   "version": "3.10.5"
  },
  "orig_nbformat": 4,
  "vscode": {
   "interpreter": {
    "hash": "fe3d9237b4a62cd7715eb234158a07f236d8efc42b8ea743ee7cae33e0917df2"
   }
  }
 },
 "nbformat": 4,
 "nbformat_minor": 2
}
