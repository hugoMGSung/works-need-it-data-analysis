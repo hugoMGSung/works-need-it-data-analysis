{
 "cells": [
  {
   "cell_type": "markdown",
   "metadata": {},
   "source": [
    "### 사전준비"
   ]
  },
  {
   "cell_type": "code",
   "execution_count": 1,
   "metadata": {},
   "outputs": [],
   "source": [
    "# 기본 패키지 import\n",
    "import numpy as np\n",
    "import pandas as pd\n",
    "import scipy as sp\n",
    "\n",
    "import matplotlib as mpl\n",
    "import matplotlib.pyplot as plt\n",
    "import seaborn as sns"
   ]
  },
  {
   "cell_type": "code",
   "execution_count": 2,
   "metadata": {},
   "outputs": [],
   "source": [
    "# 한글 설정/차트 마이너스 깨짐현상 해결 / seaborn 화면설정\n",
    "from matplotlib import rc\n",
    "import matplotlib.font_manager as fm\n",
    "\n",
    "plt.rc('font', family='Malgun Gothic')\n",
    "sns.set(font='Malgun Gothic', rc={'axes.unicode_minus':False}, style='darkgrid')"
   ]
  },
  {
   "cell_type": "code",
   "execution_count": 3,
   "metadata": {},
   "outputs": [],
   "source": [
    "# 머신러닝 패키지 import\n",
    "import statsmodels.api as sm # 안쓸껄??\n",
    "import sklearn as sk"
   ]
  },
  {
   "cell_type": "markdown",
   "metadata": {},
   "source": [
    "##### 한글문제 여전히 발생  - 이 아래 두개의 쉘은 패스할 것 "
   ]
  },
  {
   "cell_type": "code",
   "execution_count": 33,
   "metadata": {},
   "outputs": [],
   "source": [
    "from matplotlib import rc\n",
    "import matplotlib as mpl\n",
    "import matplotlib.font_manager as fm\n",
    "import matplotlib.pyplot as plt\n",
    "\n",
    "font_path = 'C:/Windows/Fonts/malgun.ttf'\n",
    "font_name = fm.FontProperties(fname=font_path).get_name()\n",
    "rc('font', family=font_name)\n",
    "\n",
    "mpl.rcParams['axes.unicode_minus']=False\n",
    "\n",
    "plt.rc(\"font\", family = \"Malgun Gothic\")\n",
    "sns.set(font=\"Malgun Gothic\", rc={\"axes.unicode_minus\":False}, style='white')"
   ]
  },
  {
   "cell_type": "code",
   "execution_count": 6,
   "metadata": {},
   "outputs": [
    {
     "data": {
      "text/plain": [
       "['DejaVu Sans',\n",
       " 'DejaVu Serif',\n",
       " 'STIXSizeTwoSym',\n",
       " 'DejaVu Sans Display',\n",
       " 'STIXSizeTwoSym',\n",
       " 'STIXSizeOneSym',\n",
       " 'DejaVu Sans',\n",
       " 'STIXGeneral',\n",
       " 'DejaVu Sans',\n",
       " 'DejaVu Sans Mono',\n",
       " 'cmr10',\n",
       " 'DejaVu Serif',\n",
       " 'cmsy10',\n",
       " 'DejaVu Sans',\n",
       " 'DejaVu Serif Display',\n",
       " 'STIXSizeOneSym',\n",
       " 'cmss10',\n",
       " 'cmex10',\n",
       " 'STIXNonUnicode',\n",
       " 'DejaVu Sans Mono',\n",
       " 'STIXSizeFourSym',\n",
       " 'cmmi10',\n",
       " 'DejaVu Sans Mono',\n",
       " 'STIXNonUnicode',\n",
       " 'cmb10',\n",
       " 'STIXSizeThreeSym',\n",
       " 'DejaVu Serif',\n",
       " 'STIXSizeFiveSym',\n",
       " 'STIXGeneral',\n",
       " 'STIXNonUnicode',\n",
       " 'STIXSizeThreeSym',\n",
       " 'DejaVu Sans Mono',\n",
       " 'STIXGeneral',\n",
       " 'STIXSizeFourSym',\n",
       " 'DejaVu Serif',\n",
       " 'STIXNonUnicode',\n",
       " 'cmtt10',\n",
       " 'STIXGeneral',\n",
       " 'Lucida Sans Unicode',\n",
       " 'Han Santteut Dotum',\n",
       " 'NanumMyeongjo Eco',\n",
       " 'Times New Roman',\n",
       " 'Calibri',\n",
       " 'Candara',\n",
       " 'NanumGothicCoding',\n",
       " 'Candara',\n",
       " 'MingLiU-ExtB',\n",
       " 'HYHeadLine-Medium',\n",
       " 'NanumSquare',\n",
       " 'Han Santteut Dotum',\n",
       " 'NanumMyeongjo Eco',\n",
       " 'Wingdings',\n",
       " 'Dubai',\n",
       " 'Ebrima',\n",
       " 'Century Gothic',\n",
       " 'HoloLens MDL2 Assets',\n",
       " 'NanumSquare',\n",
       " 'Microsoft Himalaya',\n",
       " 'Arial',\n",
       " 'Candara',\n",
       " 'Arial',\n",
       " 'HYPost-Medium',\n",
       " 'NanumBarunGothic',\n",
       " 'Microsoft YaHei',\n",
       " 'NanumSquare_ac',\n",
       " 'Microsoft New Tai Lue',\n",
       " 'Hancom Gothic',\n",
       " 'Microsoft PhagsPa',\n",
       " 'NanumSquare',\n",
       " 'Myanmar Text',\n",
       " 'NanumBarunGothic',\n",
       " 'NanumGothic',\n",
       " 'Book Antiqua',\n",
       " 'Myanmar Text',\n",
       " 'Microsoft JhengHei',\n",
       " 'Book Antiqua',\n",
       " 'Han Santteut Dotum',\n",
       " 'Corbel',\n",
       " 'NanumSquare_ac',\n",
       " 'NewJumja',\n",
       " 'Consolas',\n",
       " 'Candara',\n",
       " 'Candara',\n",
       " 'Bookman Old Style',\n",
       " 'Constantia',\n",
       " 'Times New Roman',\n",
       " 'Segoe UI',\n",
       " 'Dubai',\n",
       " 'NanumGothic',\n",
       " 'HYHeadLine-Medium',\n",
       " 'Consolas',\n",
       " 'Batang',\n",
       " 'Book Antiqua',\n",
       " 'Verdana',\n",
       " 'Times New Roman',\n",
       " 'NanumGothic Eco',\n",
       " 'NanumGothic Eco',\n",
       " 'Leelawadee UI',\n",
       " 'NanumSquare',\n",
       " 'Tahoma',\n",
       " 'Leelawadee UI',\n",
       " 'NanumSquareRound',\n",
       " 'Garamond',\n",
       " 'Book Antiqua',\n",
       " 'Segoe UI',\n",
       " 'Calibri',\n",
       " 'HYGraphic-Medium',\n",
       " 'HYPost-Medium',\n",
       " 'D2Coding',\n",
       " 'NanumSquare_ac',\n",
       " 'Dubai',\n",
       " 'HyhwpEQ',\n",
       " 'Courier New',\n",
       " 'Lucida Console',\n",
       " 'Microsoft Uighur',\n",
       " 'Segoe UI',\n",
       " 'Bookman Old Style',\n",
       " 'Constantia',\n",
       " 'Bookshelf Symbol 7',\n",
       " 'Comic Sans MS',\n",
       " 'NanumBarunGothic YetHangul',\n",
       " 'Century Gothic',\n",
       " 'Dubai',\n",
       " 'SimSun-ExtB',\n",
       " 'NanumSquareRound',\n",
       " 'Trebuchet MS',\n",
       " 'Segoe UI',\n",
       " 'Verdana',\n",
       " 'Leelawadee',\n",
       " 'HYMyeongJo-Extra',\n",
       " 'Georgia',\n",
       " 'Calibri',\n",
       " 'Hancom Gothic',\n",
       " 'Magic R',\n",
       " 'Gadugi',\n",
       " 'HCR Dotum Ext',\n",
       " 'HancomEQN',\n",
       " 'NanumMyeongjo',\n",
       " 'Arial',\n",
       " 'Arial',\n",
       " 'Franklin Gothic Medium',\n",
       " 'Gabriola',\n",
       " 'Segoe UI',\n",
       " 'Corbel',\n",
       " 'Cambria',\n",
       " 'MS Reference Specialty',\n",
       " 'Segoe MDL2 Assets',\n",
       " 'HoloLens MDL2 Assets',\n",
       " 'Microsoft JhengHei',\n",
       " 'NanumMyeongjo',\n",
       " 'NewJumja',\n",
       " 'Nanum Brush Script',\n",
       " 'HYGothic-Extra',\n",
       " 'Times New Roman',\n",
       " 'MS Gothic',\n",
       " 'Arial',\n",
       " 'Webdings',\n",
       " 'Segoe UI',\n",
       " 'Symbol',\n",
       " 'Trebuchet MS',\n",
       " 'Segoe Script',\n",
       " 'NanumGothic Eco',\n",
       " 'Monotype Corsiva',\n",
       " 'NanumGothic',\n",
       " 'NanumBarunpen',\n",
       " 'Javanese Text',\n",
       " 'Segoe UI',\n",
       " 'Consolas',\n",
       " 'HYPMokGak-Bold',\n",
       " 'Yet R',\n",
       " 'Gulim',\n",
       " 'Arial',\n",
       " 'Georgia',\n",
       " 'HYUNDAI Bold',\n",
       " 'Ami R',\n",
       " 'Ink Free',\n",
       " 'Corbel',\n",
       " 'Segoe UI',\n",
       " 'Headline R',\n",
       " 'Tahoma',\n",
       " 'Georgia',\n",
       " 'NanumGothic',\n",
       " 'NanumSquareRound',\n",
       " 'Calibri',\n",
       " 'D2Coding',\n",
       " 'Arial',\n",
       " 'Bahnschrift',\n",
       " 'Leelawadee UI',\n",
       " 'Garamond',\n",
       " 'Lucida Console',\n",
       " 'Courier New',\n",
       " 'Yet R',\n",
       " 'HYUNDAI Medium',\n",
       " 'NanumGothic',\n",
       " 'Yu Gothic',\n",
       " 'Myanmar Text',\n",
       " 'Segoe UI Symbol',\n",
       " 'NanumMyeongjo Eco',\n",
       " 'Wingdings 3',\n",
       " 'Candara',\n",
       " 'Leelawadee UI',\n",
       " 'HCR Batang ExtB',\n",
       " 'NanumSquareRound',\n",
       " 'Arial',\n",
       " 'Corbel',\n",
       " 'Comic Sans MS',\n",
       " 'Corbel',\n",
       " 'NanumBarunGothic',\n",
       " 'Symbol',\n",
       " 'MS Reference Specialty',\n",
       " 'Georgia',\n",
       " 'New Gulim',\n",
       " 'Malgun Gothic',\n",
       " 'Consolas',\n",
       " 'Cascadia Code',\n",
       " 'HYPMokGak-Bold',\n",
       " 'NanumGothic',\n",
       " 'Calibri',\n",
       " 'Verdana',\n",
       " 'Consolas',\n",
       " 'Segoe UI',\n",
       " 'Gadugi',\n",
       " 'Segoe Fluent Icons',\n",
       " 'Trebuchet MS',\n",
       " 'HYUNDAI Medium',\n",
       " 'MoeumT R',\n",
       " 'Yu Gothic',\n",
       " 'NanumBarunGothicOTF YetHangul',\n",
       " 'Microsoft Tai Le',\n",
       " 'NanumSquareRound',\n",
       " 'NanumBarunpen',\n",
       " 'Book Antiqua',\n",
       " 'Franklin Gothic Medium',\n",
       " 'HyhwpEQ',\n",
       " 'NanumBarunpen',\n",
       " 'NanumMyeongjo',\n",
       " 'Segoe Script',\n",
       " 'Microsoft YaHei',\n",
       " 'Segoe UI',\n",
       " 'Yu Gothic',\n",
       " 'Microsoft YaHei',\n",
       " 'Book Antiqua',\n",
       " 'NanumBarunGothic',\n",
       " 'Candara',\n",
       " 'Monotype Corsiva',\n",
       " 'Calibri',\n",
       " 'Courier New',\n",
       " 'Courier New',\n",
       " 'NanumSquare',\n",
       " 'Segoe UI Variable',\n",
       " 'Cascadia Mono',\n",
       " 'Dubai',\n",
       " 'Nirmala UI',\n",
       " 'NanumMyeongjo Eco',\n",
       " 'Palatino Linotype',\n",
       " 'HYSinMyeongJo-Medium',\n",
       " 'Microsoft Uighur',\n",
       " 'Ami R',\n",
       " 'Microsoft Himalaya',\n",
       " 'NanumSquare_ac',\n",
       " 'Segoe Script',\n",
       " 'HCR Batang ExtB',\n",
       " 'Malgun Gothic',\n",
       " 'Corbel',\n",
       " 'Palatino Linotype',\n",
       " 'Myanmar Text',\n",
       " 'NanumGothic Eco',\n",
       " 'Microsoft PhagsPa',\n",
       " 'Hancom Gothic',\n",
       " 'Microsoft YaHei',\n",
       " 'NanumSquare_ac',\n",
       " 'Wingdings 2',\n",
       " 'Times New Roman',\n",
       " 'NanumSquare_ac',\n",
       " 'Candara',\n",
       " 'Century Gothic',\n",
       " 'Nirmala UI',\n",
       " 'Microsoft New Tai Lue',\n",
       " 'NanumSquareRound',\n",
       " 'Century Gothic',\n",
       " 'Sitka',\n",
       " 'Leelawadee',\n",
       " 'Nanum Pen Script',\n",
       " 'HCR Batang ExtB',\n",
       " 'Palatino Linotype',\n",
       " 'Arial',\n",
       " 'MS Reference Sans Serif',\n",
       " 'Comic Sans MS',\n",
       " 'HYGothic-Extra',\n",
       " 'Bookman Old Style',\n",
       " 'Courier New',\n",
       " 'SimSun-ExtB',\n",
       " 'HYUNDAI Medium',\n",
       " 'HCR Dotum Ext',\n",
       " 'NanumBarunGothicOTF YetHangul',\n",
       " 'Microsoft YaHei',\n",
       " 'NanumGothic Eco',\n",
       " 'Lucida Sans Unicode',\n",
       " 'Malgun Gothic',\n",
       " 'Constantia',\n",
       " 'Arial',\n",
       " 'Microsoft Sans Serif',\n",
       " 'Cambria',\n",
       " 'Segoe UI Historic',\n",
       " 'Gabriola',\n",
       " 'Microsoft Tai Le',\n",
       " 'NanumMyeongjo Eco',\n",
       " 'Segoe UI Symbol',\n",
       " 'Microsoft Tai Le',\n",
       " 'HYShortSamul-Medium',\n",
       " 'Century Gothic',\n",
       " 'MS Gothic',\n",
       " 'Cascadia Code',\n",
       " 'Cambria',\n",
       " 'Bookman Old Style',\n",
       " 'Courier New',\n",
       " 'HCR Batang Ext',\n",
       " 'Hancom Gothic',\n",
       " 'Nirmala UI',\n",
       " 'Georgia',\n",
       " 'Gadugi',\n",
       " 'Garamond',\n",
       " 'Yu Gothic',\n",
       " 'Malgun Gothic',\n",
       " 'HYGothic-Medium',\n",
       " 'Bookman Old Style',\n",
       " 'Ebrima',\n",
       " 'Segoe UI',\n",
       " 'Haan Wing2',\n",
       " 'Candara',\n",
       " 'Leelawadee UI',\n",
       " 'HCR Batang',\n",
       " 'Corbel',\n",
       " 'Yu Gothic',\n",
       " 'Calibri',\n",
       " 'HYMyeongJo-Extra',\n",
       " 'Pyunji R',\n",
       " 'NanumBarunGothic',\n",
       " 'Trebuchet MS',\n",
       " 'Segoe Fluent Icons',\n",
       " 'HYUNDAI Light',\n",
       " 'Segoe Print',\n",
       " 'Yu Gothic',\n",
       " 'NanumSquareRound',\n",
       " 'Webdings',\n",
       " 'Georgia',\n",
       " 'Corbel',\n",
       " 'HCR Batang',\n",
       " 'Trebuchet MS',\n",
       " 'Calibri',\n",
       " 'Microsoft PhagsPa',\n",
       " 'NanumGothicCoding',\n",
       " 'Segoe Print',\n",
       " 'Arial',\n",
       " 'Trebuchet MS',\n",
       " 'Cambria',\n",
       " 'Bahnschrift',\n",
       " 'Bookman Old Style',\n",
       " 'HYPost-Light',\n",
       " 'HYUNDAI Light',\n",
       " 'Godo B',\n",
       " 'Godo M',\n",
       " 'Wingdings 2',\n",
       " 'Times New Roman',\n",
       " 'NanumMyeongjo',\n",
       " 'Palatino Linotype',\n",
       " 'Batang',\n",
       " 'Wingdings',\n",
       " 'Yu Gothic',\n",
       " 'Segoe UI',\n",
       " 'Calibri',\n",
       " 'HDharmony',\n",
       " 'Arial',\n",
       " 'Comic Sans MS',\n",
       " 'Gadugi',\n",
       " 'Consolas',\n",
       " 'Microsoft JhengHei',\n",
       " 'MS Reference Sans Serif',\n",
       " 'NanumSquare',\n",
       " 'Segoe UI',\n",
       " 'Gulim',\n",
       " 'Segoe UI',\n",
       " 'Microsoft JhengHei',\n",
       " 'Segoe UI',\n",
       " 'Bookman Old Style',\n",
       " 'Sitka',\n",
       " 'HYShortSamul-Medium',\n",
       " 'Segoe UI Variable',\n",
       " 'Segoe Print',\n",
       " 'Constantia',\n",
       " 'MT Extra',\n",
       " 'HYSinMyeongJo-Medium',\n",
       " 'HCR Batang',\n",
       " 'NanumSquare',\n",
       " 'Franklin Gothic Medium',\n",
       " 'Corbel',\n",
       " 'Dubai',\n",
       " 'Haan Wing2',\n",
       " 'Segoe UI',\n",
       " 'Ebrima',\n",
       " 'NanumGothic',\n",
       " 'Segoe Script',\n",
       " 'Segoe UI',\n",
       " 'HYGungSo-Bold',\n",
       " 'Calibri',\n",
       " 'Nirmala UI',\n",
       " 'HCR Dotum',\n",
       " 'Verdana',\n",
       " 'Cambria',\n",
       " 'Century Gothic',\n",
       " 'NanumGothic Eco',\n",
       " 'Microsoft JhengHei',\n",
       " 'Nirmala UI',\n",
       " 'HYGraphic-Medium',\n",
       " 'Sylfaen',\n",
       " 'Courier New',\n",
       " 'Leelawadee',\n",
       " 'Comic Sans MS',\n",
       " 'Book Antiqua',\n",
       " 'Arial',\n",
       " 'Segoe UI',\n",
       " 'HCR Batang Ext',\n",
       " 'Impact',\n",
       " 'Cambria',\n",
       " 'Georgia',\n",
       " 'Arial',\n",
       " 'Microsoft Uighur',\n",
       " 'Cambria',\n",
       " 'NanumBarunGothic',\n",
       " 'Trebuchet MS',\n",
       " 'Constantia',\n",
       " 'Segoe UI',\n",
       " 'Tahoma',\n",
       " 'HCR Dotum',\n",
       " 'HDharmony',\n",
       " 'Palatino Linotype',\n",
       " 'Han Santteut Dotum',\n",
       " 'NanumMyeongjo Eco',\n",
       " 'MoeumT R',\n",
       " 'HYUNDAI Light',\n",
       " 'Microsoft Sans Serif',\n",
       " 'Marlett',\n",
       " 'Microsoft Tai Le',\n",
       " 'Sitka',\n",
       " 'HYPost-Light',\n",
       " 'Microsoft New Tai Lue',\n",
       " 'Ebrima',\n",
       " 'Segoe UI Emoji',\n",
       " 'Constantia',\n",
       " 'Corbel',\n",
       " 'NanumGothicCoding',\n",
       " 'HYUNDAI Bold',\n",
       " 'Calibri',\n",
       " 'MingLiU-ExtB',\n",
       " 'NanumSquare_ac',\n",
       " 'NanumSquare',\n",
       " 'Century',\n",
       " 'Tahoma',\n",
       " 'Constantia',\n",
       " 'Corbel',\n",
       " 'Comic Sans MS',\n",
       " 'NanumMyeongjo',\n",
       " 'Cascadia Mono',\n",
       " 'HYUNDAI Bold',\n",
       " 'Segoe UI',\n",
       " 'MV Boli',\n",
       " 'Georgia',\n",
       " 'NanumGothicCoding',\n",
       " 'Segoe UI',\n",
       " 'Bookshelf Symbol 7',\n",
       " 'Verdana',\n",
       " 'Microsoft New Tai Lue',\n",
       " 'Dubai',\n",
       " 'Century',\n",
       " 'Sitka',\n",
       " 'Microsoft PhagsPa',\n",
       " 'Malgun Gothic',\n",
       " 'Consolas',\n",
       " 'Garamond',\n",
       " 'Magic R',\n",
       " 'Book Antiqua',\n",
       " 'NanumSquare_ac',\n",
       " 'Segoe UI',\n",
       " 'MT Extra',\n",
       " 'NanumGothic',\n",
       " 'Times New Roman',\n",
       " 'Palatino Linotype',\n",
       " 'Yu Gothic',\n",
       " 'Nirmala UI',\n",
       " 'Dubai',\n",
       " 'Microsoft Yi Baiti',\n",
       " 'Palatino Linotype',\n",
       " 'Times New Roman',\n",
       " 'MV Boli',\n",
       " 'Arial',\n",
       " 'Century Gothic',\n",
       " 'Comic Sans MS',\n",
       " 'HCR Batang ExtB',\n",
       " 'Candara',\n",
       " 'Javanese Text',\n",
       " 'Garamond',\n",
       " 'HDharmony',\n",
       " 'NanumBarunGothic YetHangul',\n",
       " 'HYGungSo-Bold',\n",
       " 'Wingdings 3',\n",
       " 'Segoe MDL2 Assets',\n",
       " 'Constantia',\n",
       " 'Arial',\n",
       " 'Palatino Linotype',\n",
       " 'Calibri',\n",
       " 'Mongolian Baiti',\n",
       " 'Consolas',\n",
       " 'SimSun',\n",
       " 'Trebuchet MS',\n",
       " 'Headline R',\n",
       " 'Malgun Gothic',\n",
       " 'Verdana',\n",
       " 'Bookman Old Style',\n",
       " 'Cambria',\n",
       " 'HCR Dotum',\n",
       " 'NanumBarunGothic',\n",
       " 'SimSun',\n",
       " 'Ink Free',\n",
       " 'Impact',\n",
       " 'Sylfaen',\n",
       " 'Segoe UI',\n",
       " 'Corbel',\n",
       " 'Microsoft JhengHei',\n",
       " 'Microsoft YaHei',\n",
       " 'Franklin Gothic Medium',\n",
       " 'Mongolian Baiti',\n",
       " 'Arial',\n",
       " 'Microsoft Uighur',\n",
       " 'Microsoft Yi Baiti',\n",
       " 'New Gulim',\n",
       " 'Segoe UI Historic',\n",
       " 'Verdana',\n",
       " 'HYGothic-Medium',\n",
       " 'Arial',\n",
       " 'Pyunji R',\n",
       " 'Candara',\n",
       " 'Leelawadee',\n",
       " 'Nanum Brush Script',\n",
       " 'HancomEQN',\n",
       " 'HCR Batang',\n",
       " 'Garamond',\n",
       " 'Comic Sans MS',\n",
       " 'Leelawadee UI',\n",
       " 'NanumSquareRound',\n",
       " 'Courier New',\n",
       " 'HCR Dotum',\n",
       " 'Segoe Print',\n",
       " 'Verdana',\n",
       " 'Century Gothic',\n",
       " 'Segoe UI Emoji',\n",
       " 'Nanum Pen Script',\n",
       " 'NanumMyeongjo',\n",
       " 'Candara',\n",
       " 'NanumBarunGothic',\n",
       " 'NanumBarunpen',\n",
       " 'Segoe UI']"
      ]
     },
     "execution_count": 6,
     "metadata": {},
     "output_type": "execute_result"
    }
   ],
   "source": [
    "import matplotlib.font_manager as fm\n",
    "\n",
    "# 설치된 폰트 출력\n",
    "font_list = [font.name for font in fm.fontManager.ttflist]\n",
    "font_list"
   ]
  },
  {
   "cell_type": "markdown",
   "metadata": {},
   "source": [
    "## k-최근접 이웃 회귀\n",
    "\n",
    "### 데이터 준비"
   ]
  },
  {
   "cell_type": "code",
   "execution_count": 4,
   "metadata": {},
   "outputs": [],
   "source": [
    "import numpy as np\n",
    "import matplotlib.pyplot as plt\n",
    "import seaborn as sns"
   ]
  },
  {
   "cell_type": "code",
   "execution_count": 5,
   "metadata": {},
   "outputs": [],
   "source": [
    "perch_length = np.array(\n",
    "    [8.4, 13.7, 15.0, 16.2, 17.4, 18.0, 18.7, 19.0, 19.6, 20.0, \n",
    "     21.0, 21.0, 21.0, 21.3, 22.0, 22.0, 22.0, 22.0, 22.0, 22.5, \n",
    "     22.5, 22.7, 23.0, 23.5, 24.0, 24.0, 24.6, 25.0, 25.6, 26.5, \n",
    "     27.3, 27.5, 27.5, 27.5, 28.0, 28.7, 30.0, 32.8, 34.5, 35.0, \n",
    "     36.5, 36.0, 37.0, 37.0, 39.0, 39.0, 39.0, 40.0, 40.0, 40.0, \n",
    "     40.0, 42.0, 43.0, 43.0, 43.5, 44.0]\n",
    "     )\n",
    "perch_weight = np.array(\n",
    "    [5.9, 32.0, 40.0, 51.5, 70.0, 100.0, 78.0, 80.0, 85.0, 85.0, \n",
    "     110.0, 115.0, 125.0, 130.0, 120.0, 120.0, 130.0, 135.0, 110.0, \n",
    "     130.0, 150.0, 145.0, 150.0, 170.0, 225.0, 145.0, 188.0, 180.0, \n",
    "     197.0, 218.0, 300.0, 260.0, 265.0, 250.0, 250.0, 300.0, 320.0, \n",
    "     514.0, 556.0, 840.0, 685.0, 700.0, 700.0, 690.0, 900.0, 650.0, \n",
    "     820.0, 850.0, 900.0, 1015.0, 820.0, 1100.0, 1000.0, 1100.0, \n",
    "     1000.0, 1000.0]\n",
    "     )"
   ]
  },
  {
   "cell_type": "code",
   "execution_count": 6,
   "metadata": {},
   "outputs": [
    {
     "data": {
      "image/png": "[encoded data removed]",
      "text/plain": [
       "<Figure size 720x360 with 1 Axes>"
      ]
     },
     "metadata": {
      "needs_background": "light"
     },
     "output_type": "display_data"
    }
   ],
   "source": [
    "plt.figure(figsize=(10, 5))\n",
    "plt.scatter(perch_length, perch_weight)\n",
    "plt.title('생선 데이터')\n",
    "plt.xlabel('길이')\n",
    "plt.ylabel('무게')\n",
    "plt.show()"
   ]
  },
  {
   "cell_type": "code",
   "execution_count": 7,
   "metadata": {},
   "outputs": [],
   "source": [
    "from sklearn.model_selection import train_test_split"
   ]
  },
  {
   "cell_type": "code",
   "execution_count": 8,
   "metadata": {},
   "outputs": [],
   "source": [
    "train_input, test_input, train_target, test_target = train_test_split(\n",
    "    perch_length, perch_weight, random_state=42)"
   ]
  },
  {
   "cell_type": "code",
   "execution_count": 9,
   "metadata": {},
   "outputs": [
    {
     "name": "stdout",
     "output_type": "stream",
     "text": [
      "(42,) (14,)\n"
     ]
    }
   ],
   "source": [
    "print(train_input.shape, test_input.shape)"
   ]
  },
  {
   "cell_type": "code",
   "execution_count": 10,
   "metadata": {},
   "outputs": [
    {
     "name": "stdout",
     "output_type": "stream",
     "text": [
      "(4,)\n"
     ]
    }
   ],
   "source": [
    "test_array = np.array([1,2,3,4])\n",
    "print(test_array.shape)"
   ]
  },
  {
   "cell_type": "code",
   "execution_count": 11,
   "metadata": {},
   "outputs": [
    {
     "name": "stdout",
     "output_type": "stream",
     "text": [
      "(2, 2)\n"
     ]
    }
   ],
   "source": [
    "test_array = test_array.reshape(2, 2)\n",
    "print(test_array.shape)"
   ]
  },
  {
   "cell_type": "code",
   "execution_count": 12,
   "metadata": {},
   "outputs": [],
   "source": [
    "# 아래 코드의 주석을 제거하고 실행하면 에러가 발생합니다\n",
    "# test_array = test_array.reshape(2, 3)"
   ]
  },
  {
   "cell_type": "code",
   "execution_count": 13,
   "metadata": {},
   "outputs": [],
   "source": [
    "train_input = train_input.reshape(-1, 1)\n",
    "test_input = test_input.reshape(-1, 1)"
   ]
  },
  {
   "cell_type": "code",
   "execution_count": 14,
   "metadata": {},
   "outputs": [
    {
     "name": "stdout",
     "output_type": "stream",
     "text": [
      "(42, 1) (14, 1)\n"
     ]
    }
   ],
   "source": [
    "print(train_input.shape, test_input.shape)"
   ]
  },
  {
   "cell_type": "markdown",
   "metadata": {},
   "source": [
    "### 결정 계수 ($ R^2$)"
   ]
  },
  {
   "cell_type": "code",
   "execution_count": 15,
   "metadata": {},
   "outputs": [],
   "source": [
    "from sklearn.neighbors import KNeighborsRegressor"
   ]
  },
  {
   "cell_type": "code",
   "execution_count": 16,
   "metadata": {},
   "outputs": [
    {
     "data": {
      "text/html": [
       "<style>#sk-container-id-1 {color: black;background-color: white;}#sk-container-id-1 pre{padding: 0;}#sk-container-id-1 div.sk-toggleable {background-color: white;}#sk-container-id-1 label.sk-toggleable__label {cursor: pointer;display: block;width: 100%;margin-bottom: 0;padding: 0.3em;box-sizing: border-box;text-align: center;}#sk-container-id-1 label.sk-toggleable__label-arrow:before {content: \"▸\";float: left;margin-right: 0.25em;color: #696969;}#sk-container-id-1 label.sk-toggleable__label-arrow:hover:before {color: black;}#sk-container-id-1 div.sk-estimator:hover label.sk-toggleable__label-arrow:before {color: black;}#sk-container-id-1 div.sk-toggleable__content {max-height: 0;max-width: 0;overflow: hidden;text-align: left;background-color: #f0f8ff;}#sk-container-id-1 div.sk-toggleable__content pre {margin: 0.2em;color: black;border-radius: 0.25em;background-color: #f0f8ff;}#sk-container-id-1 input.sk-toggleable__control:checked~div.sk-toggleable__content {max-height: 200px;max-width: 100%;overflow: auto;}#sk-container-id-1 input.sk-toggleable__control:checked~label.sk-toggleable__label-arrow:before {content: \"▾\";}#sk-container-id-1 div.sk-estimator input.sk-toggleable__control:checked~label.sk-toggleable__label {background-color: #d4ebff;}#sk-container-id-1 div.sk-label input.sk-toggleable__control:checked~label.sk-toggleable__label {background-color: #d4ebff;}#sk-container-id-1 input.sk-hidden--visually {border: 0;clip: rect(1px 1px 1px 1px);clip: rect(1px, 1px, 1px, 1px);height: 1px;margin: -1px;overflow: hidden;padding: 0;position: absolute;width: 1px;}#sk-container-id-1 div.sk-estimator {font-family: monospace;background-color: #f0f8ff;border: 1px dotted black;border-radius: 0.25em;box-sizing: border-box;margin-bottom: 0.5em;}#sk-container-id-1 div.sk-estimator:hover {background-color: #d4ebff;}#sk-container-id-1 div.sk-parallel-item::after {content: \"\";width: 100%;border-bottom: 1px solid gray;flex-grow: 1;}#sk-container-id-1 div.sk-label:hover label.sk-toggleable__label {background-color: #d4ebff;}#sk-container-id-1 div.sk-serial::before {content: \"\";position: absolute;border-left: 1px solid gray;box-sizing: border-box;top: 0;bottom: 0;left: 50%;z-index: 0;}#sk-container-id-1 div.sk-serial {display: flex;flex-direction: column;align-items: center;background-color: white;padding-right: 0.2em;padding-left: 0.2em;position: relative;}#sk-container-id-1 div.sk-item {position: relative;z-index: 1;}#sk-container-id-1 div.sk-parallel {display: flex;align-items: stretch;justify-content: center;background-color: white;position: relative;}#sk-container-id-1 div.sk-item::before, #sk-container-id-1 div.sk-parallel-item::before {content: \"\";position: absolute;border-left: 1px solid gray;box-sizing: border-box;top: 0;bottom: 0;left: 50%;z-index: -1;}#sk-container-id-1 div.sk-parallel-item {display: flex;flex-direction: column;z-index: 1;position: relative;background-color: white;}#sk-container-id-1 div.sk-parallel-item:first-child::after {align-self: flex-end;width: 50%;}#sk-container-id-1 div.sk-parallel-item:last-child::after {align-self: flex-start;width: 50%;}#sk-container-id-1 div.sk-parallel-item:only-child::after {width: 0;}#sk-container-id-1 div.sk-dashed-wrapped {border: 1px dashed gray;margin: 0 0.4em 0.5em 0.4em;box-sizing: border-box;padding-bottom: 0.4em;background-color: white;}#sk-container-id-1 div.sk-label label {font-family: monospace;font-weight: bold;display: inline-block;line-height: 1.2em;}#sk-container-id-1 div.sk-label-container {text-align: center;}#sk-container-id-1 div.sk-container {/* jupyter's `normalize.less` sets `[hidden] { display: none; }` but bootstrap.min.css set `[hidden] { display: none !important; }` so we also need the `!important` here to be able to override the default hidden behavior on the sphinx rendered scikit-learn.org. See: https://github.com/scikit-learn/scikit-learn/issues/21755 */display: inline-block !important;position: relative;}#sk-container-id-1 div.sk-text-repr-fallback {display: none;}</style><div id=\"sk-container-id-1\" class=\"sk-top-container\"><div class=\"sk-text-repr-fallback\"><pre>KNeighborsRegressor()</pre><b>In a Jupyter environment, please rerun this cell to show the HTML representation or trust the notebook. <br />On GitHub, the HTML representation is unable to render, please try loading this page with nbviewer.org.</b></div><div class=\"sk-container\" hidden><div class=\"sk-item\"><div class=\"sk-estimator sk-toggleable\"><input class=\"sk-toggleable__control sk-hidden--visually\" id=\"sk-estimator-id-1\" type=\"checkbox\" checked><label for=\"sk-estimator-id-1\" class=\"sk-toggleable__label sk-toggleable__label-arrow\">KNeighborsRegressor</label><div class=\"sk-toggleable__content\"><pre>KNeighborsRegressor()</pre></div></div></div></div></div>"
      ],
      "text/plain": [
       "KNeighborsRegressor()"
      ]
     },
     "execution_count": 16,
     "metadata": {},
     "output_type": "execute_result"
    }
   ],
   "source": [
    "knr = KNeighborsRegressor()\n",
    "# k-최근접 이웃 회귀 모델을 훈련합니다\n",
    "knr.fit(train_input, train_target)"
   ]
  },
  {
   "cell_type": "code",
   "execution_count": 17,
   "metadata": {},
   "outputs": [
    {
     "data": {
      "text/plain": [
       "0.992809406101064"
      ]
     },
     "execution_count": 17,
     "metadata": {},
     "output_type": "execute_result"
    }
   ],
   "source": [
    "knr.score(test_input, test_target)"
   ]
  },
  {
   "cell_type": "code",
   "execution_count": 18,
   "metadata": {},
   "outputs": [],
   "source": [
    "from sklearn.metrics import mean_absolute_error"
   ]
  },
  {
   "cell_type": "code",
   "execution_count": 19,
   "metadata": {},
   "outputs": [
    {
     "name": "stdout",
     "output_type": "stream",
     "text": [
      "19.157142857142862\n"
     ]
    }
   ],
   "source": [
    "# 테스트 세트에 대한 예측을 만듭니다\n",
    "test_prediction = knr.predict(test_input)\n",
    "# 테스트 세트에 대한 평균 절댓값 오차를 계산합니다\n",
    "mae = mean_absolute_error(test_target, test_prediction)\n",
    "print(mae)"
   ]
  },
  {
   "cell_type": "markdown",
   "metadata": {},
   "source": [
    "### 과대적합 vs 과소적합"
   ]
  },
  {
   "cell_type": "code",
   "execution_count": 20,
   "metadata": {},
   "outputs": [
    {
     "name": "stdout",
     "output_type": "stream",
     "text": [
      "0.9698823289099254\n"
     ]
    }
   ],
   "source": [
    "print(knr.score(train_input, train_target))"
   ]
  },
  {
   "cell_type": "code",
   "execution_count": 21,
   "metadata": {},
   "outputs": [
    {
     "name": "stdout",
     "output_type": "stream",
     "text": [
      "0.9804899950518966\n"
     ]
    }
   ],
   "source": [
    "# 이웃의 갯수를 3으로 설정합니다\n",
    "knr.n_neighbors = 3\n",
    "# 모델을 다시 훈련합니다\n",
    "knr.fit(train_input, train_target)\n",
    "print(knr.score(train_input, train_target))"
   ]
  },
  {
   "cell_type": "code",
   "execution_count": 22,
   "metadata": {},
   "outputs": [
    {
     "name": "stdout",
     "output_type": "stream",
     "text": [
      "0.9746459963987609\n"
     ]
    }
   ],
   "source": [
    "print(knr.score(test_input, test_target))"
   ]
  },
  {
   "cell_type": "code",
   "execution_count": 24,
   "metadata": {},
   "outputs": [
    {
     "data": {
      "image/png": "[encoded data removed]",
      "text/plain": [
       "<Figure size 720x360 with 1 Axes>"
      ]
     },
     "metadata": {
      "needs_background": "light"
     },
     "output_type": "display_data"
    },
    {
     "data": {
      "image/png": "[encoded data removed]",
      "text/plain": [
       "<Figure size 720x360 with 1 Axes>"
      ]
     },
     "metadata": {
      "needs_background": "light"
     },
     "output_type": "display_data"
    },
    {
     "data": {
      "image/png": "[encoded data removed]",
      "text/plain": [
       "<Figure size 720x360 with 1 Axes>"
      ]
     },
     "metadata": {
      "needs_background": "light"
     },
     "output_type": "display_data"
    }
   ],
   "source": [
    "# k-최근접 이웃 회귀 객체를 만듭니다\n",
    "knr = KNeighborsRegressor()\n",
    "# 5에서 45까지 x 좌표를 만듭니다\n",
    "x = np.arange(5, 45).reshape(-1, 1)\n",
    "\n",
    "# n = 1, 5, 10일 때 예측 결과를 그래프로 그립니다.\n",
    "for n in [1, 5, 10]:\n",
    "    # 모델 훈련\n",
    "    knr.n_neighbors = n\n",
    "    knr.fit(train_input, train_target)\n",
    "    # 지정한 범위 x에 대한 예측 구하기 \n",
    "    prediction = knr.predict(x)\n",
    "    # 훈련 세트와 예측 결과 그래프 그리기\n",
    "    plt.figure(figsize=(10, 5))\n",
    "    plt.scatter(train_input, train_target)\n",
    "    plt.plot(x, prediction, color='orange')\n",
    "    plt.title('n_neighbors = {}'.format(n))    \n",
    "    plt.xlabel('길이')\n",
    "    plt.ylabel('무게')\n",
    "    plt.show()"
   ]
  }
 ],
 "metadata": {
  "kernelspec": {
   "display_name": "Python 3.10.5 64-bit",
   "language": "python",
   "name": "python3"
  },
  "language_info": {
   "codemirror_mode": {
    "name": "ipython",
    "version": 3
   },
   "file_extension": ".py",
   "mimetype": "text/x-python",
   "name": "python",
   "nbconvert_exporter": "python",
   "pygments_lexer": "ipython3",
   "version": "3.10.5"
  },
  "orig_nbformat": 4,
  "vscode": {
   "interpreter": {
    "hash": "fe3d9237b4a62cd7715eb234158a07f236d8efc42b8ea743ee7cae33e0917df2"
   }
  }
 },
 "nbformat": 4,
 "nbformat_minor": 2
}
