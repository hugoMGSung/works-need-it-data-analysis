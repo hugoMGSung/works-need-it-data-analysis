{
 "cells": [
  {
   "cell_type": "markdown",
   "metadata": {},
   "source": [
    "참조 \n",
    "https://velog.io/@top6421/EDA%EA%B3%BC%EC%A0%9C1-%EC%9D%B4%EB%94%94%EC%95%BC%EB%8A%94-%EC%A0%84%EB%9E%B5%EC%A0%81%EC%9C%BC%EB%A1%9C-%EC%8A%A4%ED%83%80%EB%B2%85%EC%8A%A4-%EA%B7%BC%EC%B2%98%EC%97%90-%EB%A7%A4%EC%9E%A5%EC%9D%84-%EB%82%BC%EA%B9%8C"
   ]
  },
  {
   "cell_type": "code",
   "execution_count": 3,
   "metadata": {},
   "outputs": [],
   "source": [
    "import time\n",
    "import requests\n",
    "import matplotlib\n",
    "import matplotlib.pyplot as plt\n",
    "import numpy as np\n",
    "import seaborn as sn\n",
    "import re\n",
    "import pandas as pd\n",
    "\n",
    "from selenium import webdriver\n",
    "from matplotlib import rc\n",
    "from bs4 import BeautifulSoup\n",
    "from urllib.request import urlopen\n",
    "\n",
    "from selenium.webdriver.common.by import By"
   ]
  },
  {
   "cell_type": "code",
   "execution_count": 4,
   "metadata": {},
   "outputs": [
    {
     "name": "stderr",
     "output_type": "stream",
     "text": [
      "C:\\Users\\perso\\AppData\\Local\\Temp\\ipykernel_33548\\3155896616.py:4: MatplotlibDeprecationWarning: \n",
      "The get_fontconfig_fonts function was deprecated in Matplotlib 3.5 and will be removed two minor releases later.\n",
      "  fm.get_fontconfig_fonts()\n"
     ]
    }
   ],
   "source": [
    "from matplotlib import rc\n",
    "import matplotlib.font_manager as fm\n",
    "\n",
    "fm.get_fontconfig_fonts()\n",
    "\n",
    "# 디렉토리 및 파일 이름에 맞추어 변경\n",
    "font_location = './fonts/NanumGothic.ttf'\n",
    "\n",
    "font_name = fm.FontProperties(fname=font_location).get_name()\n",
    "rc('font', family=font_name)"
   ]
  },
  {
   "cell_type": "markdown",
   "metadata": {},
   "source": [
    "스타벅스의 매장 홈페이지를 연다"
   ]
  },
  {
   "cell_type": "code",
   "execution_count": 5,
   "metadata": {},
   "outputs": [
    {
     "name": "stderr",
     "output_type": "stream",
     "text": [
      "C:\\Users\\perso\\AppData\\Local\\Temp\\ipykernel_33548\\4245863292.py:2: DeprecationWarning: executable_path has been deprecated, please pass in a Service object\n",
      "  driver = webdriver.Chrome('./chromedriver.exe')\n"
     ]
    }
   ],
   "source": [
    "star_url =\"https://www.starbucks.co.kr/store/store_map.do\"\n",
    "driver = webdriver.Chrome('./chromedriver.exe')\n",
    "driver.get(star_url)"
   ]
  },
  {
   "cell_type": "markdown",
   "metadata": {},
   "source": [
    "지역검색 > 서울 > 전체 순으로 들어가도록 한다.\n",
    "오류가 발생하여 각 코드마다 2초에 텀을 준다."
   ]
  },
  {
   "cell_type": "code",
   "execution_count": 6,
   "metadata": {},
   "outputs": [],
   "source": [
    "driver.find_element(By.XPATH, '//*[@id=\"container\"]/div/form/fieldset/div/section/article[1]/article/header[2]/h3/a').click()\n",
    "time.sleep(2)\n",
    "driver.find_element(By.XPATH, '//*[@id=\"container\"]/div/form/fieldset/div/section/article[1]/article/article[2]/div[1]/div[2]/ul/li[1]/a').click()\n",
    "time.sleep(2)\n",
    "driver.find_element(By.XPATH, '//*[@id=\"mCSB_2_container\"]/ul/li[1]/a').click()"
   ]
  },
  {
   "cell_type": "markdown",
   "metadata": {},
   "source": [
    "주소를 soup에 담고 서울에 있는 총 매장의 수와 표본을 확인한다.\n",
    "총 588개의 매장이 수집됨"
   ]
  },
  {
   "cell_type": "code",
   "execution_count": 8,
   "metadata": {},
   "outputs": [
    {
     "data": {
      "text/plain": [
       "(588,\n",
       " <li class=\"quickResultLstCon\" data-code=\"3762\" data-hlytag=\"null\" data-index=\"0\" data-lat=\"37.501087\" data-long=\"127.043069\" data-name=\"역삼아레나빌딩\" data-storecd=\"1509\" style=\"background:#fff\"> <strong data-my_siren_order_store_yn=\"N\" data-name=\"역삼아레나빌딩\" data-store=\"1509\" data-yn=\"N\">역삼아레나빌딩  </strong> <p class=\"result_details\">서울특별시 강남구 언주로 425 (역삼동)<br/>1522-3232</p> <i class=\"pin_general\">리저브 매장 2번</i></li>)"
      ]
     },
     "execution_count": 8,
     "metadata": {},
     "output_type": "execute_result"
    }
   ],
   "source": [
    "req = driver.page_source\n",
    "soup = BeautifulSoup(req, \"html.parser\")\n",
    "info = soup.find(\"div\", id = \"mCSB_3_container\").find_all(\"li\", class_ = 'quickResultLstCon')\n",
    "len(info), info[0]"
   ]
  },
  {
   "cell_type": "markdown",
   "metadata": {},
   "source": [
    "표본을 보고 어떤식으로 데이터를 저장할지 코드를 구상한다."
   ]
  },
  {
   "cell_type": "code",
   "execution_count": 9,
   "metadata": {},
   "outputs": [
    {
     "data": {
      "text/plain": [
       "('역삼아레나빌딩', '서울특별시 강남구 언주로 425 (역삼동)', '강남구')"
      ]
     },
     "execution_count": 9,
     "metadata": {},
     "output_type": "execute_result"
    }
   ],
   "source": [
    "name = info[0].find(\"strong\").text.strip()\n",
    "address = info[0].find(class_=\"result_details\").text.strip()[:-9]\n",
    "place = address.split(\" \")[1]\n",
    "\n",
    "name, address, place"
   ]
  },
  {
   "cell_type": "markdown",
   "metadata": {},
   "source": [
    "for 문을 이용하여 전체 데이터의 가게명, 주소, 구 정보를 저장하고 저장된 정보의 길이를 확인하여 588개의 매장 모두 저장되었는지 확인한다."
   ]
  },
  {
   "cell_type": "code",
   "execution_count": 10,
   "metadata": {},
   "outputs": [
    {
     "data": {
      "text/plain": [
       "588"
      ]
     },
     "execution_count": 10,
     "metadata": {},
     "output_type": "execute_result"
    }
   ],
   "source": [
    "star_info = []\n",
    "for item in info :\n",
    "    name = item.find(\"strong\").text.strip()\n",
    "    address = item.find(class_=\"result_details\").text.strip()[:-9]\n",
    "    place = address.split(\" \")[1]\n",
    "   \n",
    "    data = {\n",
    "        \"가게명\" : name,\n",
    "        \"주소\" : address,\n",
    "        \"구\" : place\n",
    "    }\n",
    "    star_info.append(data)\n",
    "len(star_info)"
   ]
  },
  {
   "cell_type": "markdown",
   "metadata": {},
   "source": [
    "for 문을 이용하여 전체 데이터의 가게명, 주소, 구 정보를 저장하고 저장된 정보의 길이를 확인하여 585개의 매장 모두 저장되었는지 확인한다."
   ]
  },
  {
   "cell_type": "code",
   "execution_count": 11,
   "metadata": {},
   "outputs": [
    {
     "data": {
      "text/html": [
       "<div>\n",
       "<style scoped>\n",
       "    .dataframe tbody tr th:only-of-type {\n",
       "        vertical-align: middle;\n",
       "    }\n",
       "\n",
       "    .dataframe tbody tr th {\n",
       "        vertical-align: top;\n",
       "    }\n",
       "\n",
       "    .dataframe thead th {\n",
       "        text-align: right;\n",
       "    }\n",
       "</style>\n",
       "<table border=\"1\" class=\"dataframe\">\n",
       "  <thead>\n",
       "    <tr style=\"text-align: right;\">\n",
       "      <th></th>\n",
       "      <th>가게명</th>\n",
       "      <th>구</th>\n",
       "      <th>주소</th>\n",
       "    </tr>\n",
       "  </thead>\n",
       "  <tbody>\n",
       "    <tr>\n",
       "      <th>583</th>\n",
       "      <td>중랑구청</td>\n",
       "      <td>중랑구</td>\n",
       "      <td>서울특별시 중랑구 신내로 72</td>\n",
       "    </tr>\n",
       "    <tr>\n",
       "      <th>584</th>\n",
       "      <td>사가정역</td>\n",
       "      <td>중랑구</td>\n",
       "      <td>서울특별시 중랑구 면목로 310</td>\n",
       "    </tr>\n",
       "    <tr>\n",
       "      <th>585</th>\n",
       "      <td>상봉역</td>\n",
       "      <td>중랑구</td>\n",
       "      <td>서울특별시 중랑구 망우로 307 (상봉동)</td>\n",
       "    </tr>\n",
       "    <tr>\n",
       "      <th>586</th>\n",
       "      <td>묵동</td>\n",
       "      <td>중랑구</td>\n",
       "      <td>서울특별시 중랑구 동일로 952 (묵동, 로프트원 태릉입구역) 1층</td>\n",
       "    </tr>\n",
       "    <tr>\n",
       "      <th>587</th>\n",
       "      <td>중화역</td>\n",
       "      <td>중랑구</td>\n",
       "      <td>서울특별시 중랑구 봉화산로 35</td>\n",
       "    </tr>\n",
       "  </tbody>\n",
       "</table>\n",
       "</div>"
      ],
      "text/plain": [
       "      가게명    구                                     주소\n",
       "583  중랑구청  중랑구                       서울특별시 중랑구 신내로 72\n",
       "584  사가정역  중랑구                      서울특별시 중랑구 면목로 310\n",
       "585   상봉역  중랑구                서울특별시 중랑구 망우로 307 (상봉동)\n",
       "586    묵동  중랑구  서울특별시 중랑구 동일로 952 (묵동, 로프트원 태릉입구역) 1층\n",
       "587   중화역  중랑구                     서울특별시 중랑구 봉화산로 35 "
      ]
     },
     "execution_count": 11,
     "metadata": {},
     "output_type": "execute_result"
    }
   ],
   "source": [
    "df_star = pd.DataFrame(star_info, columns = ['가게명', '구', '주소'])\n",
    "df_star.tail()"
   ]
  },
  {
   "cell_type": "code",
   "execution_count": 12,
   "metadata": {},
   "outputs": [
    {
     "data": {
      "text/html": [
       "<div>\n",
       "<style scoped>\n",
       "    .dataframe tbody tr th:only-of-type {\n",
       "        vertical-align: middle;\n",
       "    }\n",
       "\n",
       "    .dataframe tbody tr th {\n",
       "        vertical-align: top;\n",
       "    }\n",
       "\n",
       "    .dataframe thead th {\n",
       "        text-align: right;\n",
       "    }\n",
       "</style>\n",
       "<table border=\"1\" class=\"dataframe\">\n",
       "  <thead>\n",
       "    <tr style=\"text-align: right;\">\n",
       "      <th></th>\n",
       "      <th>가게명</th>\n",
       "      <th>구</th>\n",
       "      <th>주소</th>\n",
       "    </tr>\n",
       "  </thead>\n",
       "  <tbody>\n",
       "    <tr>\n",
       "      <th>0</th>\n",
       "      <td>역삼아레나빌딩</td>\n",
       "      <td>강남구</td>\n",
       "      <td>서울특별시 강남구 언주로 425 (역삼동)</td>\n",
       "    </tr>\n",
       "    <tr>\n",
       "      <th>1</th>\n",
       "      <td>논현역사거리</td>\n",
       "      <td>강남구</td>\n",
       "      <td>서울특별시 강남구 강남대로 538 (논현동)</td>\n",
       "    </tr>\n",
       "    <tr>\n",
       "      <th>2</th>\n",
       "      <td>신사역성일빌딩</td>\n",
       "      <td>강남구</td>\n",
       "      <td>서울특별시 강남구 강남대로 584 (논현동)</td>\n",
       "    </tr>\n",
       "    <tr>\n",
       "      <th>3</th>\n",
       "      <td>국기원사거리</td>\n",
       "      <td>강남구</td>\n",
       "      <td>서울특별시 강남구 테헤란로 125 (역삼동)</td>\n",
       "    </tr>\n",
       "    <tr>\n",
       "      <th>4</th>\n",
       "      <td>대치재경빌딩R</td>\n",
       "      <td>강남구</td>\n",
       "      <td>서울특별시 강남구 남부순환로 2947 (대치동)</td>\n",
       "    </tr>\n",
       "  </tbody>\n",
       "</table>\n",
       "</div>"
      ],
      "text/plain": [
       "       가게명    구                          주소\n",
       "0  역삼아레나빌딩  강남구     서울특별시 강남구 언주로 425 (역삼동)\n",
       "1   논현역사거리  강남구    서울특별시 강남구 강남대로 538 (논현동)\n",
       "2  신사역성일빌딩  강남구    서울특별시 강남구 강남대로 584 (논현동)\n",
       "3   국기원사거리  강남구    서울특별시 강남구 테헤란로 125 (역삼동)\n",
       "4  대치재경빌딩R  강남구  서울특별시 강남구 남부순환로 2947 (대치동)"
      ]
     },
     "execution_count": 12,
     "metadata": {},
     "output_type": "execute_result"
    }
   ],
   "source": [
    "df_star.head()"
   ]
  },
  {
   "cell_type": "markdown",
   "metadata": {},
   "source": [
    "DataFrame에 저장후 정렬, tail을 통하여 모든 데이터가 들어갔는지 한번 더 확인."
   ]
  },
  {
   "cell_type": "code",
   "execution_count": 13,
   "metadata": {},
   "outputs": [
    {
     "data": {
      "text/plain": [
       "['영등포구',\n",
       " '동대문구',\n",
       " '강서구',\n",
       " '서대문구',\n",
       " '광진구',\n",
       " '관악구',\n",
       " '노원구',\n",
       " '송파구',\n",
       " '중구',\n",
       " '종로구',\n",
       " '동작구',\n",
       " '성동구',\n",
       " '강동구',\n",
       " '은평구',\n",
       " '서초구',\n",
       " '강북구',\n",
       " '양천구',\n",
       " '중랑구',\n",
       " '구로구',\n",
       " '성북구',\n",
       " '도봉구',\n",
       " '강남구',\n",
       " '금천구',\n",
       " '마포구',\n",
       " '용산구']"
      ]
     },
     "execution_count": 13,
     "metadata": {},
     "output_type": "execute_result"
    }
   ],
   "source": [
    "gu_list = list(set(df_star[\"구\"]))\n",
    "gu_list"
   ]
  },
  {
   "cell_type": "markdown",
   "metadata": {},
   "source": [
    "이디야 검색"
   ]
  },
  {
   "cell_type": "code",
   "execution_count": 14,
   "metadata": {},
   "outputs": [
    {
     "name": "stderr",
     "output_type": "stream",
     "text": [
      "C:\\Users\\perso\\AppData\\Local\\Temp\\ipykernel_33548\\3587683499.py:2: DeprecationWarning: executable_path has been deprecated, please pass in a Service object\n",
      "  driver = webdriver.Chrome('./chromedriver.exe')\n"
     ]
    }
   ],
   "source": [
    "edi_url = \"https://www.ediya.com/contents/find_store.html\"\n",
    "driver = webdriver.Chrome('./chromedriver.exe')\n",
    "driver.get(edi_url)"
   ]
  },
  {
   "cell_type": "markdown",
   "metadata": {},
   "source": [
    "이디야 매장 검색 페이지를 연다.\n",
    "이디야 매장은 직접 구를 입력해 줘야 함으로 스타벅스 매장 수집때 만든 구 리스트를 활용하여 검색한다."
   ]
  },
  {
   "cell_type": "markdown",
   "metadata": {},
   "source": [
    "또한 그냥 구만 입력하였을시 위 사진과 같은 확인창이 떠 모든 데이터 수집이 멈춘다. 서울 + 구 명으로 입력하도록 코드 수정하기로 하였다."
   ]
  },
  {
   "cell_type": "code",
   "execution_count": 16,
   "metadata": {},
   "outputs": [
    {
     "data": {
      "text/plain": [
       "[<li class=\"item\"><a href=\"#c\" onclick=\"panLatTo('0','0','0');fnMove();\"><div class=\"store_thum\"><img src=\"../images/customer/store_thum.gif\"/></div><dl><dt>강남YMCA점</dt> <dd>서울 강남구 논현동</dd></dl></a></li>,\n",
       " <li class=\"item\"><a href=\"#c\" onclick=\"panLatTo('127.0401601992311','37.51654171724045','1');fnMove();\"><div class=\"store_thum\"><img src=\"../images/customer/store_thum.gif\"/></div><dl><dt>강남구청역아이티웨딩점</dt> <dd>서울 강남구 학동로 338 (논현동, 강남파라곤)</dd></dl></a></li>,\n",
       " <li class=\"item\"><a href=\"#c\" onclick=\"panLatTo('127.02810578707652','37.51408005446769','2');fnMove();\"><div class=\"store_thum\"><img src=\"../images/customer/store_thum.gif\"/></div><dl><dt>강남논현학동점</dt> <dd>서울 강남구 논현로131길 28 (논현동)</dd></dl></a></li>,\n",
       " <li class=\"item\"><a href=\"#c\" onclick=\"panLatTo('127.05242928262568','37.50133876179308','3');fnMove();\"><div class=\"store_thum\"><img src=\"../images/customer/store_thum.gif\"/></div><dl><dt>강남대치점</dt> <dd>서울 강남구 역삼로 415 (대치동, 성진빌딩)</dd></dl></a></li>,\n",
       " <li class=\"item\"><a href=\"#c\" onclick=\"panAddTo('서울 강남구 도산대로37길 20 (신사동)','4');fnMove();\"><div class=\"store_thum\"><img src=\"../images/customer/store_thum.gif\"/></div><dl><dt>강남도산점</dt> <dd>서울 강남구 도산대로37길 20 (신사동)</dd></dl></a></li>,\n",
       " <li class=\"item\"><a href=\"#c\" onclick=\"panLatTo('127.1007917976449','37.46684383424938','5');fnMove();\"><div class=\"store_thum\"><img src=\"../images/customer/store_thum.gif\"/></div><dl><dt>강남세곡점</dt> <dd>서울 강남구 헌릉로569길 9 (세곡동, 강남지웰파인즈)</dd></dl></a></li>,\n",
       " <li class=\"item\"><a href=\"#c\" onclick=\"panLatTo('127.107863694133','37.4735487656314','6');fnMove();\"><div class=\"store_thum\"><img src=\"../images/customer/store_thum.gif\"/></div><dl><dt>강남율현점</dt> <dd>서울 강남구 밤고개로21길 8 (율현동, 세곡프라자)</dd></dl></a></li>,\n",
       " <li class=\"item\"><a href=\"#c\" onclick=\"panLatTo('127.1031720971561','37.473606114795814','7');fnMove();\"><div class=\"store_thum\"><img src=\"../images/customer/store_thum.gif\"/></div><dl><dt>강남자곡점</dt> <dd>서울 강남구 자곡로 180 (자곡동, 강남유탑유블레스)</dd></dl></a></li>,\n",
       " <li class=\"item\"><a href=\"#c\" onclick=\"panLatTo('127.06742226515867','37.488604436046536','8');fnMove();\"><div class=\"store_thum\"><img src=\"../images/customer/store_thum.gif\"/></div><dl><dt>개포동역점</dt> <dd>서울 강남구 개포로82길 11 (개포동, 삼우빌딩)</dd></dl></a></li>,\n",
       " <li class=\"item\"><a href=\"#c\" onclick=\"panAddTo('서울 강남구 언주로 711 (논현동)','9');fnMove();\"><div class=\"store_thum\"><img src=\"../images/customer/store_thum.gif\"/></div><dl><dt>건설회관점</dt> <dd>서울 강남구 언주로 711 (논현동)</dd></dl></a></li>,\n",
       " <li class=\"item\"><a href=\"#c\" onclick=\"panLatTo('127.07764131137398','37.49418891219431','10');fnMove();\"><div class=\"store_thum\"><img src=\"../images/customer/store_thum.gif\"/></div><dl><dt>대청역점</dt> <dd>서울 강남구 개포로109길 34 (개포동, 대청프라자)</dd></dl></a></li>,\n",
       " <li class=\"item\"><a href=\"#c\" onclick=\"panLatTo('127.061617564506','37.4940924880388','11');fnMove();\"><div class=\"store_thum\"><img src=\"../images/customer/store_thum.gif\"/></div><dl><dt>대치역점</dt> <dd>서울 강남구 남부순환로 2937 (대치동, 까치빌딩)</dd></dl></a></li>,\n",
       " <li class=\"item\"><a href=\"#c\" onclick=\"panLatTo('127.04304591726503','37.482353824702095','12');fnMove();\"><div class=\"store_thum\"><img src=\"../images/customer/store_thum.gif\"/></div><dl><dt>도곡2동점</dt> <dd>서울 강남구 논현로 142 (도곡동, 동현빌딩)</dd></dl></a></li>,\n",
       " <li class=\"item\"><a href=\"#c\" onclick=\"panAddTo('서울 강남구 논현동 ','13');fnMove();\"><div class=\"store_thum\"><img src=\"../images/customer/store_thum.gif\"/></div><dl><dt>도산사거리점</dt> <dd>서울 강남구 논현동 </dd></dl></a></li>,\n",
       " <li class=\"item\"><a href=\"#c\" onclick=\"panLatTo('127.06310437319587','37.50043704079942','14');fnMove();\"><div class=\"store_thum\"><img src=\"../images/customer/store_thum.gif\"/></div><dl><dt>삼성대치점</dt> <dd>서울 강남구 삼성로64길 32 (대치동, 주성빌딩)</dd></dl></a></li>,\n",
       " <li class=\"item\"><a href=\"#c\" onclick=\"panAddTo('서울 강남구 테헤란로88길 10 (대치동)','15');fnMove();\"><div class=\"store_thum\"><img src=\"../images/customer/store_thum.gif\"/></div><dl><dt>삼성동점</dt> <dd>서울 강남구 테헤란로88길 10 (대치동)</dd></dl></a></li>,\n",
       " <li class=\"item\"><a href=\"#c\" onclick=\"panLatTo('127.053299510545','37.5138886492475','16');fnMove();\"><div class=\"store_thum\"><img src=\"../images/customer/store_thum.gif\"/></div><dl><dt>삼성중앙역점</dt> <dd>서울 강남구 삼성로 608 (삼성동, 우창빌딩)</dd></dl></a></li>,\n",
       " <li class=\"item\"><a href=\"#c\" onclick=\"panAddTo('서울 강남구 테헤란로107길 11 (삼성동)','17');fnMove();\"><div class=\"store_thum\"><img src=\"../images/customer/store_thum.gif\"/></div><dl><dt>삼성한전점</dt> <dd>서울 강남구 테헤란로107길 11 (삼성동)</dd></dl></a></li>,\n",
       " <li class=\"item\"><a href=\"#c\" onclick=\"panLatTo('127.04806966822704','37.50585465375997','18');fnMove();\"><div class=\"store_thum\"><img src=\"../images/customer/store_thum.gif\"/></div><dl><dt>선릉사거리점</dt> <dd>서울 강남구 선릉로 519 (역삼동, 삼능빌딩)</dd></dl></a></li>,\n",
       " <li class=\"item\"><a href=\"#c\" onclick=\"panLatTo('127.048192060882','37.503774633134','19');fnMove();\"><div class=\"store_thum\"><img src=\"../images/customer/store_thum.gif\"/></div><dl><dt>선릉역점</dt> <dd>서울 강남구 테헤란로 332 (역삼동, HJ타워)</dd></dl></a></li>,\n",
       " <li class=\"item\"><a href=\"#c\" onclick=\"panLatTo('127.05088702698811','37.50346806209728','20');fnMove();\"><div class=\"store_thum\"><img src=\"../images/customer/store_thum.gif\"/></div><dl><dt>선릉점</dt> <dd>서울 강남구 선릉로86길 15 (대치동, 현대선릉 GOLD TOWER)</dd></dl></a></li>,\n",
       " <li class=\"item\"><a href=\"#c\" onclick=\"panLatTo('0','0','21');fnMove();\"><div class=\"store_thum\"><img src=\"../images/customer/store_thum.gif\"/></div><dl><dt>선정릉역점</dt> <dd>서울 강남구 봉은사로 326 (역삼동)</dd></dl></a></li>,\n",
       " <li class=\"item\"><a href=\"#c\" onclick=\"panLatTo('127.10304411368496','37.487429952799744','22');fnMove();\"><div class=\"store_thum\"><img src=\"../images/customer/store_thum.gif\"/></div><dl><dt>수서역점</dt> <dd>서울 강남구 광평로 280 (수서동, 로즈데일오피스텔)</dd></dl></a></li>,\n",
       " <li class=\"item\"><a href=\"#c\" onclick=\"panLatTo('127.02145819084597','37.517782772275645','23');fnMove();\"><div class=\"store_thum\"><img src=\"../images/customer/store_thum.gif\"/></div><dl><dt>신사역점</dt> <dd>서울 강남구 압구정로2길 62 (신사동)</dd></dl></a></li>,\n",
       " <li class=\"item\"><a href=\"#c\" onclick=\"panLatTo('127.02186508143391','37.51665644330877','24');fnMove();\"><div class=\"store_thum\"><img src=\"../images/customer/store_thum.gif\"/></div><dl><dt>신사점</dt> <dd>서울 강남구 도산대로 118 (논현동)</dd></dl></a></li>,\n",
       " <li class=\"item\"><a href=\"#c\" onclick=\"panAddTo('서울 강남구 선릉로161길 20 (신사동)','25');fnMove();\"><div class=\"store_thum\"><img src=\"../images/customer/store_thum.gif\"/></div><dl><dt>압구정로데오역점</dt> <dd>서울 강남구 선릉로161길 20 (신사동)</dd></dl></a></li>,\n",
       " <li class=\"item\"><a href=\"#c\" onclick=\"panAddTo('서울 강남구 신사동','26');fnMove();\"><div class=\"store_thum\"><img src=\"../images/customer/store_thum.gif\"/></div><dl><dt>압구정점</dt> <dd>서울 강남구 신사동</dd></dl></a></li>,\n",
       " <li class=\"item\"><a href=\"#c\" onclick=\"panLatTo('127.03073566616045','37.527994487818226','27');fnMove();\"><div class=\"store_thum\"><img src=\"../images/customer/store_thum.gif\"/></div><dl><dt>압구정현대점 </dt> <dd>서울 강남구 압구정로 214 (신사동, 현대종합상가빌딩)</dd></dl></a></li>,\n",
       " <li class=\"item\"><a href=\"#c\" onclick=\"panAddTo('서울 강남구 논현로63길 16 (역삼동, 역삼종합시장 더블루)','28');fnMove();\"><div class=\"store_thum\"><img src=\"../images/customer/store_thum.gif\"/></div><dl><dt>역삼더블루점</dt> <dd>서울 강남구 논현로63길 16 (역삼동, 역삼종합시장 더블루)</dd></dl></a></li>,\n",
       " <li class=\"item\"><a href=\"#c\" onclick=\"panLatTo('127.0439944465106','37.504405623324196','29');fnMove();\"><div class=\"store_thum\"><img src=\"../images/customer/store_thum.gif\"/></div><dl><dt>역삼상록점</dt> <dd>서울 강남구 테헤란로43길 18 (역삼동, SC빌딩)</dd></dl></a></li>,\n",
       " <li class=\"item\"><a href=\"#c\" onclick=\"panLatTo('127.03523956508853','37.50178663316214','30');fnMove();\"><div class=\"store_thum\"><img src=\"../images/customer/store_thum.gif\"/></div><dl><dt>역삼역점</dt> <dd>서울 강남구 테헤란로25길 17 (역삼동)</dd></dl></a></li>,\n",
       " <li class=\"item\"><a href=\"#c\" onclick=\"panLatTo('127.04798299548432','37.49854753271711','31');fnMove();\"><div class=\"store_thum\"><img src=\"../images/customer/store_thum.gif\"/></div><dl><dt>역삼월드점</dt> <dd>서울 강남구 역삼로52길 14 (역삼동, 도곡프라자)</dd></dl></a></li>,\n",
       " <li class=\"item\"><a href=\"#c\" onclick=\"panLatTo('0','0','32');fnMove();\"><div class=\"store_thum\"><img src=\"../images/customer/store_thum.gif\"/></div><dl><dt>역삼점</dt> <dd>서울 강남구 논현로72길 13 (역삼동)</dd></dl></a></li>,\n",
       " <li class=\"item\"><a href=\"#c\" onclick=\"panLatTo('127.04292899982501','37.5003154494517','33');fnMove();\"><div class=\"store_thum\"><img src=\"../images/customer/store_thum.gif\"/></div><dl><dt>역삼중앙점</dt> <dd>서울 강남구 언주로81길 8 (역삼동)</dd></dl></a></li>,\n",
       " <li class=\"item\"><a href=\"#c\" onclick=\"panLatTo('0','0','34');fnMove();\"><div class=\"store_thum\"><img src=\"../images/customer/store_thum.gif\"/></div><dl><dt>역삼초교점</dt> <dd>서울 강남구 강남대로 314 (역삼동)</dd></dl></a></li>,\n",
       " <li class=\"item\"><a href=\"#c\" onclick=\"panAddTo('서울 강남구 논현로98길 7 (역삼동)','35');fnMove();\"><div class=\"store_thum\"><img src=\"../images/customer/store_thum.gif\"/></div><dl><dt>역삼충현점</dt> <dd>서울 강남구 논현로98길 7 (역삼동)</dd></dl></a></li>,\n",
       " <li class=\"item\"><a href=\"#c\" onclick=\"panAddTo('서울 강남구 테헤란로4길 46 (역삼동, 쌍용플래티넘밸류)','36');fnMove();\"><div class=\"store_thum\"><img src=\"../images/customer/store_thum.gif\"/></div><dl><dt>역삼플래티넘점</dt> <dd>서울 강남구 테헤란로4길 46 (역삼동, 쌍용플래티넘밸류)</dd></dl></a></li>,\n",
       " <li class=\"item\"><a href=\"#c\" onclick=\"panLatTo('0','0','37');fnMove();\"><div class=\"store_thum\"><img src=\"../images/customer/store_thum.gif\"/></div><dl><dt>을지병원사거리점</dt> <dd>서울 강남구 도산대로30길 7 (논현동)</dd></dl></a></li>,\n",
       " <li class=\"item\"><a href=\"#c\" onclick=\"panLatTo('127.032981540064','37.51047297481296','38');fnMove();\"><div class=\"store_thum\"><img src=\"../images/customer/store_thum.gif\"/></div><dl><dt>이디야커피랩</dt> <dd>서울 강남구 논현로 636 (논현동, 이디야빌딩)</dd></dl></a></li>,\n",
       " <li class=\"item\"><a href=\"#c\" onclick=\"panLatTo('127.08160067456867','37.49040201406986','39');fnMove();\"><div class=\"store_thum\"><img src=\"../images/customer/store_thum.gif\"/></div><dl><dt>일원동점</dt> <dd>서울 강남구 양재대로27길 20 (일원동)</dd></dl></a></li>,\n",
       " <li class=\"item\"><a href=\"#c\" onclick=\"panLatTo('127.05035288418118','37.524855870334314','40');fnMove();\"><div class=\"store_thum\"><img src=\"../images/customer/store_thum.gif\"/></div><dl><dt>청담사거리점</dt> <dd>서울 강남구 도산대로 521 (청담동)</dd></dl></a></li>,\n",
       " <li class=\"item\"><a href=\"#c\" onclick=\"panLatTo('127.049146860404','37.5200643058897','41');fnMove();\"><div class=\"store_thum\"><img src=\"../images/customer/store_thum.gif\"/></div><dl><dt>청담역점</dt> <dd>서울 강남구 삼성로 721 (청담동, 룩희 819)</dd></dl></a></li>,\n",
       " <li class=\"item\"><a href=\"#c\" onclick=\"panAddTo('서울 강남구 개포로 218 (개포동)','42');fnMove();\"><div class=\"store_thum\"><img src=\"../images/customer/store_thum.gif\"/></div><dl><dt>포이사거리점</dt> <dd>서울 강남구 개포로 218 (개포동)</dd></dl></a></li>,\n",
       " <li class=\"item\"><a href=\"#c\" onclick=\"panLatTo('127.03312378880225','37.51499417378034','43');fnMove();\"><div class=\"store_thum\"><img src=\"../images/customer/store_thum.gif\"/></div><dl><dt>학동역점</dt> <dd>서울 강남구 학동로 219 (논현동, 국제빌딩)</dd></dl></a></li>,\n",
       " <li class=\"item\"><a href=\"#c\" onclick=\"panLatTo('127.056118735013','37.4979490135961','44');fnMove();\"><div class=\"store_thum\"><img src=\"../images/customer/store_thum.gif\"/></div><dl><dt>한티역점</dt> <dd>서울 강남구 도곡로69길 8 (대치동)</dd></dl></a></li>]"
      ]
     },
     "execution_count": 16,
     "metadata": {},
     "output_type": "execute_result"
    }
   ],
   "source": [
    "driver.find_element(By.XPATH, '//*[@id=\"contentWrap\"]/div[3]/div/div[1]/ul/li[2]/a').click()\n",
    "driver.find_element(By.XPATH, '//*[@id=\"keyword\"]').clear\n",
    "driver.find_element(By.XPATH, '//*[@id=\"keyword\"]').send_keys(\"서울 강남구\")\n",
    "driver.find_element(By.XPATH, '//*[@id=\"keyword_div\"]/form/button').click()\n",
    "\n",
    "html = driver.page_source\n",
    "soup = BeautifulSoup(html, \"html.parser\")\n",
    "\n",
    "info = soup.find(\"ul\", id = \"placesList\").find_all(\"li\", class_='item')\n",
    "\n",
    "info"
   ]
  },
  {
   "cell_type": "markdown",
   "metadata": {},
   "source": [
    "서울 강남구를 표본으로 데이터가 잘 수집되는지 확인한다."
   ]
  },
  {
   "cell_type": "code",
   "execution_count": 17,
   "metadata": {},
   "outputs": [
    {
     "data": {
      "text/plain": [
       "751"
      ]
     },
     "execution_count": 17,
     "metadata": {},
     "output_type": "execute_result"
    }
   ],
   "source": [
    "edi_info = []\n",
    "\n",
    "\n",
    "\n",
    "for gu in gu_list:\n",
    "    driver.find_element(By.XPATH, '//*[@id=\"contentWrap\"]/div[3]/div/div[1]/ul/li[2]/a').click()\n",
    "    driver.find_element(By.XPATH, '//*[@id=\"keyword\"]').clear\n",
    "    driver.find_element(By.XPATH, '//*[@id=\"keyword\"]').send_keys(\"서울 \" + gu)\n",
    "    driver.find_element(By.XPATH, '//*[@id=\"keyword_div\"]/form/button').click()\n",
    "    \n",
    "    html = driver.page_source\n",
    "    soup = BeautifulSoup(html, \"html.parser\")\n",
    "    \n",
    "    info = soup.find(\"ul\", id = \"placesList\").find_all(\"li\", class_='item')\n",
    "    \n",
    "    for item in info:\n",
    "        name = item.find(\"dt\").text\n",
    "        address = item.find(\"dd\").text.strip()\n",
    "        place = address.split(\" \")[1]\n",
    "        \n",
    "\n",
    "        data = {\n",
    "            \"가게명\" : name,\n",
    "            \"구\" : place,\n",
    "            \"주소\" : address,\n",
    "        }\n",
    "        edi_info.append(data)\n",
    " \n",
    "len(edi_info)"
   ]
  },
  {
   "cell_type": "markdown",
   "metadata": {},
   "source": [
    "for 문을 이용하여 각 구별 매장을 저장하고 길이를 통하여 매장 수를 확인한다. 총 741개의 매장이 저장되었다."
   ]
  },
  {
   "cell_type": "code",
   "execution_count": 18,
   "metadata": {},
   "outputs": [
    {
     "data": {
      "text/html": [
       "<div>\n",
       "<style scoped>\n",
       "    .dataframe tbody tr th:only-of-type {\n",
       "        vertical-align: middle;\n",
       "    }\n",
       "\n",
       "    .dataframe tbody tr th {\n",
       "        vertical-align: top;\n",
       "    }\n",
       "\n",
       "    .dataframe thead th {\n",
       "        text-align: right;\n",
       "    }\n",
       "</style>\n",
       "<table border=\"1\" class=\"dataframe\">\n",
       "  <thead>\n",
       "    <tr style=\"text-align: right;\">\n",
       "      <th></th>\n",
       "      <th>가게명</th>\n",
       "      <th>구</th>\n",
       "      <th>주소</th>\n",
       "    </tr>\n",
       "  </thead>\n",
       "  <tbody>\n",
       "    <tr>\n",
       "      <th>746</th>\n",
       "      <td>합정홈플러스점</td>\n",
       "      <td>마포구</td>\n",
       "      <td>서울 마포구 양화로 45 (서교동, 메세나폴리스)</td>\n",
       "    </tr>\n",
       "    <tr>\n",
       "      <th>747</th>\n",
       "      <td>홍대중앙점</td>\n",
       "      <td>마포구</td>\n",
       "      <td>서울 마포구 양화로 124 (서교동)</td>\n",
       "    </tr>\n",
       "    <tr>\n",
       "      <th>748</th>\n",
       "      <td>홍대청기와점</td>\n",
       "      <td>마포구</td>\n",
       "      <td>서울 마포구 월드컵북로 7 (서교동)</td>\n",
       "    </tr>\n",
       "    <tr>\n",
       "      <th>749</th>\n",
       "      <td>홍대학원가점</td>\n",
       "      <td>마포구</td>\n",
       "      <td>서울 마포구 와우산로 148 (창전동)</td>\n",
       "    </tr>\n",
       "    <tr>\n",
       "      <th>750</th>\n",
       "      <td>홍익대점</td>\n",
       "      <td>마포구</td>\n",
       "      <td>서울 마포구 홍익로 10 (서교동, 서교푸르지오)</td>\n",
       "    </tr>\n",
       "  </tbody>\n",
       "</table>\n",
       "</div>"
      ],
      "text/plain": [
       "         가게명    구                           주소\n",
       "746  합정홈플러스점  마포구  서울 마포구 양화로 45 (서교동, 메세나폴리스)\n",
       "747    홍대중앙점  마포구         서울 마포구 양화로 124 (서교동)\n",
       "748   홍대청기와점  마포구         서울 마포구 월드컵북로 7 (서교동)\n",
       "749   홍대학원가점  마포구        서울 마포구 와우산로 148 (창전동)\n",
       "750     홍익대점  마포구  서울 마포구 홍익로 10 (서교동, 서교푸르지오)"
      ]
     },
     "execution_count": 18,
     "metadata": {},
     "output_type": "execute_result"
    }
   ],
   "source": [
    "df_edi = pd.DataFrame(edi_info)\n",
    "df_edi.tail()"
   ]
  },
  {
   "cell_type": "markdown",
   "metadata": {},
   "source": [
    "이디야 정보를 DataFrame에 저장하고 tail을 통하여 모든 데이터가 들어갔는지 확인한다."
   ]
  },
  {
   "cell_type": "markdown",
   "metadata": {},
   "source": [
    "## 구별 매장 수 확인 및 차이 구하기"
   ]
  },
  {
   "cell_type": "markdown",
   "metadata": {},
   "source": [
    "- 스타벅스 데이터"
   ]
  },
  {
   "cell_type": "code",
   "execution_count": 19,
   "metadata": {},
   "outputs": [
    {
     "data": {
      "text/html": [
       "<div>\n",
       "<style scoped>\n",
       "    .dataframe tbody tr th:only-of-type {\n",
       "        vertical-align: middle;\n",
       "    }\n",
       "\n",
       "    .dataframe tbody tr th {\n",
       "        vertical-align: top;\n",
       "    }\n",
       "\n",
       "    .dataframe thead th {\n",
       "        text-align: right;\n",
       "    }\n",
       "</style>\n",
       "<table border=\"1\" class=\"dataframe\">\n",
       "  <thead>\n",
       "    <tr style=\"text-align: right;\">\n",
       "      <th></th>\n",
       "      <th>구</th>\n",
       "      <th>스벅 매장수</th>\n",
       "    </tr>\n",
       "  </thead>\n",
       "  <tbody>\n",
       "    <tr>\n",
       "      <th>0</th>\n",
       "      <td>영등포구</td>\n",
       "      <td>41</td>\n",
       "    </tr>\n",
       "    <tr>\n",
       "      <th>1</th>\n",
       "      <td>동대문구</td>\n",
       "      <td>9</td>\n",
       "    </tr>\n",
       "    <tr>\n",
       "      <th>2</th>\n",
       "      <td>강서구</td>\n",
       "      <td>26</td>\n",
       "    </tr>\n",
       "    <tr>\n",
       "      <th>3</th>\n",
       "      <td>서대문구</td>\n",
       "      <td>21</td>\n",
       "    </tr>\n",
       "    <tr>\n",
       "      <th>4</th>\n",
       "      <td>광진구</td>\n",
       "      <td>19</td>\n",
       "    </tr>\n",
       "    <tr>\n",
       "      <th>5</th>\n",
       "      <td>관악구</td>\n",
       "      <td>12</td>\n",
       "    </tr>\n",
       "    <tr>\n",
       "      <th>6</th>\n",
       "      <td>노원구</td>\n",
       "      <td>13</td>\n",
       "    </tr>\n",
       "    <tr>\n",
       "      <th>7</th>\n",
       "      <td>송파구</td>\n",
       "      <td>34</td>\n",
       "    </tr>\n",
       "    <tr>\n",
       "      <th>8</th>\n",
       "      <td>중구</td>\n",
       "      <td>53</td>\n",
       "    </tr>\n",
       "    <tr>\n",
       "      <th>9</th>\n",
       "      <td>종로구</td>\n",
       "      <td>39</td>\n",
       "    </tr>\n",
       "    <tr>\n",
       "      <th>10</th>\n",
       "      <td>동작구</td>\n",
       "      <td>11</td>\n",
       "    </tr>\n",
       "    <tr>\n",
       "      <th>11</th>\n",
       "      <td>성동구</td>\n",
       "      <td>13</td>\n",
       "    </tr>\n",
       "    <tr>\n",
       "      <th>12</th>\n",
       "      <td>강동구</td>\n",
       "      <td>17</td>\n",
       "    </tr>\n",
       "    <tr>\n",
       "      <th>13</th>\n",
       "      <td>은평구</td>\n",
       "      <td>10</td>\n",
       "    </tr>\n",
       "    <tr>\n",
       "      <th>14</th>\n",
       "      <td>서초구</td>\n",
       "      <td>48</td>\n",
       "    </tr>\n",
       "    <tr>\n",
       "      <th>15</th>\n",
       "      <td>강북구</td>\n",
       "      <td>6</td>\n",
       "    </tr>\n",
       "    <tr>\n",
       "      <th>16</th>\n",
       "      <td>양천구</td>\n",
       "      <td>17</td>\n",
       "    </tr>\n",
       "    <tr>\n",
       "      <th>17</th>\n",
       "      <td>중랑구</td>\n",
       "      <td>7</td>\n",
       "    </tr>\n",
       "    <tr>\n",
       "      <th>18</th>\n",
       "      <td>구로구</td>\n",
       "      <td>12</td>\n",
       "    </tr>\n",
       "    <tr>\n",
       "      <th>19</th>\n",
       "      <td>성북구</td>\n",
       "      <td>15</td>\n",
       "    </tr>\n",
       "    <tr>\n",
       "      <th>20</th>\n",
       "      <td>도봉구</td>\n",
       "      <td>4</td>\n",
       "    </tr>\n",
       "    <tr>\n",
       "      <th>21</th>\n",
       "      <td>강남구</td>\n",
       "      <td>89</td>\n",
       "    </tr>\n",
       "    <tr>\n",
       "      <th>22</th>\n",
       "      <td>금천구</td>\n",
       "      <td>13</td>\n",
       "    </tr>\n",
       "    <tr>\n",
       "      <th>23</th>\n",
       "      <td>마포구</td>\n",
       "      <td>35</td>\n",
       "    </tr>\n",
       "    <tr>\n",
       "      <th>24</th>\n",
       "      <td>용산구</td>\n",
       "      <td>24</td>\n",
       "    </tr>\n",
       "  </tbody>\n",
       "</table>\n",
       "</div>"
      ],
      "text/plain": [
       "       구  스벅 매장수\n",
       "0   영등포구      41\n",
       "1   동대문구       9\n",
       "2    강서구      26\n",
       "3   서대문구      21\n",
       "4    광진구      19\n",
       "5    관악구      12\n",
       "6    노원구      13\n",
       "7    송파구      34\n",
       "8     중구      53\n",
       "9    종로구      39\n",
       "10   동작구      11\n",
       "11   성동구      13\n",
       "12   강동구      17\n",
       "13   은평구      10\n",
       "14   서초구      48\n",
       "15   강북구       6\n",
       "16   양천구      17\n",
       "17   중랑구       7\n",
       "18   구로구      12\n",
       "19   성북구      15\n",
       "20   도봉구       4\n",
       "21   강남구      89\n",
       "22   금천구      13\n",
       "23   마포구      35\n",
       "24   용산구      24"
      ]
     },
     "execution_count": 19,
     "metadata": {},
     "output_type": "execute_result"
    }
   ],
   "source": [
    "star_count = []\n",
    "for item in gu_list:\n",
    "    n = len(df_star.loc[df_star['구']==item])\n",
    "    data = {\n",
    "        \"구\" : item,\n",
    "        \"스벅 매장수\" : n\n",
    "    }\n",
    "    star_count.append(data)\n",
    "df_star_count = pd.DataFrame(star_count)\n",
    "df_star_count"
   ]
  },
  {
   "cell_type": "markdown",
   "metadata": {},
   "source": [
    "위에서 수집한 스타벅스 데이터중 구와 매장수 정보만 가져와 새 데이터 프레임을 만든다."
   ]
  },
  {
   "cell_type": "code",
   "execution_count": 20,
   "metadata": {},
   "outputs": [
    {
     "data": {
      "text/html": [
       "<div>\n",
       "<style scoped>\n",
       "    .dataframe tbody tr th:only-of-type {\n",
       "        vertical-align: middle;\n",
       "    }\n",
       "\n",
       "    .dataframe tbody tr th {\n",
       "        vertical-align: top;\n",
       "    }\n",
       "\n",
       "    .dataframe thead th {\n",
       "        text-align: right;\n",
       "    }\n",
       "</style>\n",
       "<table border=\"1\" class=\"dataframe\">\n",
       "  <thead>\n",
       "    <tr style=\"text-align: right;\">\n",
       "      <th></th>\n",
       "      <th>구</th>\n",
       "      <th>이디야 매장수</th>\n",
       "    </tr>\n",
       "  </thead>\n",
       "  <tbody>\n",
       "    <tr>\n",
       "      <th>0</th>\n",
       "      <td>영등포구</td>\n",
       "      <td>41</td>\n",
       "    </tr>\n",
       "    <tr>\n",
       "      <th>1</th>\n",
       "      <td>동대문구</td>\n",
       "      <td>25</td>\n",
       "    </tr>\n",
       "    <tr>\n",
       "      <th>2</th>\n",
       "      <td>강서구</td>\n",
       "      <td>45</td>\n",
       "    </tr>\n",
       "    <tr>\n",
       "      <th>3</th>\n",
       "      <td>서대문구</td>\n",
       "      <td>21</td>\n",
       "    </tr>\n",
       "    <tr>\n",
       "      <th>4</th>\n",
       "      <td>광진구</td>\n",
       "      <td>24</td>\n",
       "    </tr>\n",
       "    <tr>\n",
       "      <th>5</th>\n",
       "      <td>관악구</td>\n",
       "      <td>28</td>\n",
       "    </tr>\n",
       "    <tr>\n",
       "      <th>6</th>\n",
       "      <td>노원구</td>\n",
       "      <td>31</td>\n",
       "    </tr>\n",
       "    <tr>\n",
       "      <th>7</th>\n",
       "      <td>송파구</td>\n",
       "      <td>39</td>\n",
       "    </tr>\n",
       "    <tr>\n",
       "      <th>8</th>\n",
       "      <td>중구</td>\n",
       "      <td>29</td>\n",
       "    </tr>\n",
       "    <tr>\n",
       "      <th>9</th>\n",
       "      <td>종로구</td>\n",
       "      <td>31</td>\n",
       "    </tr>\n",
       "    <tr>\n",
       "      <th>10</th>\n",
       "      <td>동작구</td>\n",
       "      <td>22</td>\n",
       "    </tr>\n",
       "    <tr>\n",
       "      <th>11</th>\n",
       "      <td>성동구</td>\n",
       "      <td>23</td>\n",
       "    </tr>\n",
       "    <tr>\n",
       "      <th>12</th>\n",
       "      <td>강동구</td>\n",
       "      <td>27</td>\n",
       "    </tr>\n",
       "    <tr>\n",
       "      <th>13</th>\n",
       "      <td>은평구</td>\n",
       "      <td>27</td>\n",
       "    </tr>\n",
       "    <tr>\n",
       "      <th>14</th>\n",
       "      <td>서초구</td>\n",
       "      <td>29</td>\n",
       "    </tr>\n",
       "    <tr>\n",
       "      <th>15</th>\n",
       "      <td>강북구</td>\n",
       "      <td>20</td>\n",
       "    </tr>\n",
       "    <tr>\n",
       "      <th>16</th>\n",
       "      <td>양천구</td>\n",
       "      <td>27</td>\n",
       "    </tr>\n",
       "    <tr>\n",
       "      <th>17</th>\n",
       "      <td>중랑구</td>\n",
       "      <td>27</td>\n",
       "    </tr>\n",
       "    <tr>\n",
       "      <th>18</th>\n",
       "      <td>구로구</td>\n",
       "      <td>28</td>\n",
       "    </tr>\n",
       "    <tr>\n",
       "      <th>19</th>\n",
       "      <td>성북구</td>\n",
       "      <td>32</td>\n",
       "    </tr>\n",
       "    <tr>\n",
       "      <th>20</th>\n",
       "      <td>도봉구</td>\n",
       "      <td>24</td>\n",
       "    </tr>\n",
       "    <tr>\n",
       "      <th>21</th>\n",
       "      <td>강남구</td>\n",
       "      <td>90</td>\n",
       "    </tr>\n",
       "    <tr>\n",
       "      <th>22</th>\n",
       "      <td>금천구</td>\n",
       "      <td>23</td>\n",
       "    </tr>\n",
       "    <tr>\n",
       "      <th>23</th>\n",
       "      <td>마포구</td>\n",
       "      <td>38</td>\n",
       "    </tr>\n",
       "    <tr>\n",
       "      <th>24</th>\n",
       "      <td>용산구</td>\n",
       "      <td>0</td>\n",
       "    </tr>\n",
       "  </tbody>\n",
       "</table>\n",
       "</div>"
      ],
      "text/plain": [
       "       구  이디야 매장수\n",
       "0   영등포구       41\n",
       "1   동대문구       25\n",
       "2    강서구       45\n",
       "3   서대문구       21\n",
       "4    광진구       24\n",
       "5    관악구       28\n",
       "6    노원구       31\n",
       "7    송파구       39\n",
       "8     중구       29\n",
       "9    종로구       31\n",
       "10   동작구       22\n",
       "11   성동구       23\n",
       "12   강동구       27\n",
       "13   은평구       27\n",
       "14   서초구       29\n",
       "15   강북구       20\n",
       "16   양천구       27\n",
       "17   중랑구       27\n",
       "18   구로구       28\n",
       "19   성북구       32\n",
       "20   도봉구       24\n",
       "21   강남구       90\n",
       "22   금천구       23\n",
       "23   마포구       38\n",
       "24   용산구        0"
      ]
     },
     "execution_count": 20,
     "metadata": {},
     "output_type": "execute_result"
    }
   ],
   "source": [
    "edi_count = []\n",
    "for item in gu_list:\n",
    "    n = len(df_edi.loc[df_edi['구']==item])\n",
    "    data = {\n",
    "        \"구\" : item,\n",
    "        \"이디야 매장수\" : n\n",
    "    }\n",
    "    edi_count.append(data)\n",
    "df_edi_count = pd.DataFrame(edi_count)\n",
    "df_edi_count"
   ]
  },
  {
   "cell_type": "markdown",
   "metadata": {},
   "source": [
    "매장수 차이 데이터"
   ]
  },
  {
   "cell_type": "code",
   "execution_count": 21,
   "metadata": {},
   "outputs": [
    {
     "data": {
      "text/html": [
       "<div>\n",
       "<style scoped>\n",
       "    .dataframe tbody tr th:only-of-type {\n",
       "        vertical-align: middle;\n",
       "    }\n",
       "\n",
       "    .dataframe tbody tr th {\n",
       "        vertical-align: top;\n",
       "    }\n",
       "\n",
       "    .dataframe thead th {\n",
       "        text-align: right;\n",
       "    }\n",
       "</style>\n",
       "<table border=\"1\" class=\"dataframe\">\n",
       "  <thead>\n",
       "    <tr style=\"text-align: right;\">\n",
       "      <th></th>\n",
       "      <th>구</th>\n",
       "      <th>이디야 매장수</th>\n",
       "      <th>스벅 매장수</th>\n",
       "      <th>매장 수 차이</th>\n",
       "    </tr>\n",
       "  </thead>\n",
       "  <tbody>\n",
       "    <tr>\n",
       "      <th>0</th>\n",
       "      <td>영등포구</td>\n",
       "      <td>41</td>\n",
       "      <td>41</td>\n",
       "      <td>0</td>\n",
       "    </tr>\n",
       "    <tr>\n",
       "      <th>1</th>\n",
       "      <td>동대문구</td>\n",
       "      <td>25</td>\n",
       "      <td>9</td>\n",
       "      <td>16</td>\n",
       "    </tr>\n",
       "    <tr>\n",
       "      <th>2</th>\n",
       "      <td>강서구</td>\n",
       "      <td>45</td>\n",
       "      <td>26</td>\n",
       "      <td>19</td>\n",
       "    </tr>\n",
       "    <tr>\n",
       "      <th>3</th>\n",
       "      <td>서대문구</td>\n",
       "      <td>21</td>\n",
       "      <td>21</td>\n",
       "      <td>0</td>\n",
       "    </tr>\n",
       "    <tr>\n",
       "      <th>4</th>\n",
       "      <td>광진구</td>\n",
       "      <td>24</td>\n",
       "      <td>19</td>\n",
       "      <td>5</td>\n",
       "    </tr>\n",
       "    <tr>\n",
       "      <th>5</th>\n",
       "      <td>관악구</td>\n",
       "      <td>28</td>\n",
       "      <td>12</td>\n",
       "      <td>16</td>\n",
       "    </tr>\n",
       "    <tr>\n",
       "      <th>6</th>\n",
       "      <td>노원구</td>\n",
       "      <td>31</td>\n",
       "      <td>13</td>\n",
       "      <td>18</td>\n",
       "    </tr>\n",
       "    <tr>\n",
       "      <th>7</th>\n",
       "      <td>송파구</td>\n",
       "      <td>39</td>\n",
       "      <td>34</td>\n",
       "      <td>5</td>\n",
       "    </tr>\n",
       "    <tr>\n",
       "      <th>8</th>\n",
       "      <td>중구</td>\n",
       "      <td>29</td>\n",
       "      <td>53</td>\n",
       "      <td>-24</td>\n",
       "    </tr>\n",
       "    <tr>\n",
       "      <th>9</th>\n",
       "      <td>종로구</td>\n",
       "      <td>31</td>\n",
       "      <td>39</td>\n",
       "      <td>-8</td>\n",
       "    </tr>\n",
       "    <tr>\n",
       "      <th>10</th>\n",
       "      <td>동작구</td>\n",
       "      <td>22</td>\n",
       "      <td>11</td>\n",
       "      <td>11</td>\n",
       "    </tr>\n",
       "    <tr>\n",
       "      <th>11</th>\n",
       "      <td>성동구</td>\n",
       "      <td>23</td>\n",
       "      <td>13</td>\n",
       "      <td>10</td>\n",
       "    </tr>\n",
       "    <tr>\n",
       "      <th>12</th>\n",
       "      <td>강동구</td>\n",
       "      <td>27</td>\n",
       "      <td>17</td>\n",
       "      <td>10</td>\n",
       "    </tr>\n",
       "    <tr>\n",
       "      <th>13</th>\n",
       "      <td>은평구</td>\n",
       "      <td>27</td>\n",
       "      <td>10</td>\n",
       "      <td>17</td>\n",
       "    </tr>\n",
       "    <tr>\n",
       "      <th>14</th>\n",
       "      <td>서초구</td>\n",
       "      <td>29</td>\n",
       "      <td>48</td>\n",
       "      <td>-19</td>\n",
       "    </tr>\n",
       "    <tr>\n",
       "      <th>15</th>\n",
       "      <td>강북구</td>\n",
       "      <td>20</td>\n",
       "      <td>6</td>\n",
       "      <td>14</td>\n",
       "    </tr>\n",
       "    <tr>\n",
       "      <th>16</th>\n",
       "      <td>양천구</td>\n",
       "      <td>27</td>\n",
       "      <td>17</td>\n",
       "      <td>10</td>\n",
       "    </tr>\n",
       "    <tr>\n",
       "      <th>17</th>\n",
       "      <td>중랑구</td>\n",
       "      <td>27</td>\n",
       "      <td>7</td>\n",
       "      <td>20</td>\n",
       "    </tr>\n",
       "    <tr>\n",
       "      <th>18</th>\n",
       "      <td>구로구</td>\n",
       "      <td>28</td>\n",
       "      <td>12</td>\n",
       "      <td>16</td>\n",
       "    </tr>\n",
       "    <tr>\n",
       "      <th>19</th>\n",
       "      <td>성북구</td>\n",
       "      <td>32</td>\n",
       "      <td>15</td>\n",
       "      <td>17</td>\n",
       "    </tr>\n",
       "    <tr>\n",
       "      <th>20</th>\n",
       "      <td>도봉구</td>\n",
       "      <td>24</td>\n",
       "      <td>4</td>\n",
       "      <td>20</td>\n",
       "    </tr>\n",
       "    <tr>\n",
       "      <th>21</th>\n",
       "      <td>강남구</td>\n",
       "      <td>90</td>\n",
       "      <td>89</td>\n",
       "      <td>1</td>\n",
       "    </tr>\n",
       "    <tr>\n",
       "      <th>22</th>\n",
       "      <td>금천구</td>\n",
       "      <td>23</td>\n",
       "      <td>13</td>\n",
       "      <td>10</td>\n",
       "    </tr>\n",
       "    <tr>\n",
       "      <th>23</th>\n",
       "      <td>마포구</td>\n",
       "      <td>38</td>\n",
       "      <td>35</td>\n",
       "      <td>3</td>\n",
       "    </tr>\n",
       "    <tr>\n",
       "      <th>24</th>\n",
       "      <td>용산구</td>\n",
       "      <td>0</td>\n",
       "      <td>24</td>\n",
       "      <td>-24</td>\n",
       "    </tr>\n",
       "  </tbody>\n",
       "</table>\n",
       "</div>"
      ],
      "text/plain": [
       "       구  이디야 매장수  스벅 매장수  매장 수 차이\n",
       "0   영등포구       41      41        0\n",
       "1   동대문구       25       9       16\n",
       "2    강서구       45      26       19\n",
       "3   서대문구       21      21        0\n",
       "4    광진구       24      19        5\n",
       "5    관악구       28      12       16\n",
       "6    노원구       31      13       18\n",
       "7    송파구       39      34        5\n",
       "8     중구       29      53      -24\n",
       "9    종로구       31      39       -8\n",
       "10   동작구       22      11       11\n",
       "11   성동구       23      13       10\n",
       "12   강동구       27      17       10\n",
       "13   은평구       27      10       17\n",
       "14   서초구       29      48      -19\n",
       "15   강북구       20       6       14\n",
       "16   양천구       27      17       10\n",
       "17   중랑구       27       7       20\n",
       "18   구로구       28      12       16\n",
       "19   성북구       32      15       17\n",
       "20   도봉구       24       4       20\n",
       "21   강남구       90      89        1\n",
       "22   금천구       23      13       10\n",
       "23   마포구       38      35        3\n",
       "24   용산구        0      24      -24"
      ]
     },
     "execution_count": 21,
     "metadata": {},
     "output_type": "execute_result"
    }
   ],
   "source": [
    "sum_data = pd.merge(df_edi_count, df_star_count)\n",
    "sum_data[\"매장 수 차이\"] = sum_data[\"이디야 매장수\"] - sum_data[\"스벅 매장수\"]\n",
    "sum_data"
   ]
  },
  {
   "cell_type": "markdown",
   "metadata": {},
   "source": [
    "### 데이터 시각화"
   ]
  },
  {
   "cell_type": "code",
   "execution_count": 22,
   "metadata": {},
   "outputs": [
    {
     "name": "stderr",
     "output_type": "stream",
     "text": [
      "c:\\DEV\\Langs\\Python\\Python310\\lib\\site-packages\\IPython\\core\\pylabtools.py:151: UserWarning: Glyph 8722 (\\N{MINUS SIGN}) missing from current font.\n",
      "  fig.canvas.print_figure(bytes_io, **kw)\n"
     ]
    },
    {
     "data": {
      "image/png": "[encoded data removed]",
      "text/plain": [
       "<Figure size 1440x1080 with 1 Axes>"
      ]
     },
     "metadata": {
      "needs_background": "light"
     },
     "output_type": "display_data"
    }
   ],
   "source": [
    "a = sum_data[\"매장 수 차이\"]\n",
    "y = \"ediya\"\n",
    "\n",
    "plt.figure(figsize=(20,15))\n",
    "plt.bar(sum_data[\"구\"], a, color = 'b', label =\"이디야 기준 매장수 차이\" )\n",
    "plt.title(\"구별 이디야, 스타벅스 매장수 차이\", fontsize = 20)\n",
    "plt.xlabel(\"구\", fontsize = 20)\n",
    "plt.legend(loc ='lower left', fontsize = 20)\n",
    "plt.show()"
   ]
  }
 ],
 "metadata": {
  "kernelspec": {
   "display_name": "Python 3.10.5 64-bit",
   "language": "python",
   "name": "python3"
  },
  "language_info": {
   "codemirror_mode": {
    "name": "ipython",
    "version": 3
   },
   "file_extension": ".py",
   "mimetype": "text/x-python",
   "name": "python",
   "nbconvert_exporter": "python",
   "pygments_lexer": "ipython3",
   "version": "3.10.5"
  },
  "orig_nbformat": 4,
  "vscode": {
   "interpreter": {
    "hash": "20db6503c0fb7cfef3e0f497d11af019be42a43487df99bb7debe468b2230595"
   }
  }
 },
 "nbformat": 4,
 "nbformat_minor": 2
}
