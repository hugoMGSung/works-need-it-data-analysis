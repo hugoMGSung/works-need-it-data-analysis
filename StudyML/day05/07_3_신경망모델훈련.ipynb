{
 "cells": [
  {
   "cell_type": "markdown",
   "metadata": {},
   "source": [
    "### 사전준비"
   ]
  },
  {
   "cell_type": "code",
   "execution_count": 1,
   "metadata": {},
   "outputs": [],
   "source": [
    "#기본적인 패키지부터 추가\n",
    "import numpy as np\n",
    "import pandas as pd\n",
    "import scipy as sp\n",
    "\n",
    "import matplotlib as mpl\n",
    "import matplotlib.pyplot as plt\n",
    "import seaborn as sns"
   ]
  },
  {
   "cell_type": "code",
   "execution_count": 2,
   "metadata": {},
   "outputs": [],
   "source": [
    "from matplotlib import rc\n",
    "import matplotlib.font_manager as fm\n",
    "\n",
    "plt.rc('font', family='Malgun Gothic')\n",
    "sns.set(font='Malgun Gothic', rc={'axes.unicode_minus':False}, style='darkgrid')"
   ]
  },
  {
   "cell_type": "markdown",
   "metadata": {},
   "source": [
    "### 패션MNIST 데이터\n",
    "\n",
    "#### 데이터 로드"
   ]
  },
  {
   "cell_type": "code",
   "execution_count": 3,
   "metadata": {},
   "outputs": [],
   "source": [
    "from tensorflow import keras\n",
    "from tensorflow.keras.datasets.fashion_mnist import load_data\n",
    "from sklearn.model_selection import train_test_split"
   ]
  },
  {
   "cell_type": "code",
   "execution_count": 4,
   "metadata": {},
   "outputs": [],
   "source": [
    "(train_input, train_target), (test_input, test_target) = load_data()"
   ]
  },
  {
   "cell_type": "markdown",
   "metadata": {},
   "source": [
    "#### 정규화"
   ]
  },
  {
   "cell_type": "code",
   "execution_count": 5,
   "metadata": {},
   "outputs": [
    {
     "name": "stdout",
     "output_type": "stream",
     "text": [
      "(60000, 28, 28) (60000,)\n",
      "(10000, 28, 28) (10000,)\n"
     ]
    }
   ],
   "source": [
    "print(train_input.shape, train_target.shape)\n",
    "print(test_input.shape, test_target.shape)"
   ]
  },
  {
   "cell_type": "code",
   "execution_count": 6,
   "metadata": {},
   "outputs": [],
   "source": [
    "train_scaled = train_input / 255.0  # 0~1 실수값 변경"
   ]
  },
  {
   "cell_type": "code",
   "execution_count": 7,
   "metadata": {},
   "outputs": [
    {
     "name": "stdout",
     "output_type": "stream",
     "text": [
      "(60000, 28, 28)\n"
     ]
    }
   ],
   "source": [
    "print(train_scaled.shape)\n"
   ]
  },
  {
   "cell_type": "code",
   "execution_count": 8,
   "metadata": {},
   "outputs": [],
   "source": [
    "train_scaled, val_scaled, train_target, val_target = train_test_split(train_scaled, train_target, test_size=0.2, random_state=42)"
   ]
  },
  {
   "cell_type": "code",
   "execution_count": 11,
   "metadata": {},
   "outputs": [
    {
     "name": "stdout",
     "output_type": "stream",
     "text": [
      "(48000, 28, 28) (48000,)\n",
      "(12000, 28, 28) (12000,)\n"
     ]
    }
   ],
   "source": [
    "print(train_scaled.shape, train_target.shape)\n",
    "print(val_scaled.shape, val_target.shape)"
   ]
  },
  {
   "cell_type": "markdown",
   "metadata": {},
   "source": [
    "#### 모델생성 함수"
   ]
  },
  {
   "cell_type": "code",
   "execution_count": 23,
   "metadata": {},
   "outputs": [],
   "source": [
    "def model_fn(a_layer=None):\n",
    "    model = keras.Sequential(name='model_fn_MakeModel')\n",
    "    model.add(keras.layers.Flatten(input_shape=(28,28))) # 2차원 입력값을 1차원으로\n",
    "    model.add(keras.layers.Dense(100, activation='relu', name='hidden'))\n",
    "\n",
    "    if a_layer:\n",
    "        model.add(a_layer)\n",
    "\n",
    "    model.add(keras.layers.Dense(10, activation='softmax', name='output'))\n",
    "\n",
    "    return model"
   ]
  },
  {
   "cell_type": "code",
   "execution_count": 19,
   "metadata": {},
   "outputs": [
    {
     "name": "stdout",
     "output_type": "stream",
     "text": [
      "Model: \"model_fn MakeModel\"\n",
      "_________________________________________________________________\n",
      " Layer (type)                Output Shape              Param #   \n",
      "=================================================================\n",
      " flatten_2 (Flatten)         (None, 784)               0         \n",
      "                                                                 \n",
      " hidden (Dense)              (None, 100)               78500     \n",
      "                                                                 \n",
      " hidden2 (Dense)             (None, 100)               10100     \n",
      "                                                                 \n",
      " output (Dense)              (None, 10)                1010      \n",
      "                                                                 \n",
      "=================================================================\n",
      "Total params: 89,610\n",
      "Trainable params: 89,610\n",
      "Non-trainable params: 0\n",
      "_________________________________________________________________\n"
     ]
    }
   ],
   "source": [
    "# 함수 사용예\n",
    "model = model_fn(keras.layers.Dense(100, activation='relu', name='hidden2'))\n",
    "model.summary()"
   ]
  },
  {
   "cell_type": "markdown",
   "metadata": {},
   "source": [
    "#### 손실곡선, 정확도"
   ]
  },
  {
   "cell_type": "code",
   "execution_count": 24,
   "metadata": {},
   "outputs": [
    {
     "name": "stdout",
     "output_type": "stream",
     "text": [
      "Model: \"model_fn_MakeModel\"\n",
      "_________________________________________________________________\n",
      " Layer (type)                Output Shape              Param #   \n",
      "=================================================================\n",
      " flatten_5 (Flatten)         (None, 784)               0         \n",
      "                                                                 \n",
      " hidden (Dense)              (None, 100)               78500     \n",
      "                                                                 \n",
      " output (Dense)              (None, 10)                1010      \n",
      "                                                                 \n",
      "=================================================================\n",
      "Total params: 79,510\n",
      "Trainable params: 79,510\n",
      "Non-trainable params: 0\n",
      "_________________________________________________________________\n"
     ]
    }
   ],
   "source": [
    "model = model_fn()\n",
    "model.summary()"
   ]
  },
  {
   "cell_type": "code",
   "execution_count": 25,
   "metadata": {},
   "outputs": [
    {
     "name": "stdout",
     "output_type": "stream",
     "text": [
      "Epoch 1/5\n",
      "1500/1500 - 3s - loss: 0.5319 - accuracy: 0.8110 - 3s/epoch - 2ms/step\n",
      "Epoch 2/5\n",
      "1500/1500 - 3s - loss: 0.3922 - accuracy: 0.8576 - 3s/epoch - 2ms/step\n",
      "Epoch 3/5\n",
      "1500/1500 - 2s - loss: 0.3569 - accuracy: 0.8733 - 2s/epoch - 2ms/step\n",
      "Epoch 4/5\n",
      "1500/1500 - 3s - loss: 0.3351 - accuracy: 0.8804 - 3s/epoch - 2ms/step\n",
      "Epoch 5/5\n",
      "1500/1500 - 3s - loss: 0.3203 - accuracy: 0.8872 - 3s/epoch - 2ms/step\n"
     ]
    }
   ],
   "source": [
    "model.compile(loss='sparse_categorical_crossentropy', metrics='accuracy')\n",
    "history = model.fit(train_scaled, train_target, epochs=5, verbose=2)"
   ]
  },
  {
   "cell_type": "code",
   "execution_count": 27,
   "metadata": {},
   "outputs": [
    {
     "data": {
      "text/plain": [
       "{'loss': [0.5318799614906311,\n",
       "  0.39221757650375366,\n",
       "  0.35690730810165405,\n",
       "  0.335071861743927,\n",
       "  0.32031330466270447],\n",
       " 'accuracy': [0.8109583258628845,\n",
       "  0.8575833439826965,\n",
       "  0.8733124732971191,\n",
       "  0.8804166913032532,\n",
       "  0.8871666789054871]}"
      ]
     },
     "execution_count": 27,
     "metadata": {},
     "output_type": "execute_result"
    }
   ],
   "source": [
    "history.history"
   ]
  },
  {
   "cell_type": "markdown",
   "metadata": {},
   "source": [
    "#### 손실곡선 차트"
   ]
  },
  {
   "cell_type": "code",
   "execution_count": 28,
   "metadata": {},
   "outputs": [
    {
     "data": {
      "image/png": "[encoded data removed]",
      "text/plain": [
       "<Figure size 720x360 with 1 Axes>"
      ]
     },
     "metadata": {
      "needs_background": "light"
     },
     "output_type": "display_data"
    }
   ],
   "source": [
    "plt.figure(figsize=(10,5))\n",
    "plt.plot(history.history['loss'])\n",
    "plt.title('손실곡선')\n",
    "plt.xlabel('에포크(훈련횟수)')\n",
    "plt.ylabel('손실값')\n",
    "plt.show()"
   ]
  },
  {
   "cell_type": "markdown",
   "metadata": {},
   "source": [
    "#### 정확도 차트"
   ]
  },
  {
   "cell_type": "code",
   "execution_count": 29,
   "metadata": {},
   "outputs": [
    {
     "data": {
      "image/png": "[encoded data removed]",
      "text/plain": [
       "<Figure size 720x360 with 1 Axes>"
      ]
     },
     "metadata": {
      "needs_background": "light"
     },
     "output_type": "display_data"
    }
   ],
   "source": [
    "plt.figure(figsize=(10,5))\n",
    "plt.plot(history.history['accuracy'])\n",
    "plt.title('정확도')\n",
    "plt.xlabel('에포크(훈련횟수)')\n",
    "plt.ylabel('정확도')\n",
    "plt.show()"
   ]
  },
  {
   "cell_type": "markdown",
   "metadata": {},
   "source": [
    "#### 에포크 20번 훈련"
   ]
  },
  {
   "cell_type": "code",
   "execution_count": 30,
   "metadata": {},
   "outputs": [
    {
     "name": "stdout",
     "output_type": "stream",
     "text": [
      "Epoch 1/20\n",
      "1500/1500 [==============================] - 4s 2ms/step - loss: 0.5297 - accuracy: 0.8136\n",
      "Epoch 2/20\n",
      "1500/1500 [==============================] - 4s 2ms/step - loss: 0.3883 - accuracy: 0.8595\n",
      "Epoch 3/20\n",
      "1500/1500 [==============================] - 4s 2ms/step - loss: 0.3537 - accuracy: 0.8738\n",
      "Epoch 4/20\n",
      "1500/1500 [==============================] - 4s 2ms/step - loss: 0.3339 - accuracy: 0.8789\n",
      "Epoch 5/20\n",
      "1500/1500 [==============================] - 4s 2ms/step - loss: 0.3180 - accuracy: 0.8868\n",
      "Epoch 6/20\n",
      "1500/1500 [==============================] - 4s 2ms/step - loss: 0.3069 - accuracy: 0.8911\n",
      "Epoch 7/20\n",
      "1500/1500 [==============================] - 4s 3ms/step - loss: 0.2962 - accuracy: 0.8951\n",
      "Epoch 8/20\n",
      "1500/1500 [==============================] - 4s 2ms/step - loss: 0.2895 - accuracy: 0.8986\n",
      "Epoch 9/20\n",
      "1500/1500 [==============================] - 4s 3ms/step - loss: 0.2820 - accuracy: 0.9014\n",
      "Epoch 10/20\n",
      "1500/1500 [==============================] - 4s 2ms/step - loss: 0.2748 - accuracy: 0.9041\n",
      "Epoch 11/20\n",
      "1500/1500 [==============================] - 4s 2ms/step - loss: 0.2697 - accuracy: 0.9042\n",
      "Epoch 12/20\n",
      "1500/1500 [==============================] - 4s 2ms/step - loss: 0.2635 - accuracy: 0.9089\n",
      "Epoch 13/20\n",
      "1500/1500 [==============================] - 4s 3ms/step - loss: 0.2579 - accuracy: 0.9104\n",
      "Epoch 14/20\n",
      "1500/1500 [==============================] - 4s 3ms/step - loss: 0.2508 - accuracy: 0.9125\n",
      "Epoch 15/20\n",
      "1500/1500 [==============================] - 4s 3ms/step - loss: 0.2474 - accuracy: 0.9138\n",
      "Epoch 16/20\n",
      "1500/1500 [==============================] - 4s 3ms/step - loss: 0.2446 - accuracy: 0.9148\n",
      "Epoch 17/20\n",
      "1500/1500 [==============================] - 4s 3ms/step - loss: 0.2377 - accuracy: 0.9187\n",
      "Epoch 18/20\n",
      "1500/1500 [==============================] - 4s 3ms/step - loss: 0.2345 - accuracy: 0.9194\n",
      "Epoch 19/20\n",
      "1500/1500 [==============================] - 4s 3ms/step - loss: 0.2335 - accuracy: 0.9211\n",
      "Epoch 20/20\n",
      "1500/1500 [==============================] - 4s 3ms/step - loss: 0.2267 - accuracy: 0.9219\n"
     ]
    }
   ],
   "source": [
    "model = model_fn()\n",
    "model.compile(loss='sparse_categorical_crossentropy', metrics='accuracy')\n",
    "history = model.fit(train_scaled, train_target, epochs=20)"
   ]
  },
  {
   "cell_type": "code",
   "execution_count": 31,
   "metadata": {},
   "outputs": [
    {
     "data": {
      "image/png": "[encoded data removed]",
      "text/plain": [
       "<Figure size 720x360 with 1 Axes>"
      ]
     },
     "metadata": {
      "needs_background": "light"
     },
     "output_type": "display_data"
    }
   ],
   "source": [
    "plt.figure(figsize=(10,5))\n",
    "plt.plot(history.history['loss'])\n",
    "plt.plot(history.history['accuracy'])\n",
    "# plt.title('정확도')\n",
    "plt.xlabel('에포크(훈련횟수)')\n",
    "plt.ylabel('val')\n",
    "plt.show()"
   ]
  },
  {
   "cell_type": "markdown",
   "metadata": {},
   "source": [
    "#### 검증손실\n",
    "\n",
    "훈련세트 훈련 -> 정확도 92%"
   ]
  },
  {
   "cell_type": "code",
   "execution_count": 32,
   "metadata": {},
   "outputs": [
    {
     "name": "stdout",
     "output_type": "stream",
     "text": [
      "Epoch 1/20\n",
      "1500/1500 [==============================] - 4s 3ms/step - loss: 0.5243 - accuracy: 0.8154 - val_loss: 0.3989 - val_accuracy: 0.8583\n",
      "Epoch 2/20\n",
      "1500/1500 [==============================] - 4s 3ms/step - loss: 0.3891 - accuracy: 0.8593 - val_loss: 0.3690 - val_accuracy: 0.8704\n",
      "Epoch 3/20\n",
      "1500/1500 [==============================] - 5s 3ms/step - loss: 0.3541 - accuracy: 0.8727 - val_loss: 0.3682 - val_accuracy: 0.8713\n",
      "Epoch 4/20\n",
      "1500/1500 [==============================] - 5s 3ms/step - loss: 0.3325 - accuracy: 0.8806 - val_loss: 0.3582 - val_accuracy: 0.8773\n",
      "Epoch 5/20\n",
      "1500/1500 [==============================] - 4s 3ms/step - loss: 0.3165 - accuracy: 0.8865 - val_loss: 0.3768 - val_accuracy: 0.8705\n",
      "Epoch 6/20\n",
      "1500/1500 [==============================] - 4s 3ms/step - loss: 0.3055 - accuracy: 0.8901 - val_loss: 0.3669 - val_accuracy: 0.8802\n",
      "Epoch 7/20\n",
      "1500/1500 [==============================] - 5s 3ms/step - loss: 0.2975 - accuracy: 0.8949 - val_loss: 0.3442 - val_accuracy: 0.8847\n",
      "Epoch 8/20\n",
      "1500/1500 [==============================] - 5s 3ms/step - loss: 0.2882 - accuracy: 0.8984 - val_loss: 0.3980 - val_accuracy: 0.8772\n",
      "Epoch 9/20\n",
      "1500/1500 [==============================] - 5s 3ms/step - loss: 0.2847 - accuracy: 0.9007 - val_loss: 0.4063 - val_accuracy: 0.8728\n",
      "Epoch 10/20\n",
      "1500/1500 [==============================] - 5s 3ms/step - loss: 0.2760 - accuracy: 0.9031 - val_loss: 0.3855 - val_accuracy: 0.8833\n",
      "Epoch 11/20\n",
      "1500/1500 [==============================] - 5s 3ms/step - loss: 0.2707 - accuracy: 0.9056 - val_loss: 0.4144 - val_accuracy: 0.8739\n",
      "Epoch 12/20\n",
      "1500/1500 [==============================] - 5s 3ms/step - loss: 0.2633 - accuracy: 0.9074 - val_loss: 0.3870 - val_accuracy: 0.8805\n",
      "Epoch 13/20\n",
      "1500/1500 [==============================] - 5s 3ms/step - loss: 0.2566 - accuracy: 0.9109 - val_loss: 0.3869 - val_accuracy: 0.8820\n",
      "Epoch 14/20\n",
      "1500/1500 [==============================] - 5s 3ms/step - loss: 0.2510 - accuracy: 0.9120 - val_loss: 0.4299 - val_accuracy: 0.8712\n",
      "Epoch 15/20\n",
      "1500/1500 [==============================] - 5s 3ms/step - loss: 0.2489 - accuracy: 0.9143 - val_loss: 0.4054 - val_accuracy: 0.8777\n",
      "Epoch 16/20\n",
      "1500/1500 [==============================] - 5s 3ms/step - loss: 0.2410 - accuracy: 0.9169 - val_loss: 0.4464 - val_accuracy: 0.8782\n",
      "Epoch 17/20\n",
      "1500/1500 [==============================] - 5s 3ms/step - loss: 0.2386 - accuracy: 0.9180 - val_loss: 0.4278 - val_accuracy: 0.8831\n",
      "Epoch 18/20\n",
      "1500/1500 [==============================] - 5s 3ms/step - loss: 0.2365 - accuracy: 0.9189 - val_loss: 0.4246 - val_accuracy: 0.8813\n",
      "Epoch 19/20\n",
      "1500/1500 [==============================] - 5s 3ms/step - loss: 0.2300 - accuracy: 0.9206 - val_loss: 0.4431 - val_accuracy: 0.8763\n",
      "Epoch 20/20\n",
      "1500/1500 [==============================] - 5s 3ms/step - loss: 0.2287 - accuracy: 0.9227 - val_loss: 0.4575 - val_accuracy: 0.8805\n"
     ]
    }
   ],
   "source": [
    "model = model_fn()\n",
    "model.compile(loss='sparse_categorical_crossentropy', metrics='accuracy')\n",
    "history = model.fit(train_scaled, train_target, epochs=20,\n",
    "                    validation_data=(val_scaled, val_target))"
   ]
  },
  {
   "cell_type": "code",
   "execution_count": 34,
   "metadata": {},
   "outputs": [
    {
     "data": {
      "text/plain": [
       "dict_keys(['loss', 'accuracy', 'val_loss', 'val_accuracy'])"
      ]
     },
     "execution_count": 34,
     "metadata": {},
     "output_type": "execute_result"
    }
   ],
   "source": [
    "history.history.keys()"
   ]
  },
  {
   "cell_type": "markdown",
   "metadata": {},
   "source": [
    "#### 훈련세트/검증세트 비교"
   ]
  },
  {
   "cell_type": "code",
   "execution_count": 35,
   "metadata": {},
   "outputs": [
    {
     "data": {
      "image/png": "[encoded data removed]",
      "text/plain": [
       "<Figure size 720x360 with 1 Axes>"
      ]
     },
     "metadata": {
      "needs_background": "light"
     },
     "output_type": "display_data"
    }
   ],
   "source": [
    "plt.figure(figsize=(10,5))\n",
    "plt.plot(history.history['loss'])\n",
    "plt.plot(history.history['val_loss'])\n",
    "plt.title('손실곡선')\n",
    "plt.xlabel('에포크')\n",
    "plt.ylabel('손실값')\n",
    "plt.legend(['훈련','검증'])\n",
    "plt.show()"
   ]
  },
  {
   "cell_type": "markdown",
   "metadata": {},
   "source": [
    "#### 드롭아웃\n"
   ]
  },
  {
   "cell_type": "code",
   "execution_count": 36,
   "metadata": {},
   "outputs": [
    {
     "name": "stdout",
     "output_type": "stream",
     "text": [
      "Model: \"model_fn_MakeModel\"\n",
      "_________________________________________________________________\n",
      " Layer (type)                Output Shape              Param #   \n",
      "=================================================================\n",
      " flatten_8 (Flatten)         (None, 784)               0         \n",
      "                                                                 \n",
      " hidden (Dense)              (None, 100)               78500     \n",
      "                                                                 \n",
      " dropout (Dropout)           (None, 100)               0         \n",
      "                                                                 \n",
      " output (Dense)              (None, 10)                1010      \n",
      "                                                                 \n",
      "=================================================================\n",
      "Total params: 79,510\n",
      "Trainable params: 79,510\n",
      "Non-trainable params: 0\n",
      "_________________________________________________________________\n"
     ]
    }
   ],
   "source": [
    "model = model_fn(keras.layers.Dropout(0.3))\n",
    "model.summary()"
   ]
  },
  {
   "cell_type": "code",
   "execution_count": 37,
   "metadata": {},
   "outputs": [
    {
     "name": "stdout",
     "output_type": "stream",
     "text": [
      "Epoch 1/20\n",
      "1500/1500 [==============================] - 5s 3ms/step - loss: 0.5878 - accuracy: 0.7931 - val_loss: 0.4282 - val_accuracy: 0.8457\n",
      "Epoch 2/20\n",
      "1500/1500 [==============================] - 5s 3ms/step - loss: 0.4505 - accuracy: 0.8415 - val_loss: 0.3924 - val_accuracy: 0.8611\n",
      "Epoch 3/20\n",
      "1500/1500 [==============================] - 5s 3ms/step - loss: 0.4245 - accuracy: 0.8535 - val_loss: 0.3942 - val_accuracy: 0.8612\n",
      "Epoch 4/20\n",
      "1500/1500 [==============================] - 5s 3ms/step - loss: 0.4084 - accuracy: 0.8588 - val_loss: 0.4138 - val_accuracy: 0.8614\n",
      "Epoch 5/20\n",
      "1500/1500 [==============================] - 5s 4ms/step - loss: 0.3999 - accuracy: 0.8622 - val_loss: 0.3951 - val_accuracy: 0.8689\n",
      "Epoch 6/20\n",
      "1500/1500 [==============================] - 5s 3ms/step - loss: 0.3949 - accuracy: 0.8654 - val_loss: 0.3882 - val_accuracy: 0.8712\n",
      "Epoch 7/20\n",
      "1500/1500 [==============================] - 4s 3ms/step - loss: 0.3948 - accuracy: 0.8679 - val_loss: 0.3854 - val_accuracy: 0.8733\n",
      "Epoch 8/20\n",
      "1500/1500 [==============================] - 4s 3ms/step - loss: 0.3872 - accuracy: 0.8704 - val_loss: 0.3951 - val_accuracy: 0.8718\n",
      "Epoch 9/20\n",
      "1500/1500 [==============================] - 5s 3ms/step - loss: 0.3860 - accuracy: 0.8731 - val_loss: 0.3860 - val_accuracy: 0.8754\n",
      "Epoch 10/20\n",
      "1500/1500 [==============================] - 5s 3ms/step - loss: 0.3816 - accuracy: 0.8727 - val_loss: 0.4188 - val_accuracy: 0.8743\n",
      "Epoch 11/20\n",
      "1500/1500 [==============================] - 5s 3ms/step - loss: 0.3797 - accuracy: 0.8744 - val_loss: 0.4116 - val_accuracy: 0.8777\n",
      "Epoch 12/20\n",
      "1500/1500 [==============================] - 5s 3ms/step - loss: 0.3809 - accuracy: 0.8757 - val_loss: 0.4068 - val_accuracy: 0.8737\n",
      "Epoch 13/20\n",
      "1500/1500 [==============================] - 5s 3ms/step - loss: 0.3797 - accuracy: 0.8771 - val_loss: 0.4296 - val_accuracy: 0.8776\n",
      "Epoch 14/20\n",
      "1500/1500 [==============================] - 5s 3ms/step - loss: 0.3810 - accuracy: 0.8780 - val_loss: 0.3993 - val_accuracy: 0.8810\n",
      "Epoch 15/20\n",
      "1500/1500 [==============================] - 5s 3ms/step - loss: 0.3759 - accuracy: 0.8810 - val_loss: 0.4533 - val_accuracy: 0.8677\n",
      "Epoch 16/20\n",
      "1500/1500 [==============================] - 5s 3ms/step - loss: 0.3752 - accuracy: 0.8811 - val_loss: 0.4311 - val_accuracy: 0.8798\n",
      "Epoch 17/20\n",
      "1500/1500 [==============================] - 5s 3ms/step - loss: 0.3723 - accuracy: 0.8815 - val_loss: 0.4252 - val_accuracy: 0.8812\n",
      "Epoch 18/20\n",
      "1500/1500 [==============================] - 5s 3ms/step - loss: 0.3732 - accuracy: 0.8821 - val_loss: 0.4326 - val_accuracy: 0.8778\n",
      "Epoch 19/20\n",
      "1500/1500 [==============================] - 5s 3ms/step - loss: 0.3716 - accuracy: 0.8851 - val_loss: 0.4394 - val_accuracy: 0.8827\n",
      "Epoch 20/20\n",
      "1500/1500 [==============================] - 5s 3ms/step - loss: 0.3684 - accuracy: 0.8832 - val_loss: 0.4795 - val_accuracy: 0.8808\n"
     ]
    }
   ],
   "source": [
    "model.compile(loss='sparse_categorical_crossentropy', metrics='accuracy')\n",
    "history = model.fit(train_scaled, train_target, epochs=20,\n",
    "                    validation_data=(val_scaled, val_target))"
   ]
  },
  {
   "cell_type": "code",
   "execution_count": 38,
   "metadata": {},
   "outputs": [
    {
     "data": {
      "image/png": "[encoded data removed]",
      "text/plain": [
       "<Figure size 720x360 with 1 Axes>"
      ]
     },
     "metadata": {
      "needs_background": "light"
     },
     "output_type": "display_data"
    }
   ],
   "source": [
    "plt.figure(figsize=(10,5))\n",
    "plt.plot(history.history['loss'])\n",
    "plt.plot(history.history['val_loss'])\n",
    "plt.title('손실곡선')\n",
    "plt.xlabel('에포크')\n",
    "plt.ylabel('손실값')\n",
    "plt.legend(['훈련','검증'])\n",
    "plt.show()"
   ]
  },
  {
   "cell_type": "code",
   "execution_count": 39,
   "metadata": {},
   "outputs": [
    {
     "name": "stdout",
     "output_type": "stream",
     "text": [
      "Epoch 1/20\n",
      "1500/1500 [==============================] - 4s 3ms/step - loss: 0.3671 - accuracy: 0.8733 - val_loss: 0.4011 - val_accuracy: 0.8700\n",
      "Epoch 2/20\n",
      "1500/1500 [==============================] - 4s 3ms/step - loss: 0.3484 - accuracy: 0.8751 - val_loss: 0.3985 - val_accuracy: 0.8775\n",
      "Epoch 3/20\n",
      "1500/1500 [==============================] - 4s 3ms/step - loss: 0.3372 - accuracy: 0.8780 - val_loss: 0.3842 - val_accuracy: 0.8802\n",
      "Epoch 4/20\n",
      "1500/1500 [==============================] - 4s 3ms/step - loss: 0.3240 - accuracy: 0.8817 - val_loss: 0.3897 - val_accuracy: 0.8823\n",
      "Epoch 5/20\n",
      "1500/1500 [==============================] - 5s 3ms/step - loss: 0.3201 - accuracy: 0.8837 - val_loss: 0.3714 - val_accuracy: 0.8802\n",
      "Epoch 6/20\n",
      "1500/1500 [==============================] - 5s 3ms/step - loss: 0.3120 - accuracy: 0.8857 - val_loss: 0.3712 - val_accuracy: 0.8861\n",
      "Epoch 7/20\n",
      "1500/1500 [==============================] - 5s 3ms/step - loss: 0.3084 - accuracy: 0.8855 - val_loss: 0.3770 - val_accuracy: 0.8802\n",
      "Epoch 8/20\n",
      "1500/1500 [==============================] - 5s 3ms/step - loss: 0.3037 - accuracy: 0.8864 - val_loss: 0.3821 - val_accuracy: 0.8790\n",
      "Epoch 9/20\n",
      "1500/1500 [==============================] - 5s 3ms/step - loss: 0.2991 - accuracy: 0.8881 - val_loss: 0.3775 - val_accuracy: 0.8830\n",
      "Epoch 10/20\n",
      "1500/1500 [==============================] - 5s 3ms/step - loss: 0.2890 - accuracy: 0.8911 - val_loss: 0.3791 - val_accuracy: 0.8833\n",
      "Epoch 11/20\n",
      "1500/1500 [==============================] - 5s 3ms/step - loss: 0.2892 - accuracy: 0.8909 - val_loss: 0.3825 - val_accuracy: 0.8838\n",
      "Epoch 12/20\n",
      "1500/1500 [==============================] - 5s 3ms/step - loss: 0.2874 - accuracy: 0.8932 - val_loss: 0.3689 - val_accuracy: 0.8838\n",
      "Epoch 13/20\n",
      "1500/1500 [==============================] - 5s 3ms/step - loss: 0.2788 - accuracy: 0.8941 - val_loss: 0.3710 - val_accuracy: 0.8791\n",
      "Epoch 14/20\n",
      "1500/1500 [==============================] - 5s 3ms/step - loss: 0.2838 - accuracy: 0.8930 - val_loss: 0.3702 - val_accuracy: 0.8827\n",
      "Epoch 15/20\n",
      "1500/1500 [==============================] - 6s 4ms/step - loss: 0.2762 - accuracy: 0.8954 - val_loss: 0.3643 - val_accuracy: 0.8859\n",
      "Epoch 16/20\n",
      "1500/1500 [==============================] - 6s 4ms/step - loss: 0.2727 - accuracy: 0.8953 - val_loss: 0.3785 - val_accuracy: 0.8796\n",
      "Epoch 17/20\n",
      "1500/1500 [==============================] - 5s 4ms/step - loss: 0.2725 - accuracy: 0.8959 - val_loss: 0.3704 - val_accuracy: 0.8848\n",
      "Epoch 18/20\n",
      "1500/1500 [==============================] - 6s 4ms/step - loss: 0.2698 - accuracy: 0.8980 - val_loss: 0.3684 - val_accuracy: 0.8847\n",
      "Epoch 19/20\n",
      "1500/1500 [==============================] - 5s 4ms/step - loss: 0.2609 - accuracy: 0.9004 - val_loss: 0.3742 - val_accuracy: 0.8848\n",
      "Epoch 20/20\n",
      "1500/1500 [==============================] - 5s 4ms/step - loss: 0.2607 - accuracy: 0.9010 - val_loss: 0.3693 - val_accuracy: 0.8869\n"
     ]
    }
   ],
   "source": [
    "model.compile(loss='sparse_categorical_crossentropy', metrics='accuracy', optimizer='adam')\n",
    "history = model.fit(train_scaled, train_target, epochs=20,\n",
    "                    validation_data=(val_scaled, val_target))"
   ]
  },
  {
   "cell_type": "code",
   "execution_count": 40,
   "metadata": {},
   "outputs": [
    {
     "data": {
      "image/png": "[encoded data removed]",
      "text/plain": [
       "<Figure size 720x360 with 1 Axes>"
      ]
     },
     "metadata": {
      "needs_background": "light"
     },
     "output_type": "display_data"
    }
   ],
   "source": [
    "plt.figure(figsize=(10,5))\n",
    "plt.plot(history.history['loss'])\n",
    "plt.plot(history.history['val_loss'])\n",
    "plt.title('손실곡선')\n",
    "plt.xlabel('에포크')\n",
    "plt.ylabel('손실값')\n",
    "plt.legend(['훈련','검증'])\n",
    "plt.show()"
   ]
  },
  {
   "cell_type": "code",
   "execution_count": 41,
   "metadata": {},
   "outputs": [
    {
     "name": "stdout",
     "output_type": "stream",
     "text": [
      "Model: \"model_fn_MakeModel\"\n",
      "_________________________________________________________________\n",
      " Layer (type)                Output Shape              Param #   \n",
      "=================================================================\n",
      " flatten_9 (Flatten)         (None, 784)               0         \n",
      "                                                                 \n",
      " hidden (Dense)              (None, 100)               78500     \n",
      "                                                                 \n",
      " dropout_1 (Dropout)         (None, 100)               0         \n",
      "                                                                 \n",
      " output (Dense)              (None, 10)                1010      \n",
      "                                                                 \n",
      "=================================================================\n",
      "Total params: 79,510\n",
      "Trainable params: 79,510\n",
      "Non-trainable params: 0\n",
      "_________________________________________________________________\n"
     ]
    }
   ],
   "source": [
    "model = model_fn(keras.layers.Dropout(0.3))\n",
    "model.summary()"
   ]
  },
  {
   "cell_type": "code",
   "execution_count": 42,
   "metadata": {},
   "outputs": [
    {
     "name": "stdout",
     "output_type": "stream",
     "text": [
      "Epoch 1/20\n",
      "1500/1500 [==============================] - 5s 3ms/step - loss: 0.5917 - accuracy: 0.7931 - val_loss: 0.4252 - val_accuracy: 0.8461\n",
      "Epoch 2/20\n",
      "1500/1500 [==============================] - 3s 2ms/step - loss: 0.4390 - accuracy: 0.8430 - val_loss: 0.4098 - val_accuracy: 0.8489\n",
      "Epoch 3/20\n",
      "1500/1500 [==============================] - 3s 2ms/step - loss: 0.4026 - accuracy: 0.8544 - val_loss: 0.3708 - val_accuracy: 0.8654\n",
      "Epoch 4/20\n",
      "1500/1500 [==============================] - 3s 2ms/step - loss: 0.3808 - accuracy: 0.8610 - val_loss: 0.3493 - val_accuracy: 0.8756\n",
      "Epoch 5/20\n",
      "1500/1500 [==============================] - 3s 2ms/step - loss: 0.3634 - accuracy: 0.8669 - val_loss: 0.3531 - val_accuracy: 0.8731\n",
      "Epoch 6/20\n",
      "1500/1500 [==============================] - 5s 3ms/step - loss: 0.3523 - accuracy: 0.8701 - val_loss: 0.3397 - val_accuracy: 0.8766\n",
      "Epoch 7/20\n",
      "1500/1500 [==============================] - 3s 2ms/step - loss: 0.3419 - accuracy: 0.8748 - val_loss: 0.3337 - val_accuracy: 0.8759\n",
      "Epoch 8/20\n",
      "1500/1500 [==============================] - 4s 3ms/step - loss: 0.3343 - accuracy: 0.8773 - val_loss: 0.3555 - val_accuracy: 0.8668\n",
      "Epoch 9/20\n",
      "1500/1500 [==============================] - 4s 3ms/step - loss: 0.3274 - accuracy: 0.8781 - val_loss: 0.3305 - val_accuracy: 0.8801\n",
      "Epoch 10/20\n",
      "1500/1500 [==============================] - 3s 2ms/step - loss: 0.3208 - accuracy: 0.8826 - val_loss: 0.3435 - val_accuracy: 0.8754\n",
      "Epoch 11/20\n",
      "1500/1500 [==============================] - 4s 2ms/step - loss: 0.3135 - accuracy: 0.8829 - val_loss: 0.3292 - val_accuracy: 0.8805\n",
      "Epoch 12/20\n",
      "1500/1500 [==============================] - 4s 2ms/step - loss: 0.3083 - accuracy: 0.8864 - val_loss: 0.3217 - val_accuracy: 0.8832\n",
      "Epoch 13/20\n",
      "1500/1500 [==============================] - 4s 2ms/step - loss: 0.3013 - accuracy: 0.8874 - val_loss: 0.3254 - val_accuracy: 0.8821\n",
      "Epoch 14/20\n",
      "1500/1500 [==============================] - 4s 3ms/step - loss: 0.2986 - accuracy: 0.8892 - val_loss: 0.3251 - val_accuracy: 0.8814\n",
      "Epoch 15/20\n",
      "1500/1500 [==============================] - 4s 3ms/step - loss: 0.2955 - accuracy: 0.8895 - val_loss: 0.3366 - val_accuracy: 0.8804\n",
      "Epoch 16/20\n",
      "1500/1500 [==============================] - 4s 3ms/step - loss: 0.2865 - accuracy: 0.8930 - val_loss: 0.3220 - val_accuracy: 0.8882\n",
      "Epoch 17/20\n",
      "1500/1500 [==============================] - 4s 3ms/step - loss: 0.2843 - accuracy: 0.8935 - val_loss: 0.3184 - val_accuracy: 0.8872\n",
      "Epoch 18/20\n",
      "1500/1500 [==============================] - 4s 3ms/step - loss: 0.2806 - accuracy: 0.8949 - val_loss: 0.3224 - val_accuracy: 0.8860\n",
      "Epoch 19/20\n",
      "1500/1500 [==============================] - 4s 3ms/step - loss: 0.2778 - accuracy: 0.8961 - val_loss: 0.3219 - val_accuracy: 0.8839\n",
      "Epoch 20/20\n",
      "1500/1500 [==============================] - 5s 3ms/step - loss: 0.2752 - accuracy: 0.8981 - val_loss: 0.3192 - val_accuracy: 0.8856\n"
     ]
    }
   ],
   "source": [
    "model.compile(loss='sparse_categorical_crossentropy', metrics='accuracy', optimizer='adam')\n",
    "history = model.fit(train_scaled, train_target, epochs=20,\n",
    "                    validation_data=(val_scaled, val_target))"
   ]
  },
  {
   "cell_type": "code",
   "execution_count": 43,
   "metadata": {},
   "outputs": [
    {
     "data": {
      "image/png": "[encoded data removed]",
      "text/plain": [
       "<Figure size 720x360 with 1 Axes>"
      ]
     },
     "metadata": {
      "needs_background": "light"
     },
     "output_type": "display_data"
    }
   ],
   "source": [
    "plt.figure(figsize=(10,5))\n",
    "plt.plot(history.history['loss'])\n",
    "plt.plot(history.history['val_loss'])\n",
    "plt.title('손실곡선')\n",
    "plt.xlabel('에포크')\n",
    "plt.ylabel('손실값')\n",
    "plt.legend(['훈련','검증'])\n",
    "plt.show()"
   ]
  },
  {
   "cell_type": "markdown",
   "metadata": {},
   "source": [
    "#### 모델 저장/로드"
   ]
  },
  {
   "cell_type": "code",
   "execution_count": 44,
   "metadata": {},
   "outputs": [
    {
     "name": "stdout",
     "output_type": "stream",
     "text": [
      "Model: \"model_fn_MakeModel\"\n",
      "_________________________________________________________________\n",
      " Layer (type)                Output Shape              Param #   \n",
      "=================================================================\n",
      " flatten_9 (Flatten)         (None, 784)               0         \n",
      "                                                                 \n",
      " hidden (Dense)              (None, 100)               78500     \n",
      "                                                                 \n",
      " dropout_1 (Dropout)         (None, 100)               0         \n",
      "                                                                 \n",
      " output (Dense)              (None, 10)                1010      \n",
      "                                                                 \n",
      "=================================================================\n",
      "Total params: 79,510\n",
      "Trainable params: 79,510\n",
      "Non-trainable params: 0\n",
      "_________________________________________________________________\n"
     ]
    }
   ],
   "source": [
    "model.summary()"
   ]
  },
  {
   "cell_type": "code",
   "execution_count": 45,
   "metadata": {},
   "outputs": [],
   "source": [
    "# 훈련된 가중치만 저장\n",
    "model.save_weights('./data/model-weights.h5')"
   ]
  },
  {
   "cell_type": "code",
   "execution_count": 46,
   "metadata": {},
   "outputs": [],
   "source": [
    "# 훈련된 전체데이어 저장\n",
    "model.save('./data/model.h5')"
   ]
  },
  {
   "cell_type": "markdown",
   "metadata": {},
   "source": [
    "##### 가중치 모델 로드"
   ]
  },
  {
   "cell_type": "code",
   "execution_count": 47,
   "metadata": {},
   "outputs": [],
   "source": [
    "model = model_fn(keras.layers.Dropout(0.3))\n",
    "model.load_weights('./data/model-weights.h5')"
   ]
  },
  {
   "cell_type": "code",
   "execution_count": 48,
   "metadata": {},
   "outputs": [
    {
     "ename": "RuntimeError",
     "evalue": "You must compile your model before training/testing. Use `model.compile(optimizer, loss)`.",
     "output_type": "error",
     "traceback": [
      "\u001b[1;31m---------------------------------------------------------------------------\u001b[0m",
      "\u001b[1;31mRuntimeError\u001b[0m                              Traceback (most recent call last)",
      "\u001b[1;32mc:\\localRepository\\StudyML\\day05\\07_3_신경망모델훈련.ipynb 셀 47\u001b[0m in \u001b[0;36m<cell line: 1>\u001b[1;34m()\u001b[0m\n\u001b[1;32m----> <a href='vscode-notebook-cell:/c%3A/localRepository/StudyML/day05/07_3_%EC%8B%A0%EA%B2%BD%EB%A7%9D%EB%AA%A8%EB%8D%B8%ED%9B%88%EB%A0%A8.ipynb#Y116sZmlsZQ%3D%3D?line=0'>1</a>\u001b[0m model\u001b[39m.\u001b[39;49mevaluate(val_scaled, val_target)\n",
      "File \u001b[1;32mc:\\DEV\\Python\\Python310\\lib\\site-packages\\keras\\utils\\traceback_utils.py:67\u001b[0m, in \u001b[0;36mfilter_traceback.<locals>.error_handler\u001b[1;34m(*args, **kwargs)\u001b[0m\n\u001b[0;32m     65\u001b[0m \u001b[39mexcept\u001b[39;00m \u001b[39mException\u001b[39;00m \u001b[39mas\u001b[39;00m e:  \u001b[39m# pylint: disable=broad-except\u001b[39;00m\n\u001b[0;32m     66\u001b[0m   filtered_tb \u001b[39m=\u001b[39m _process_traceback_frames(e\u001b[39m.\u001b[39m__traceback__)\n\u001b[1;32m---> 67\u001b[0m   \u001b[39mraise\u001b[39;00m e\u001b[39m.\u001b[39mwith_traceback(filtered_tb) \u001b[39mfrom\u001b[39;00m \u001b[39mNone\u001b[39m\n\u001b[0;32m     68\u001b[0m \u001b[39mfinally\u001b[39;00m:\n\u001b[0;32m     69\u001b[0m   \u001b[39mdel\u001b[39;00m filtered_tb\n",
      "File \u001b[1;32mc:\\DEV\\Python\\Python310\\lib\\site-packages\\keras\\engine\\training.py:3160\u001b[0m, in \u001b[0;36mModel._assert_compile_was_called\u001b[1;34m(self)\u001b[0m\n\u001b[0;32m   3154\u001b[0m \u001b[39mdef\u001b[39;00m \u001b[39m_assert_compile_was_called\u001b[39m(\u001b[39mself\u001b[39m):\n\u001b[0;32m   3155\u001b[0m   \u001b[39m# Checks whether `compile` has been called. If it has been called,\u001b[39;00m\n\u001b[0;32m   3156\u001b[0m   \u001b[39m# then the optimizer is set. This is different from whether the\u001b[39;00m\n\u001b[0;32m   3157\u001b[0m   \u001b[39m# model is compiled\u001b[39;00m\n\u001b[0;32m   3158\u001b[0m   \u001b[39m# (i.e. whether the model is built and its inputs/outputs are set).\u001b[39;00m\n\u001b[0;32m   3159\u001b[0m   \u001b[39mif\u001b[39;00m \u001b[39mnot\u001b[39;00m \u001b[39mself\u001b[39m\u001b[39m.\u001b[39m_is_compiled:\n\u001b[1;32m-> 3160\u001b[0m     \u001b[39mraise\u001b[39;00m \u001b[39mRuntimeError\u001b[39;00m(\u001b[39m'\u001b[39m\u001b[39mYou must compile your model before \u001b[39m\u001b[39m'\u001b[39m\n\u001b[0;32m   3161\u001b[0m                        \u001b[39m'\u001b[39m\u001b[39mtraining/testing. \u001b[39m\u001b[39m'\u001b[39m\n\u001b[0;32m   3162\u001b[0m                        \u001b[39m'\u001b[39m\u001b[39mUse `model.compile(optimizer, loss)`.\u001b[39m\u001b[39m'\u001b[39m)\n",
      "\u001b[1;31mRuntimeError\u001b[0m: You must compile your model before training/testing. Use `model.compile(optimizer, loss)`."
     ]
    }
   ],
   "source": [
    "model.evaluate(val_scaled, val_target)"
   ]
  },
  {
   "cell_type": "markdown",
   "metadata": {},
   "source": [
    "##### 전체모델 로드"
   ]
  },
  {
   "cell_type": "code",
   "execution_count": 49,
   "metadata": {},
   "outputs": [
    {
     "name": "stdout",
     "output_type": "stream",
     "text": [
      "375/375 [==============================] - 1s 2ms/step - loss: 0.3192 - accuracy: 0.8856\n"
     ]
    },
    {
     "data": {
      "text/plain": [
       "[0.3191588222980499, 0.8855833411216736]"
      ]
     },
     "execution_count": 49,
     "metadata": {},
     "output_type": "execute_result"
    }
   ],
   "source": [
    "model = keras.models.load_model('./data/model.h5')\n",
    "model.evaluate(val_scaled, val_target)"
   ]
  },
  {
   "cell_type": "markdown",
   "metadata": {},
   "source": [
    "가중치만 저장하면 모델 기능 제약있음. 모델 전체 데이터저장하면 모든 기능 수행"
   ]
  },
  {
   "cell_type": "code",
   "execution_count": 50,
   "metadata": {},
   "outputs": [
    {
     "name": "stdout",
     "output_type": "stream",
     "text": [
      "375/375 [==============================] - 1s 2ms/step\n"
     ]
    },
    {
     "data": {
      "text/plain": [
       "array([[7.06094818e-12, 8.20141719e-18, 5.15302482e-13, ...,\n",
       "        1.70848158e-09, 9.99999404e-01, 1.11690964e-13],\n",
       "       [9.74293002e-09, 3.16648047e-18, 8.19858226e-09, ...,\n",
       "        1.16722181e-12, 1.00000000e+00, 4.66047048e-14],\n",
       "       [1.08515421e-12, 2.63226788e-12, 2.33511631e-17, ...,\n",
       "        9.99880075e-01, 1.75964729e-11, 3.57223371e-07],\n",
       "       ...,\n",
       "       [5.60019316e-06, 2.74817537e-16, 9.21324705e-09, ...,\n",
       "        3.38633965e-09, 9.99993324e-01, 1.18612165e-09],\n",
       "       [6.33463593e-09, 3.24334176e-17, 1.06624531e-09, ...,\n",
       "        1.73060247e-11, 1.00000000e+00, 2.04873536e-14],\n",
       "       [4.85168546e-01, 7.73727788e-06, 1.39049243e-03, ...,\n",
       "        7.36154325e-05, 1.07930073e-05, 6.26133680e-02]], dtype=float32)"
      ]
     },
     "execution_count": 50,
     "metadata": {},
     "output_type": "execute_result"
    }
   ],
   "source": [
    "model.predict(val_scaled)"
   ]
  },
  {
   "cell_type": "code",
   "execution_count": 52,
   "metadata": {},
   "outputs": [
    {
     "name": "stdout",
     "output_type": "stream",
     "text": [
      "375/375 [==============================] - 1s 2ms/step\n"
     ]
    },
    {
     "data": {
      "text/plain": [
       "0.8855833333333333"
      ]
     },
     "execution_count": 52,
     "metadata": {},
     "output_type": "execute_result"
    }
   ],
   "source": [
    "### 예측결과\n",
    "val_labels = np.argmax(model.predict(val_scaled), axis=-1)\n",
    "np.mean(val_labels == val_target)"
   ]
  },
  {
   "cell_type": "code",
   "execution_count": 55,
   "metadata": {},
   "outputs": [
    {
     "data": {
      "text/plain": [
       "array([8, 8, 7, ..., 8, 8, 0], dtype=int64)"
      ]
     },
     "execution_count": 55,
     "metadata": {},
     "output_type": "execute_result"
    }
   ],
   "source": [
    "val_labels"
   ]
  },
  {
   "cell_type": "markdown",
   "metadata": {},
   "source": [
    "#### 콜백 Callback"
   ]
  },
  {
   "cell_type": "code",
   "execution_count": 56,
   "metadata": {},
   "outputs": [
    {
     "name": "stdout",
     "output_type": "stream",
     "text": [
      "Epoch 1/20\n",
      "1500/1500 [==============================] - 4s 3ms/step - loss: 0.5888 - accuracy: 0.7944 - val_loss: 0.4248 - val_accuracy: 0.8448\n",
      "Epoch 2/20\n",
      "1500/1500 [==============================] - 5s 3ms/step - loss: 0.4388 - accuracy: 0.8410 - val_loss: 0.3922 - val_accuracy: 0.8552\n",
      "Epoch 3/20\n",
      "1500/1500 [==============================] - 5s 3ms/step - loss: 0.4068 - accuracy: 0.8505 - val_loss: 0.3746 - val_accuracy: 0.8604\n",
      "Epoch 4/20\n",
      "1500/1500 [==============================] - 5s 3ms/step - loss: 0.3824 - accuracy: 0.8615 - val_loss: 0.3617 - val_accuracy: 0.8667\n",
      "Epoch 5/20\n",
      "1500/1500 [==============================] - 5s 3ms/step - loss: 0.3677 - accuracy: 0.8646 - val_loss: 0.3626 - val_accuracy: 0.8700\n",
      "Epoch 6/20\n",
      "1500/1500 [==============================] - 5s 3ms/step - loss: 0.3527 - accuracy: 0.8710 - val_loss: 0.3484 - val_accuracy: 0.8739\n",
      "Epoch 7/20\n",
      "1500/1500 [==============================] - 5s 3ms/step - loss: 0.3462 - accuracy: 0.8710 - val_loss: 0.3437 - val_accuracy: 0.8744\n",
      "Epoch 8/20\n",
      "1500/1500 [==============================] - 5s 4ms/step - loss: 0.3331 - accuracy: 0.8748 - val_loss: 0.3385 - val_accuracy: 0.8774\n",
      "Epoch 9/20\n",
      "1500/1500 [==============================] - 5s 4ms/step - loss: 0.3254 - accuracy: 0.8795 - val_loss: 0.3364 - val_accuracy: 0.8759\n",
      "Epoch 10/20\n",
      "1500/1500 [==============================] - 6s 4ms/step - loss: 0.3194 - accuracy: 0.8808 - val_loss: 0.3269 - val_accuracy: 0.8832\n",
      "Epoch 11/20\n",
      "1500/1500 [==============================] - 5s 3ms/step - loss: 0.3131 - accuracy: 0.8819 - val_loss: 0.3285 - val_accuracy: 0.8829\n",
      "Epoch 12/20\n",
      "1500/1500 [==============================] - 5s 3ms/step - loss: 0.3057 - accuracy: 0.8856 - val_loss: 0.3457 - val_accuracy: 0.8774\n",
      "Epoch 13/20\n",
      "1500/1500 [==============================] - 5s 3ms/step - loss: 0.3005 - accuracy: 0.8895 - val_loss: 0.3234 - val_accuracy: 0.8813\n",
      "Epoch 14/20\n",
      "1500/1500 [==============================] - 5s 3ms/step - loss: 0.2971 - accuracy: 0.8867 - val_loss: 0.3213 - val_accuracy: 0.8845\n",
      "Epoch 15/20\n",
      "1500/1500 [==============================] - 5s 3ms/step - loss: 0.2929 - accuracy: 0.8904 - val_loss: 0.3252 - val_accuracy: 0.8837\n",
      "Epoch 16/20\n",
      "1500/1500 [==============================] - 5s 3ms/step - loss: 0.2909 - accuracy: 0.8919 - val_loss: 0.3156 - val_accuracy: 0.8869\n",
      "Epoch 17/20\n",
      "1500/1500 [==============================] - 5s 3ms/step - loss: 0.2859 - accuracy: 0.8914 - val_loss: 0.3203 - val_accuracy: 0.8866\n",
      "Epoch 18/20\n",
      "1500/1500 [==============================] - 5s 3ms/step - loss: 0.2805 - accuracy: 0.8947 - val_loss: 0.3534 - val_accuracy: 0.8748\n",
      "Epoch 19/20\n",
      "1500/1500 [==============================] - 5s 3ms/step - loss: 0.2784 - accuracy: 0.8954 - val_loss: 0.3153 - val_accuracy: 0.8853\n",
      "Epoch 20/20\n",
      "1500/1500 [==============================] - 5s 3ms/step - loss: 0.2751 - accuracy: 0.8951 - val_loss: 0.3151 - val_accuracy: 0.8875\n"
     ]
    },
    {
     "data": {
      "text/plain": [
       "<keras.callbacks.History at 0x1b50e3f31f0>"
      ]
     },
     "execution_count": 56,
     "metadata": {},
     "output_type": "execute_result"
    }
   ],
   "source": [
    "model = model_fn(keras.layers.Dropout(0.3))\n",
    "model.compile(loss='sparse_categorical_crossentropy', metrics='accuracy', optimizer='adam')\n",
    "# 베스트 모델을 저장할 콜백\n",
    "checkpoint_cb = keras.callbacks.ModelCheckpoint('./data/best_model.h5')\n",
    "model.fit(train_scaled, train_target, epochs=20, verbose=1, validation_data=(val_scaled, val_target),\n",
    "          callbacks=[checkpoint_cb])"
   ]
  },
  {
   "cell_type": "code",
   "execution_count": 57,
   "metadata": {},
   "outputs": [
    {
     "name": "stdout",
     "output_type": "stream",
     "text": [
      "375/375 [==============================] - 1s 2ms/step - loss: 0.3151 - accuracy: 0.8875\n"
     ]
    },
    {
     "data": {
      "text/plain": [
       "[0.3151463568210602, 0.887499988079071]"
      ]
     },
     "execution_count": 57,
     "metadata": {},
     "output_type": "execute_result"
    }
   ],
   "source": [
    "# 체크포인트 확인\n",
    "model = keras.models.load_model('./data/best_model.h5')\n",
    "model.evaluate(val_scaled, val_target)"
   ]
  },
  {
   "cell_type": "markdown",
   "metadata": {},
   "source": [
    "#### 조기종료"
   ]
  },
  {
   "cell_type": "code",
   "execution_count": 71,
   "metadata": {},
   "outputs": [
    {
     "name": "stdout",
     "output_type": "stream",
     "text": [
      "Epoch 1/20\n",
      "1480/1500 [============================>.] - ETA: 0s - loss: 0.5948 - accuracy: 0.7905\n",
      "Epoch 1: val_loss improved from inf to 0.44602, saving model to ./data\\best_model2.h5\n",
      "1500/1500 [==============================] - 4s 3ms/step - loss: 0.5940 - accuracy: 0.7906 - val_loss: 0.4460 - val_accuracy: 0.8400\n",
      "Epoch 2/20\n",
      "1486/1500 [============================>.] - ETA: 0s - loss: 0.4417 - accuracy: 0.8406\n",
      "Epoch 2: val_loss improved from 0.44602 to 0.38739, saving model to ./data\\best_model2.h5\n",
      "1500/1500 [==============================] - 5s 3ms/step - loss: 0.4412 - accuracy: 0.8408 - val_loss: 0.3874 - val_accuracy: 0.8608\n",
      "Epoch 3/20\n",
      "1489/1500 [============================>.] - ETA: 0s - loss: 0.4052 - accuracy: 0.8526\n",
      "Epoch 3: val_loss improved from 0.38739 to 0.36519, saving model to ./data\\best_model2.h5\n",
      "1500/1500 [==============================] - 5s 4ms/step - loss: 0.4050 - accuracy: 0.8526 - val_loss: 0.3652 - val_accuracy: 0.8645\n",
      "Epoch 4/20\n",
      "1484/1500 [============================>.] - ETA: 0s - loss: 0.3845 - accuracy: 0.8581\n",
      "Epoch 4: val_loss improved from 0.36519 to 0.36164, saving model to ./data\\best_model2.h5\n",
      "1500/1500 [==============================] - 5s 4ms/step - loss: 0.3850 - accuracy: 0.8579 - val_loss: 0.3616 - val_accuracy: 0.8650\n",
      "Epoch 5/20\n",
      "1486/1500 [============================>.] - ETA: 0s - loss: 0.3692 - accuracy: 0.8654\n",
      "Epoch 5: val_loss improved from 0.36164 to 0.35371, saving model to ./data\\best_model2.h5\n",
      "1500/1500 [==============================] - 6s 4ms/step - loss: 0.3690 - accuracy: 0.8654 - val_loss: 0.3537 - val_accuracy: 0.8690\n",
      "Epoch 6/20\n",
      "1494/1500 [============================>.] - ETA: 0s - loss: 0.3578 - accuracy: 0.8685\n",
      "Epoch 6: val_loss improved from 0.35371 to 0.34647, saving model to ./data\\best_model2.h5\n",
      "1500/1500 [==============================] - 5s 3ms/step - loss: 0.3579 - accuracy: 0.8684 - val_loss: 0.3465 - val_accuracy: 0.8717\n",
      "Epoch 7/20\n",
      "1489/1500 [============================>.] - ETA: 0s - loss: 0.3424 - accuracy: 0.8737\n",
      "Epoch 7: val_loss improved from 0.34647 to 0.33514, saving model to ./data\\best_model2.h5\n",
      "1500/1500 [==============================] - 5s 3ms/step - loss: 0.3428 - accuracy: 0.8736 - val_loss: 0.3351 - val_accuracy: 0.8765\n",
      "Epoch 8/20\n",
      "1500/1500 [==============================] - ETA: 0s - loss: 0.3370 - accuracy: 0.8749\n",
      "Epoch 8: val_loss did not improve from 0.33514\n",
      "1500/1500 [==============================] - 5s 3ms/step - loss: 0.3370 - accuracy: 0.8749 - val_loss: 0.3363 - val_accuracy: 0.8787\n",
      "Epoch 9/20\n",
      "1499/1500 [============================>.] - ETA: 0s - loss: 0.3311 - accuracy: 0.8775\n",
      "Epoch 9: val_loss improved from 0.33514 to 0.32632, saving model to ./data\\best_model2.h5\n",
      "1500/1500 [==============================] - 4s 3ms/step - loss: 0.3311 - accuracy: 0.8776 - val_loss: 0.3263 - val_accuracy: 0.8804\n",
      "Epoch 10/20\n",
      "1497/1500 [============================>.] - ETA: 0s - loss: 0.3206 - accuracy: 0.8798\n",
      "Epoch 10: val_loss did not improve from 0.32632\n",
      "1500/1500 [==============================] - 4s 3ms/step - loss: 0.3207 - accuracy: 0.8797 - val_loss: 0.3379 - val_accuracy: 0.8774\n",
      "Epoch 11/20\n",
      "1489/1500 [============================>.] - ETA: 0s - loss: 0.3145 - accuracy: 0.8841\n",
      "Epoch 11: val_loss did not improve from 0.32632\n",
      "1500/1500 [==============================] - 4s 3ms/step - loss: 0.3145 - accuracy: 0.8840 - val_loss: 0.3377 - val_accuracy: 0.8767\n"
     ]
    }
   ],
   "source": [
    "model = model_fn(keras.layers.Dropout(0.3))\n",
    "model.compile(loss='sparse_categorical_crossentropy', metrics='accuracy', optimizer='adam')\n",
    "# 베스트 모델을 저장할 콜백\n",
    "# save_best_only=True 가장 좋은 모델 저장됨\n",
    "checkpoint_cb = keras.callbacks.ModelCheckpoint('./data/best_model2.h5', save_best_only=True, verbose=1)\n",
    "early_stopping_cb = keras.callbacks.EarlyStopping(patience=2, restore_best_weights=True)\n",
    "history = model.fit(train_scaled, train_target, epochs=20, verbose=1, validation_data=(val_scaled, val_target),\n",
    "                    callbacks=[checkpoint_cb, early_stopping_cb])"
   ]
  },
  {
   "cell_type": "code",
   "execution_count": 72,
   "metadata": {},
   "outputs": [
    {
     "data": {
      "image/png": "[encoded data removed]",
      "text/plain": [
       "<Figure size 720x360 with 1 Axes>"
      ]
     },
     "metadata": {
      "needs_background": "light"
     },
     "output_type": "display_data"
    }
   ],
   "source": [
    "plt.figure(figsize=(10,5))\n",
    "plt.plot(history.history['loss'])\n",
    "plt.plot(history.history['val_loss'])\n",
    "plt.title('손실곡선')\n",
    "plt.xlabel('에포크')\n",
    "plt.ylabel('손실값')\n",
    "plt.legend(['훈련','검증'])\n",
    "plt.show()"
   ]
  },
  {
   "cell_type": "code",
   "execution_count": 73,
   "metadata": {},
   "outputs": [
    {
     "data": {
      "text/plain": [
       "10"
      ]
     },
     "execution_count": 73,
     "metadata": {},
     "output_type": "execute_result"
    }
   ],
   "source": [
    "# 어느 에포크에서 조기종료했는지 확인\n",
    "early_stopping_cb.stopped_epoch # 10번째에서 멈춤(드랍아웃) - 9번째 모델이 저장됨"
   ]
  },
  {
   "cell_type": "code",
   "execution_count": 75,
   "metadata": {},
   "outputs": [
    {
     "name": "stdout",
     "output_type": "stream",
     "text": [
      "375/375 [==============================] - 1s 2ms/step - loss: 0.3263 - accuracy: 0.8804\n"
     ]
    },
    {
     "data": {
      "text/plain": [
       "[0.32632461190223694, 0.8804166913032532]"
      ]
     },
     "execution_count": 75,
     "metadata": {},
     "output_type": "execute_result"
    }
   ],
   "source": [
    "model.evaluate(val_scaled, val_target) # 9번째 에포크값"
   ]
  },
  {
   "cell_type": "markdown",
   "metadata": {},
   "source": [
    "### 조기종료된 모델 저장값 / 체크포인트로 저장된 모델 저장값 비교"
   ]
  },
  {
   "cell_type": "code",
   "execution_count": 76,
   "metadata": {},
   "outputs": [
    {
     "name": "stdout",
     "output_type": "stream",
     "text": [
      "375/375 [==============================] - 1s 2ms/step - loss: 0.3263 - accuracy: 0.8804\n"
     ]
    },
    {
     "data": {
      "text/plain": [
       "[0.32632461190223694, 0.8804166913032532]"
      ]
     },
     "execution_count": 76,
     "metadata": {},
     "output_type": "execute_result"
    }
   ],
   "source": [
    "model_cp = keras.models.load_model('./data/best_model2.h5')\n",
    "model_cp.evaluate(val_scaled, val_target)"
   ]
  },
  {
   "cell_type": "code",
   "execution_count": 77,
   "metadata": {},
   "outputs": [
    {
     "name": "stdout",
     "output_type": "stream",
     "text": [
      "375/375 [==============================] - 1s 1ms/step\n"
     ]
    },
    {
     "data": {
      "text/plain": [
       "0.8804166666666666"
      ]
     },
     "execution_count": 77,
     "metadata": {},
     "output_type": "execute_result"
    }
   ],
   "source": [
    "### 예측결과\n",
    "val_labels = np.argmax(model.predict(val_scaled), axis=-1)\n",
    "np.mean(val_labels == val_target)"
   ]
  },
  {
   "cell_type": "code",
   "execution_count": 80,
   "metadata": {},
   "outputs": [
    {
     "data": {
      "text/plain": [
       "array([8, 8, 7, 4, 8, 4, 1, 0, 4, 5], dtype=int64)"
      ]
     },
     "execution_count": 80,
     "metadata": {},
     "output_type": "execute_result"
    }
   ],
   "source": [
    "### 예측결과\n",
    "val_labels[:10]"
   ]
  }
 ],
 "metadata": {
  "kernelspec": {
   "display_name": "Python 3.10.5 64-bit",
   "language": "python",
   "name": "python3"
  },
  "language_info": {
   "codemirror_mode": {
    "name": "ipython",
    "version": 3
   },
   "file_extension": ".py",
   "mimetype": "text/x-python",
   "name": "python",
   "nbconvert_exporter": "python",
   "pygments_lexer": "ipython3",
   "version": "3.10.5"
  },
  "orig_nbformat": 4,
  "vscode": {
   "interpreter": {
    "hash": "fe3d9237b4a62cd7715eb234158a07f236d8efc42b8ea743ee7cae33e0917df2"
   }
  }
 },
 "nbformat": 4,
 "nbformat_minor": 2
}
