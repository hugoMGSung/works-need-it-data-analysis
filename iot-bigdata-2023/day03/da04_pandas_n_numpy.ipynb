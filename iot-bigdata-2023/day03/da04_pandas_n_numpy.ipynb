{
 "cells": [
  {
   "cell_type": "markdown",
   "metadata": {},
   "source": [
    "### 판다스, 넘파이 응용\n",
    "\n",
    "판다스 기본형 DataFrame, Series의 각 데이터타입 Numpy 타입을 사용"
   ]
  },
  {
   "cell_type": "code",
   "execution_count": 1,
   "metadata": {},
   "outputs": [],
   "source": [
    "import pandas as pd\n",
    "import numpy as np"
   ]
  },
  {
   "cell_type": "markdown",
   "metadata": {},
   "source": [
    "#### 시리즈와 넘파이"
   ]
  },
  {
   "cell_type": "code",
   "execution_count": 7,
   "metadata": {},
   "outputs": [
    {
     "data": {
      "text/plain": [
       "0    -1.323445\n",
       "1    -0.681144\n",
       "2    -1.076769\n",
       "3    -0.388929\n",
       "4    -0.980213\n",
       "        ...   \n",
       "95    0.844174\n",
       "96   -0.824904\n",
       "97   -0.654466\n",
       "98    1.255201\n",
       "99    2.314792\n",
       "Length: 100, dtype: float64"
      ]
     },
     "execution_count": 7,
     "metadata": {},
     "output_type": "execute_result"
    }
   ],
   "source": [
    "# 시리즈 생성\n",
    "s1 = pd.Series(data=np.random.randn(100))\n",
    "s1"
   ]
  },
  {
   "cell_type": "code",
   "execution_count": 8,
   "metadata": {},
   "outputs": [
    {
     "data": {
      "text/plain": [
       "0     13.0\n",
       "1      7.0\n",
       "2     11.0\n",
       "3      4.0\n",
       "4     10.0\n",
       "      ... \n",
       "95     8.0\n",
       "96     8.0\n",
       "97     7.0\n",
       "98    13.0\n",
       "99    23.0\n",
       "Length: 100, dtype: float64"
      ]
     },
     "execution_count": 8,
     "metadata": {},
     "output_type": "execute_result"
    }
   ],
   "source": [
    "# 음수제거, 10을 곱해서 10단위 수로 만들고, 반올림해서 소수점\n",
    "s2 = s1.abs().map(lambda x: x * 10).round()\n",
    "s2"
   ]
  },
  {
   "cell_type": "code",
   "execution_count": 9,
   "metadata": {},
   "outputs": [
    {
     "data": {
      "text/plain": [
       "7.78"
      ]
     },
     "execution_count": 9,
     "metadata": {},
     "output_type": "execute_result"
    }
   ],
   "source": [
    "np.mean(s2)"
   ]
  },
  {
   "cell_type": "code",
   "execution_count": 11,
   "metadata": {},
   "outputs": [
    {
     "name": "stdout",
     "output_type": "stream",
     "text": [
      "<class 'pandas.core.series.Series'>\n",
      "RangeIndex: 100 entries, 0 to 99\n",
      "Series name: None\n",
      "Non-Null Count  Dtype  \n",
      "--------------  -----  \n",
      "100 non-null    float64\n",
      "dtypes: float64(1)\n",
      "memory usage: 932.0 bytes\n"
     ]
    }
   ],
   "source": [
    "# 시리즈, DF의 기본적인 정보\n",
    "s2.info()"
   ]
  },
  {
   "cell_type": "code",
   "execution_count": 13,
   "metadata": {},
   "outputs": [
    {
     "data": {
      "text/plain": [
       "count    100.000000\n",
       "mean       7.780000\n",
       "std        5.902542\n",
       "min        0.000000\n",
       "25%        3.000000\n",
       "50%        7.000000\n",
       "75%       11.000000\n",
       "max       34.000000\n",
       "dtype: float64"
      ]
     },
     "execution_count": 13,
     "metadata": {},
     "output_type": "execute_result"
    }
   ],
   "source": [
    "# 판다스 데이터 기본통계 함수\n",
    "s2.describe()"
   ]
  },
  {
   "cell_type": "code",
   "execution_count": 14,
   "metadata": {},
   "outputs": [
    {
     "data": {
      "text/plain": [
       "0     1.0\n",
       "1     3.0\n",
       "2     5.0\n",
       "3     NaN\n",
       "4     1.0\n",
       "5     3.0\n",
       "6     5.0\n",
       "7     NaN\n",
       "8     1.0\n",
       "9     3.0\n",
       "10    5.0\n",
       "11    NaN\n",
       "12    1.0\n",
       "13    3.0\n",
       "14    5.0\n",
       "15    NaN\n",
       "16    1.0\n",
       "17    3.0\n",
       "18    5.0\n",
       "19    NaN\n",
       "dtype: float64"
      ]
     },
     "execution_count": 14,
     "metadata": {},
     "output_type": "execute_result"
    }
   ],
   "source": [
    "s3 = pd.Series(data=[1, 3, 5, np.nan] * 5)\n",
    "s3"
   ]
  },
  {
   "cell_type": "code",
   "execution_count": 16,
   "metadata": {},
   "outputs": [
    {
     "name": "stdout",
     "output_type": "stream",
     "text": [
      "<class 'pandas.core.series.Series'>\n",
      "RangeIndex: 20 entries, 0 to 19\n",
      "Series name: None\n",
      "Non-Null Count  Dtype  \n",
      "--------------  -----  \n",
      "15 non-null     float64\n",
      "dtypes: float64(1)\n",
      "memory usage: 292.0 bytes\n"
     ]
    }
   ],
   "source": [
    "s3.info()"
   ]
  },
  {
   "cell_type": "code",
   "execution_count": 18,
   "metadata": {},
   "outputs": [
    {
     "data": {
      "text/plain": [
       "count    15.000000\n",
       "mean      3.000000\n",
       "std       1.690309\n",
       "min       1.000000\n",
       "25%       1.000000\n",
       "50%       3.000000\n",
       "75%       5.000000\n",
       "max       5.000000\n",
       "dtype: float64"
      ]
     },
     "execution_count": 18,
     "metadata": {},
     "output_type": "execute_result"
    }
   ],
   "source": [
    "# 결측치 때문에 20개 데이터에서 통계를 구할 때 15개밖에 안나옴\n",
    "s3.describe()"
   ]
  },
  {
   "cell_type": "code",
   "execution_count": 23,
   "metadata": {},
   "outputs": [
    {
     "data": {
      "text/plain": [
       "1.0    0.333333\n",
       "3.0    0.333333\n",
       "5.0    0.333333\n",
       "Name: proportion, dtype: float64"
      ]
     },
     "execution_count": 23,
     "metadata": {},
     "output_type": "execute_result"
    }
   ],
   "source": [
    "# 값별 빈도(count)수, 속성(option) dropna=False, normalize=True/False\n",
    "s3.value_counts(dropna=True, normalize=True)"
   ]
  },
  {
   "cell_type": "code",
   "execution_count": 71,
   "metadata": {},
   "outputs": [
    {
     "data": {
      "text/plain": [
       "(20,)"
      ]
     },
     "execution_count": 71,
     "metadata": {},
     "output_type": "execute_result"
    }
   ],
   "source": [
    "s3.shape"
   ]
  },
  {
   "cell_type": "code",
   "execution_count": 26,
   "metadata": {},
   "outputs": [
    {
     "data": {
      "text/plain": [
       "5"
      ]
     },
     "execution_count": 26,
     "metadata": {},
     "output_type": "execute_result"
    }
   ],
   "source": [
    "# 결측치 확인함수\n",
    "s3.isnull().sum()"
   ]
  },
  {
   "cell_type": "markdown",
   "metadata": {},
   "source": [
    "#### 데이터프레임과 넘파이"
   ]
  },
  {
   "cell_type": "code",
   "execution_count": 74,
   "metadata": {},
   "outputs": [
    {
     "data": {
      "text/html": [
       "<div>\n",
       "<style scoped>\n",
       "    .dataframe tbody tr th:only-of-type {\n",
       "        vertical-align: middle;\n",
       "    }\n",
       "\n",
       "    .dataframe tbody tr th {\n",
       "        vertical-align: top;\n",
       "    }\n",
       "\n",
       "    .dataframe thead th {\n",
       "        text-align: right;\n",
       "    }\n",
       "</style>\n",
       "<table border=\"1\" class=\"dataframe\">\n",
       "  <thead>\n",
       "    <tr style=\"text-align: right;\">\n",
       "      <th></th>\n",
       "      <th>class</th>\n",
       "      <th>year</th>\n",
       "      <th>month</th>\n",
       "      <th>val1</th>\n",
       "      <th>val2</th>\n",
       "      <th>val3</th>\n",
       "    </tr>\n",
       "  </thead>\n",
       "  <tbody>\n",
       "    <tr>\n",
       "      <th>0</th>\n",
       "      <td>F</td>\n",
       "      <td>2020</td>\n",
       "      <td>7</td>\n",
       "      <td>3</td>\n",
       "      <td>800</td>\n",
       "      <td>10143</td>\n",
       "    </tr>\n",
       "    <tr>\n",
       "      <th>1</th>\n",
       "      <td>B</td>\n",
       "      <td>2019</td>\n",
       "      <td>10</td>\n",
       "      <td>2</td>\n",
       "      <td>421</td>\n",
       "      <td>12406</td>\n",
       "    </tr>\n",
       "    <tr>\n",
       "      <th>2</th>\n",
       "      <td>D</td>\n",
       "      <td>2010</td>\n",
       "      <td>9</td>\n",
       "      <td>8</td>\n",
       "      <td>468</td>\n",
       "      <td>13861</td>\n",
       "    </tr>\n",
       "    <tr>\n",
       "      <th>3</th>\n",
       "      <td>D</td>\n",
       "      <td>2014</td>\n",
       "      <td>5</td>\n",
       "      <td>1</td>\n",
       "      <td>750</td>\n",
       "      <td>14314</td>\n",
       "    </tr>\n",
       "    <tr>\n",
       "      <th>4</th>\n",
       "      <td>F</td>\n",
       "      <td>2023</td>\n",
       "      <td>7</td>\n",
       "      <td>9</td>\n",
       "      <td>420</td>\n",
       "      <td>13439</td>\n",
       "    </tr>\n",
       "    <tr>\n",
       "      <th>5</th>\n",
       "      <td>B</td>\n",
       "      <td>2014</td>\n",
       "      <td>11</td>\n",
       "      <td>3</td>\n",
       "      <td>797</td>\n",
       "      <td>13649</td>\n",
       "    </tr>\n",
       "    <tr>\n",
       "      <th>6</th>\n",
       "      <td>F</td>\n",
       "      <td>2021</td>\n",
       "      <td>6</td>\n",
       "      <td>5</td>\n",
       "      <td>159</td>\n",
       "      <td>11746</td>\n",
       "    </tr>\n",
       "    <tr>\n",
       "      <th>7</th>\n",
       "      <td>F</td>\n",
       "      <td>2019</td>\n",
       "      <td>10</td>\n",
       "      <td>7</td>\n",
       "      <td>140</td>\n",
       "      <td>12251</td>\n",
       "    </tr>\n",
       "    <tr>\n",
       "      <th>8</th>\n",
       "      <td>B</td>\n",
       "      <td>2013</td>\n",
       "      <td>1</td>\n",
       "      <td>10</td>\n",
       "      <td>660</td>\n",
       "      <td>17156</td>\n",
       "    </tr>\n",
       "    <tr>\n",
       "      <th>9</th>\n",
       "      <td>B</td>\n",
       "      <td>2010</td>\n",
       "      <td>8</td>\n",
       "      <td>3</td>\n",
       "      <td>836</td>\n",
       "      <td>10580</td>\n",
       "    </tr>\n",
       "  </tbody>\n",
       "</table>\n",
       "</div>"
      ],
      "text/plain": [
       "  class  year  month  val1  val2   val3\n",
       "0     F  2020      7     3   800  10143\n",
       "1     B  2019     10     2   421  12406\n",
       "2     D  2010      9     8   468  13861\n",
       "3     D  2014      5     1   750  14314\n",
       "4     F  2023      7     9   420  13439\n",
       "5     B  2014     11     3   797  13649\n",
       "6     F  2021      6     5   159  11746\n",
       "7     F  2019     10     7   140  12251\n",
       "8     B  2013      1    10   660  17156\n",
       "9     B  2010      8     3   836  10580"
      ]
     },
     "execution_count": 74,
     "metadata": {},
     "output_type": "execute_result"
    }
   ],
   "source": [
    "# 데이터프레임 생성 -> 이렇게 만들일은 거의 없음\n",
    "# C# Bogus로 샘플데이터 생성과 동일작업\n",
    "size = 10\n",
    "df1 = pd.DataFrame(data={\n",
    "    'class': [['A', 'B', 'C', 'D', 'F'][np.random.randint(0, 5)] for _ in range(0, size)],\n",
    "    'year': [np.random.randint(2010, 2024) for _ in range(0, size)],\n",
    "    'month': [np.random.randint(1, 13) for _ in range(0, size)],\n",
    "    'val1': [np.random.randint(1, 11) for _ in range(0, size)],\n",
    "    'val2': [np.random.randint(100, 1000) for _ in range(0, size)],\n",
    "    'val3': [np.random.randint(10000, 20000) for _ in range(0, size)],\n",
    "})\n",
    "df1"
   ]
  },
  {
   "cell_type": "code",
   "execution_count": 76,
   "metadata": {},
   "outputs": [
    {
     "data": {
      "text/plain": [
       "(10, 6)"
      ]
     },
     "execution_count": 76,
     "metadata": {},
     "output_type": "execute_result"
    }
   ],
   "source": [
    "# shape 출력값 2차원배열과 1차원배열 의미가 상이\n",
    "df1.shape"
   ]
  },
  {
   "cell_type": "code",
   "execution_count": 77,
   "metadata": {},
   "outputs": [
    {
     "name": "stdout",
     "output_type": "stream",
     "text": [
      "<class 'pandas.core.frame.DataFrame'>\n",
      "RangeIndex: 10 entries, 0 to 9\n",
      "Data columns (total 6 columns):\n",
      " #   Column  Non-Null Count  Dtype \n",
      "---  ------  --------------  ----- \n",
      " 0   class   10 non-null     object\n",
      " 1   year    10 non-null     int64 \n",
      " 2   month   10 non-null     int64 \n",
      " 3   val1    10 non-null     int64 \n",
      " 4   val2    10 non-null     int64 \n",
      " 5   val3    10 non-null     int64 \n",
      "dtypes: int64(5), object(1)\n",
      "memory usage: 612.0+ bytes\n"
     ]
    }
   ],
   "source": [
    "df1.info()"
   ]
  },
  {
   "cell_type": "code",
   "execution_count": 78,
   "metadata": {},
   "outputs": [
    {
     "data": {
      "text/html": [
       "<div>\n",
       "<style scoped>\n",
       "    .dataframe tbody tr th:only-of-type {\n",
       "        vertical-align: middle;\n",
       "    }\n",
       "\n",
       "    .dataframe tbody tr th {\n",
       "        vertical-align: top;\n",
       "    }\n",
       "\n",
       "    .dataframe thead th {\n",
       "        text-align: right;\n",
       "    }\n",
       "</style>\n",
       "<table border=\"1\" class=\"dataframe\">\n",
       "  <thead>\n",
       "    <tr style=\"text-align: right;\">\n",
       "      <th></th>\n",
       "      <th>year</th>\n",
       "      <th>month</th>\n",
       "      <th>val1</th>\n",
       "      <th>val2</th>\n",
       "      <th>val3</th>\n",
       "    </tr>\n",
       "  </thead>\n",
       "  <tbody>\n",
       "    <tr>\n",
       "      <th>count</th>\n",
       "      <td>10.000000</td>\n",
       "      <td>10.000000</td>\n",
       "      <td>10.00000</td>\n",
       "      <td>10.000000</td>\n",
       "      <td>10.00000</td>\n",
       "    </tr>\n",
       "    <tr>\n",
       "      <th>mean</th>\n",
       "      <td>2016.300000</td>\n",
       "      <td>7.400000</td>\n",
       "      <td>5.10000</td>\n",
       "      <td>545.100000</td>\n",
       "      <td>12954.50000</td>\n",
       "    </tr>\n",
       "    <tr>\n",
       "      <th>std</th>\n",
       "      <td>4.667857</td>\n",
       "      <td>2.951459</td>\n",
       "      <td>3.17805</td>\n",
       "      <td>262.130353</td>\n",
       "      <td>2023.16239</td>\n",
       "    </tr>\n",
       "    <tr>\n",
       "      <th>min</th>\n",
       "      <td>2010.000000</td>\n",
       "      <td>1.000000</td>\n",
       "      <td>1.00000</td>\n",
       "      <td>140.000000</td>\n",
       "      <td>10143.00000</td>\n",
       "    </tr>\n",
       "    <tr>\n",
       "      <th>25%</th>\n",
       "      <td>2013.250000</td>\n",
       "      <td>6.250000</td>\n",
       "      <td>3.00000</td>\n",
       "      <td>420.250000</td>\n",
       "      <td>11872.25000</td>\n",
       "    </tr>\n",
       "    <tr>\n",
       "      <th>50%</th>\n",
       "      <td>2016.500000</td>\n",
       "      <td>7.500000</td>\n",
       "      <td>4.00000</td>\n",
       "      <td>564.000000</td>\n",
       "      <td>12922.50000</td>\n",
       "    </tr>\n",
       "    <tr>\n",
       "      <th>75%</th>\n",
       "      <td>2019.750000</td>\n",
       "      <td>9.750000</td>\n",
       "      <td>7.75000</td>\n",
       "      <td>785.250000</td>\n",
       "      <td>13808.00000</td>\n",
       "    </tr>\n",
       "    <tr>\n",
       "      <th>max</th>\n",
       "      <td>2023.000000</td>\n",
       "      <td>11.000000</td>\n",
       "      <td>10.00000</td>\n",
       "      <td>836.000000</td>\n",
       "      <td>17156.00000</td>\n",
       "    </tr>\n",
       "  </tbody>\n",
       "</table>\n",
       "</div>"
      ],
      "text/plain": [
       "              year      month      val1        val2         val3\n",
       "count    10.000000  10.000000  10.00000   10.000000     10.00000\n",
       "mean   2016.300000   7.400000   5.10000  545.100000  12954.50000\n",
       "std       4.667857   2.951459   3.17805  262.130353   2023.16239\n",
       "min    2010.000000   1.000000   1.00000  140.000000  10143.00000\n",
       "25%    2013.250000   6.250000   3.00000  420.250000  11872.25000\n",
       "50%    2016.500000   7.500000   4.00000  564.000000  12922.50000\n",
       "75%    2019.750000   9.750000   7.75000  785.250000  13808.00000\n",
       "max    2023.000000  11.000000  10.00000  836.000000  17156.00000"
      ]
     },
     "execution_count": 78,
     "metadata": {},
     "output_type": "execute_result"
    }
   ],
   "source": [
    "df1.describe()"
   ]
  }
 ],
 "metadata": {
  "kernelspec": {
   "display_name": "da_env",
   "language": "python",
   "name": "python3"
  },
  "language_info": {
   "codemirror_mode": {
    "name": "ipython",
    "version": 3
   },
   "file_extension": ".py",
   "mimetype": "text/x-python",
   "name": "python",
   "nbconvert_exporter": "python",
   "pygments_lexer": "ipython3",
   "version": "3.11.2"
  },
  "orig_nbformat": 4
 },
 "nbformat": 4,
 "nbformat_minor": 2
}
