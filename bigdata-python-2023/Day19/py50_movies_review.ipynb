{
 "cells": [
  {
   "attachments": {},
   "cell_type": "markdown",
   "metadata": {},
   "source": [
    "#### 영화 리뷰 시각화\n",
    "\n",
    "##### 단어 토큰화\n",
    "- I like to eat apples -> 'I' 'like' 'to' 'eat' 'apples' -->\n",
    "- 나는 사과 먹는 것을 좋아해 -> '나는' '사과' '먹는' '것을' '좋아해' --> 나, 사과, 먹는, 좋아\n",
    "\n",
    "##### 형태소 분석 라이브러리\n",
    "- NLPy : 영어 형태소분석 모듈\n",
    "- KoNLPy : 한국어 형태소분석 모듈\n",
    "\n",
    "```python\n",
    "!pip install konlpy\n",
    "```"
   ]
  },
  {
   "cell_type": "code",
   "execution_count": 1,
   "metadata": {},
   "outputs": [
    {
     "name": "stdout",
     "output_type": "stream",
     "text": [
      "Requirement already satisfied: konlpy in c:\\program files\\python311\\lib\\site-packages (0.6.0)\n",
      "Requirement already satisfied: JPype1>=0.7.0 in c:\\program files\\python311\\lib\\site-packages (from konlpy) (1.4.1)\n",
      "Requirement already satisfied: lxml>=4.1.0 in c:\\program files\\python311\\lib\\site-packages (from konlpy) (4.9.3)\n",
      "Requirement already satisfied: numpy>=1.6 in c:\\program files\\python311\\lib\\site-packages (from konlpy) (1.25.0)\n",
      "Requirement already satisfied: packaging in c:\\users\\administrator\\appdata\\roaming\\python\\python311\\site-packages (from JPype1>=0.7.0->konlpy) (23.1)\n"
     ]
    }
   ],
   "source": [
    "!pip install konlpy"
   ]
  },
  {
   "cell_type": "code",
   "execution_count": 2,
   "metadata": {},
   "outputs": [
    {
     "name": "stdout",
     "output_type": "stream",
     "text": [
      "Name: konlpy\n",
      "Version: 0.6.0\n",
      "Summary: Python package for Korean natural language processing.\n",
      "Home-page: http://konlpy.org\n",
      "Author: Team KoNLPy\n",
      "Author-email: konlpy@googlegroups.com\n",
      "License: GPL v3\n",
      "Location: C:\\Program Files\\Python311\\Lib\\site-packages\n",
      "Requires: JPype1, lxml, numpy\n",
      "Required-by: \n"
     ]
    }
   ],
   "source": [
    "# 모듈 설치 확인\n",
    "!pip show konlpy"
   ]
  },
  {
   "attachments": {},
   "cell_type": "markdown",
   "metadata": {},
   "source": [
    "##### 형태소 연습"
   ]
  },
  {
   "cell_type": "code",
   "execution_count": 3,
   "metadata": {},
   "outputs": [],
   "source": [
    "import matplotlib\n",
    "# from matplotlib import pyplot as plt\n",
    "import matplotlib.pyplot as plt\n",
    "from matplotlib import font_manager, rc, rcParams\n",
    "import seaborn as sns\n",
    "\n",
    "import pandas as pd\n",
    "import numpy as np\n",
    "\n",
    "# 워드클라우드 한글 문제해결\n",
    "from wordcloud import WordCloud\n",
    "from PIL import Image, ImageOps\n",
    "\n",
    "font_path = 'C:/Windows/Fonts/NanumGothic.ttf'\n",
    "font = font_manager.FontProperties(fname=font_path).get_name() # 'NanumGothic'\n",
    "rc('font', family=font)\n",
    "rcParams['axes.unicode_minus'] = False"
   ]
  },
  {
   "cell_type": "code",
   "execution_count": 4,
   "metadata": {},
   "outputs": [],
   "source": [
    "# konlpy import\n",
    "from konlpy.tag import Okt\n",
    "import collections"
   ]
  },
  {
   "cell_type": "code",
   "execution_count": 5,
   "metadata": {},
   "outputs": [],
   "source": [
    "# phrases() - 어구추출 / morphs(text) - 형태소추출\n",
    "# nouns(text) - 명사만 추출 / pos(text) - 품사정보 추가해서 추출\n",
    "okt = Okt()"
   ]
  },
  {
   "cell_type": "code",
   "execution_count": 6,
   "metadata": {},
   "outputs": [
    {
     "data": {
      "text/plain": [
       "['나', '의', '드림', '카', '는', '람보르기니', '로', '꼭', '사고', '싶어요', '~!']"
      ]
     },
     "execution_count": 6,
     "metadata": {},
     "output_type": "execute_result"
    }
   ],
   "source": [
    "tokens = okt.morphs('나의 드림카는 람보르기니로 꼭 사고 싶어요~!')\n",
    "tokens"
   ]
  },
  {
   "cell_type": "code",
   "execution_count": 7,
   "metadata": {},
   "outputs": [
    {
     "data": {
      "text/plain": [
       "['나/Noun',\n",
       " '의/Josa',\n",
       " '드림/Noun',\n",
       " '카/Noun',\n",
       " '는/Josa',\n",
       " '람보르기니/Noun',\n",
       " '로/Josa',\n",
       " '꼭/Noun',\n",
       " '사고/Noun',\n",
       " '싶어요/Verb',\n",
       " '~!/Punctuation']"
      ]
     },
     "execution_count": 7,
     "metadata": {},
     "output_type": "execute_result"
    }
   ],
   "source": [
    "tokens_tag = okt.pos('나의 드림카는 람보르기니로 꼭 사고 싶어요~!', join=True)\n",
    "tokens_tag"
   ]
  },
  {
   "cell_type": "code",
   "execution_count": 8,
   "metadata": {},
   "outputs": [
    {
     "data": {
      "text/plain": [
       "[('달이', 'Noun'), ('몰락하고', 'Adjective'), ('있어', 'Adjective')]"
      ]
     },
     "execution_count": 8,
     "metadata": {},
     "output_type": "execute_result"
    }
   ],
   "source": [
    "tokens_tag = okt.pos('달이 몰락하고 있어', join=False)\n",
    "tokens_tag"
   ]
  },
  {
   "cell_type": "code",
   "execution_count": 9,
   "metadata": {},
   "outputs": [
    {
     "data": {
      "text/plain": [
       "['나의 드림카', '람보르기니', '꼭 사고', '드림', '사고']"
      ]
     },
     "execution_count": 9,
     "metadata": {},
     "output_type": "execute_result"
    }
   ],
   "source": [
    "sentence = okt.phrases('나의 드림카는 람보르기니로 꼭 사고 싶어요~!')\n",
    "sentence"
   ]
  },
  {
   "cell_type": "code",
   "execution_count": 10,
   "metadata": {},
   "outputs": [
    {
     "data": {
      "text/plain": [
       "['달이']"
      ]
     },
     "execution_count": 10,
     "metadata": {},
     "output_type": "execute_result"
    }
   ],
   "source": [
    "sentence = okt.phrases('달이 몰락하고 있어')\n",
    "sentence"
   ]
  },
  {
   "cell_type": "code",
   "execution_count": 11,
   "metadata": {},
   "outputs": [
    {
     "data": {
      "text/plain": [
       "['달이']"
      ]
     },
     "execution_count": 11,
     "metadata": {},
     "output_type": "execute_result"
    }
   ],
   "source": [
    "nouns = okt.nouns('달이 몰락하고 있어')\n",
    "nouns"
   ]
  },
  {
   "cell_type": "code",
   "execution_count": 12,
   "metadata": {},
   "outputs": [
    {
     "data": {
      "text/plain": [
       "[('테스트', 'Noun'), ('입니다', 'Adjective'), ('!', 'Punctuation')]"
      ]
     },
     "execution_count": 12,
     "metadata": {},
     "output_type": "execute_result"
    }
   ],
   "source": [
    "text = input()\n",
    "token_tags = okt.pos(text)\n",
    "token_tags"
   ]
  },
  {
   "cell_type": "code",
   "execution_count": 13,
   "metadata": {},
   "outputs": [],
   "source": [
    "lyrics = '''좁고 좁은 저 문으로 들어가는 길은 나를 깎고 잘라서 스스로 작아지는 것뿐 이젠 버릴것조차\n",
    "거의 남은게 없는데 문득 거울을 보니 자존심 하나가 남았네 \n",
    "두고온 고향 보고픈 얼굴 따뜻한 저녁과 웃음 소리 고갤 흔들어 지워버리며 소리를 듣네 나를 부르는 쉬지말고 가라하는\n",
    "저 강들이 모여드는 곳 성난 파도 아래 깊이 한 번 만이라도 이를 수 있다면 나 언젠가 심장이 터질 때까지 흐느껴 울고 웃다가\n",
    "긴 여행을 끝내리 미련없이 \n",
    "익숙해가는 거친 잠자리도 또 다른 안식을 빚어 그마저 두려울 뿐인데 부끄러운 게으름 자잘한 욕심들아 얼마나 나일 먹어야\n",
    "마음의 안식을 얻을까 하루 또 하루 무거워지는 고독의 무게를 참는 것은 그보다 힘든 그보다 슬픈 의미도 없이 잊혀지긴 싫은\n",
    "두려움 때문이지만 \n",
    "저 강들이 모여 드는 곳 성난 파도 아래 깊이 한 번 만이라도 이를 수 있다면 나 언젠가 심장이 터질 때까지 흐느껴 울고 웃으며\n",
    "긴 여행을 끝내리 미련없이\n",
    "아무도 내게 말해 주지 않은 정말로 내가 누군지 알기 위해'''\n",
    "word_tags = okt.pos(lyrics)"
   ]
  },
  {
   "cell_type": "code",
   "execution_count": 14,
   "metadata": {},
   "outputs": [],
   "source": [
    "nadj_list = []\n",
    "for word, tag in word_tags:\n",
    "    if tag in ['Noun', 'Adjective']: # 품사가 명사, 형용사 만\n",
    "        nadj_list.append(word)"
   ]
  },
  {
   "cell_type": "code",
   "execution_count": 15,
   "metadata": {},
   "outputs": [
    {
     "data": {
      "text/plain": [
       "[('저', 3),\n",
       " ('그', 3),\n",
       " ('것', 2),\n",
       " ('소리', 2),\n",
       " ('강', 2),\n",
       " ('곳', 2),\n",
       " ('파도', 2),\n",
       " ('아래', 2),\n",
       " ('깊이', 2),\n",
       " ('번', 2)]"
      ]
     },
     "execution_count": 15,
     "metadata": {},
     "output_type": "execute_result"
    }
   ],
   "source": [
    "counts = collections.Counter(nadj_list)\n",
    "counts.most_common(10)"
   ]
  },
  {
   "cell_type": "code",
   "execution_count": 16,
   "metadata": {},
   "outputs": [],
   "source": [
    "lyrics = '''내가 미쳤어 정말 미쳤어\n",
    "너무 미워서 떠나버렸어\n",
    "너무 쉽게 끝난 사랑\n",
    "다시 돌아오지 않는단걸 알면서도\n",
    "미쳤어 내가 미쳤어\n",
    "그땐 미쳐 널 잡지 못했어\n",
    "나를 떠떠떠떠떠 떠나 버버버버버 버려\n",
    "그 짧은 추억만을 남겨둔채로 날\n",
    "후회했어 니가 가버린뒤\n",
    "난 더 불행해져 네게 버려진뒤\n",
    "너를 잃고 싶지않아 줄것이 더 많아 나를 떠나지마라\n",
    "죽도록 사랑했어 너 하나만을\n",
    "다시는 볼수없단 미친생각에\n",
    "눈물만 흐르네 술에 취한밤에 오늘은 잠을 이룰수없어\n",
    "내가 미쳤어 정말 미쳤어\n",
    "너무 미워서 떠나버렸어\n",
    "너무 쉽게 끝난 사랑\n",
    "다시 돌아오지 않는단걸 알면서도\n",
    "미쳤어 내가 미쳤어\n",
    "그땐 미쳐 널 잡지 못했어\n",
    "나를 떠떠떠떠떠 떠나 버버버버버 버려\n",
    "그 짧은 추억만을 남겨둔채로 날\n",
    "사랑이 벌써 식어버린건지\n",
    "이제와 왜 난 후회하는건지\n",
    "떠나간자리 혼자남은 난 이렇게 내 가슴은 무너지고\n",
    "죽도록 사랑했어 너 하나만을\n",
    "다시는 볼수없단 미친생각에\n",
    "눈물만 흐르네 술에 취한밤에 오늘은 잠을 이룰수없어\n",
    "내가 미쳤어 정말 미쳤어\n",
    "너무 미워서 떠나버렸어\n",
    "너무 쉽게 끝난 사랑 다시 돌아오지 않는단걸 알면서도\n",
    "미쳤어 내가 미쳤어\n",
    "그땐 미쳐 널 잡지 못했어\n",
    "나를 떠떠떠떠떠 떠나 버버버버버 버려\n",
    "그 짧은 추억만을 남겨둔채로 날\n",
    "너의 이런 매일밤 부르는건 들리니? 몹시 아팠나봐 이젠 시작이란 말조차 난겁나 전화기를들어 확인해 니, 떠나줬으면 좋겠어,\n",
    "내가 미쳤어 정말 미쳤어\n",
    "너무 미워서 떠나버렸어\n",
    "너무 쉽게 끝난 사랑 다시 돌아오지 않는단걸 알면서도\n",
    "미쳤어 내가 미쳤어\n",
    "그땐 미쳐 널 잡지 못했어\n",
    "나를 떠떠떠떠떠 떠나 버버버버버 버려\n",
    "그 짧은 추억만을 남겨둔채로 날'''\n",
    "word_tags = okt.pos(lyrics)"
   ]
  },
  {
   "cell_type": "code",
   "execution_count": 17,
   "metadata": {},
   "outputs": [],
   "source": [
    "nadj_list = []\n",
    "for word, tag in word_tags:\n",
    "    if tag in ['Noun', 'Adjective']:\n",
    "        nadj_list.append(word)"
   ]
  },
  {
   "cell_type": "code",
   "execution_count": 18,
   "metadata": {},
   "outputs": [],
   "source": [
    "counts = collections.Counter(nadj_list)\n",
    "tags = counts.most_common(20)"
   ]
  },
  {
   "cell_type": "code",
   "execution_count": 19,
   "metadata": {},
   "outputs": [
    {
     "data": {
      "image/png": "[encoded data removed]",
      "text/plain": [
       "<Figure size 1500x700 with 1 Axes>"
      ]
     },
     "metadata": {},
     "output_type": "display_data"
    }
   ],
   "source": [
    "# 워드 클라우드\n",
    "font_path = 'C:/Windows/Fonts/경기천년제목V_Bold.ttf'\n",
    "wc = WordCloud(font_path=font_path, background_color='azure', colormap='inferno', max_font_size=60, \n",
    "               width=900, height=250, relative_scaling=0.6)\n",
    "wc.generate_from_frequencies(dict(tags))\n",
    "plt.figure(figsize=(15, 7))\n",
    "plt.imshow(wc)\n",
    "plt.axis('off')\n",
    "plt.show()"
   ]
  },
  {
   "attachments": {},
   "cell_type": "markdown",
   "metadata": {},
   "source": [
    "##### 영화리뷰 시각화 시작"
   ]
  },
  {
   "cell_type": "code",
   "execution_count": 20,
   "metadata": {},
   "outputs": [
    {
     "data": {
      "text/html": [
       "<div>\n",
       "<style scoped>\n",
       "    .dataframe tbody tr th:only-of-type {\n",
       "        vertical-align: middle;\n",
       "    }\n",
       "\n",
       "    .dataframe tbody tr th {\n",
       "        vertical-align: top;\n",
       "    }\n",
       "\n",
       "    .dataframe thead th {\n",
       "        text-align: right;\n",
       "    }\n",
       "</style>\n",
       "<table border=\"1\" class=\"dataframe\">\n",
       "  <thead>\n",
       "    <tr style=\"text-align: right;\">\n",
       "      <th></th>\n",
       "      <th>id</th>\n",
       "      <th>document</th>\n",
       "      <th>label</th>\n",
       "    </tr>\n",
       "  </thead>\n",
       "  <tbody>\n",
       "    <tr>\n",
       "      <th>0</th>\n",
       "      <td>9976970</td>\n",
       "      <td>아 더빙.. 진짜 짜증나네요 목소리</td>\n",
       "      <td>0</td>\n",
       "    </tr>\n",
       "    <tr>\n",
       "      <th>1</th>\n",
       "      <td>3819312</td>\n",
       "      <td>흠...포스터보고 초딩영화줄....오버연기조차 가볍지 않구나</td>\n",
       "      <td>1</td>\n",
       "    </tr>\n",
       "    <tr>\n",
       "      <th>2</th>\n",
       "      <td>10265843</td>\n",
       "      <td>너무재밓었다그래서보는것을추천한다</td>\n",
       "      <td>0</td>\n",
       "    </tr>\n",
       "    <tr>\n",
       "      <th>3</th>\n",
       "      <td>9045019</td>\n",
       "      <td>교도소 이야기구먼 ..솔직히 재미는 없다..평점 조정</td>\n",
       "      <td>0</td>\n",
       "    </tr>\n",
       "    <tr>\n",
       "      <th>4</th>\n",
       "      <td>6483659</td>\n",
       "      <td>사이몬페그의 익살스런 연기가 돋보였던 영화!스파이더맨에서 늙어보이기만 했던 커스틴 ...</td>\n",
       "      <td>1</td>\n",
       "    </tr>\n",
       "    <tr>\n",
       "      <th>...</th>\n",
       "      <td>...</td>\n",
       "      <td>...</td>\n",
       "      <td>...</td>\n",
       "    </tr>\n",
       "    <tr>\n",
       "      <th>149995</th>\n",
       "      <td>6222902</td>\n",
       "      <td>인간이 문제지.. 소는 뭔죄인가..</td>\n",
       "      <td>0</td>\n",
       "    </tr>\n",
       "    <tr>\n",
       "      <th>149996</th>\n",
       "      <td>8549745</td>\n",
       "      <td>평점이 너무 낮아서...</td>\n",
       "      <td>1</td>\n",
       "    </tr>\n",
       "    <tr>\n",
       "      <th>149997</th>\n",
       "      <td>9311800</td>\n",
       "      <td>이게 뭐요? 한국인은 거들먹거리고 필리핀 혼혈은 착하다?</td>\n",
       "      <td>0</td>\n",
       "    </tr>\n",
       "    <tr>\n",
       "      <th>149998</th>\n",
       "      <td>2376369</td>\n",
       "      <td>청춘 영화의 최고봉.방황과 우울했던 날들의 자화상</td>\n",
       "      <td>1</td>\n",
       "    </tr>\n",
       "    <tr>\n",
       "      <th>149999</th>\n",
       "      <td>9619869</td>\n",
       "      <td>한국 영화 최초로 수간하는 내용이 담긴 영화</td>\n",
       "      <td>0</td>\n",
       "    </tr>\n",
       "  </tbody>\n",
       "</table>\n",
       "<p>150000 rows × 3 columns</p>\n",
       "</div>"
      ],
      "text/plain": [
       "              id                                           document  label\n",
       "0        9976970                                아 더빙.. 진짜 짜증나네요 목소리      0\n",
       "1        3819312                  흠...포스터보고 초딩영화줄....오버연기조차 가볍지 않구나      1\n",
       "2       10265843                                  너무재밓었다그래서보는것을추천한다      0\n",
       "3        9045019                      교도소 이야기구먼 ..솔직히 재미는 없다..평점 조정      0\n",
       "4        6483659  사이몬페그의 익살스런 연기가 돋보였던 영화!스파이더맨에서 늙어보이기만 했던 커스틴 ...      1\n",
       "...          ...                                                ...    ...\n",
       "149995   6222902                                인간이 문제지.. 소는 뭔죄인가..      0\n",
       "149996   8549745                                      평점이 너무 낮아서...      1\n",
       "149997   9311800                    이게 뭐요? 한국인은 거들먹거리고 필리핀 혼혈은 착하다?      0\n",
       "149998   2376369                        청춘 영화의 최고봉.방황과 우울했던 날들의 자화상      1\n",
       "149999   9619869                           한국 영화 최초로 수간하는 내용이 담긴 영화      0\n",
       "\n",
       "[150000 rows x 3 columns]"
      ]
     },
     "execution_count": 20,
     "metadata": {},
     "output_type": "execute_result"
    }
   ],
   "source": [
    "df_raw = pd.read_table('./ratings_train.txt')\n",
    "df_raw"
   ]
  },
  {
   "cell_type": "code",
   "execution_count": 21,
   "metadata": {},
   "outputs": [
    {
     "data": {
      "text/plain": [
       "150000"
      ]
     },
     "execution_count": 21,
     "metadata": {},
     "output_type": "execute_result"
    }
   ],
   "source": [
    "# 데이터 전처리\n",
    "df_raw['id'].nunique()"
   ]
  },
  {
   "cell_type": "code",
   "execution_count": 22,
   "metadata": {},
   "outputs": [
    {
     "name": "stdout",
     "output_type": "stream",
     "text": [
      "<class 'pandas.core.frame.DataFrame'>\n",
      "RangeIndex: 150000 entries, 0 to 149999\n",
      "Data columns (total 3 columns):\n",
      " #   Column    Non-Null Count   Dtype \n",
      "---  ------    --------------   ----- \n",
      " 0   id        150000 non-null  int64 \n",
      " 1   document  149995 non-null  object\n",
      " 2   label     150000 non-null  int64 \n",
      "dtypes: int64(2), object(1)\n",
      "memory usage: 3.4+ MB\n"
     ]
    }
   ],
   "source": [
    "df_raw.info()"
   ]
  },
  {
   "cell_type": "code",
   "execution_count": 23,
   "metadata": {},
   "outputs": [
    {
     "data": {
      "text/plain": [
       "id          0\n",
       "document    5\n",
       "label       0\n",
       "dtype: int64"
      ]
     },
     "execution_count": 23,
     "metadata": {},
     "output_type": "execute_result"
    }
   ],
   "source": [
    "df_raw.isnull().sum()"
   ]
  },
  {
   "cell_type": "code",
   "execution_count": 24,
   "metadata": {},
   "outputs": [],
   "source": [
    "# 통계치 내는 예제가 아니기때문에 결측치는 삭제하면 됨\n",
    "# how : 'all'(모든 컬럼값 NaN이어야지 삭제) 'any'(하나라도 결측치가 있으면 삭제)\n",
    "df_raw = df_raw.dropna(how='any')"
   ]
  },
  {
   "cell_type": "code",
   "execution_count": 25,
   "metadata": {},
   "outputs": [
    {
     "name": "stdout",
     "output_type": "stream",
     "text": [
      "<class 'pandas.core.frame.DataFrame'>\n",
      "Index: 149995 entries, 0 to 149999\n",
      "Data columns (total 3 columns):\n",
      " #   Column    Non-Null Count   Dtype \n",
      "---  ------    --------------   ----- \n",
      " 0   id        149995 non-null  int64 \n",
      " 1   document  149995 non-null  object\n",
      " 2   label     149995 non-null  int64 \n",
      "dtypes: int64(2), object(1)\n",
      "memory usage: 4.6+ MB\n"
     ]
    }
   ],
   "source": [
    "df_raw.info()"
   ]
  },
  {
   "cell_type": "code",
   "execution_count": 26,
   "metadata": {},
   "outputs": [
    {
     "data": {
      "text/plain": [
       "0                                   아 더빙.. 진짜 짜증나네요 목소리\n",
       "1                     흠...포스터보고 초딩영화줄....오버연기조차 가볍지 않구나\n",
       "2                                     너무재밓었다그래서보는것을추천한다\n",
       "3                         교도소 이야기구먼 ..솔직히 재미는 없다..평점 조정\n",
       "4     사이몬페그의 익살스런 연기가 돋보였던 영화!스파이더맨에서 늙어보이기만 했던 커스틴 ...\n",
       "5         막 걸음마 뗀 3세부터 초등학교 1학년생인 8살용영화.ㅋㅋㅋ...별반개도 아까움.\n",
       "6                                 원작의 긴장감을 제대로 살려내지못했다.\n",
       "7     별 반개도 아깝다 욕나온다 이응경 길용우 연기생활이몇년인지..정말 발로해도 그것보단...\n",
       "8                                액션이 없는데도 재미 있는 몇안되는 영화\n",
       "9         왜케 평점이 낮은건데? 꽤 볼만한데.. 헐리우드식 화려함에만 너무 길들여져 있나?\n",
       "10                                     걍인피니트가짱이다.진짜짱이다♥\n",
       "11          볼때마다 눈물나서 죽겠다90년대의 향수자극!!허진호는 감성절제멜로의 달인이다~\n",
       "12                  울면서 손들고 횡단보도 건널때 뛰쳐나올뻔 이범수 연기 드럽게못해\n",
       "13    담백하고 깔끔해서 좋다. 신문기사로만 보다 보면 자꾸 잊어버린다. 그들도 사람이었다...\n",
       "14    취향은 존중한다지만 진짜 내생에 극장에서 본 영화중 가장 노잼 노감동임 스토리도 어...\n",
       "15                                     ㄱ냥 매번 긴장되고 재밋음ㅠㅠ\n",
       "16    참 사람들 웃긴게 바스코가 이기면 락스코라고 까고바비가 이기면 아이돌이라고 깐다.그...\n",
       "17                   굿바이 레닌 표절인것은 이해하는데 왜 뒤로 갈수록 재미없어지냐\n",
       "18        이건 정말 깨알 캐스팅과 질퍽하지않은 산뜻한 내용구성이 잘 버무러진 깨알일드!!♥\n",
       "19                   약탈자를 위한 변명, 이라. 저놈들은 착한놈들 절대 아닌걸요.\n",
       "Name: document, dtype: object"
      ]
     },
     "execution_count": 26,
     "metadata": {},
     "output_type": "execute_result"
    }
   ],
   "source": [
    "# 불용어 제거 / 한글, 공백만 두고 나머지 모두 제거 작업\n",
    "df_raw['document'].str.replace('[가-힣]', '').head(20)"
   ]
  },
  {
   "cell_type": "code",
   "execution_count": 43,
   "metadata": {},
   "outputs": [
    {
     "name": "stderr",
     "output_type": "stream",
     "text": [
      "100%|██████████| 149995/149995 [16:23<00:00, 152.48it/s]\n"
     ]
    }
   ],
   "source": [
    "from tqdm import tqdm\n",
    "\n",
    "temp_list = []\n",
    "df = df_raw['document']\n",
    "\n",
    "for item in tqdm(df):\n",
    "    s_list = okt.pos(item)   \n",
    "   \n",
    "    for word, tag in s_list:\n",
    "        if tag in ['Noun', 'Adjective']:\n",
    "            temp_list.append(word)"
   ]
  },
  {
   "cell_type": "code",
   "execution_count": 49,
   "metadata": {},
   "outputs": [],
   "source": [
    "df_temp_list = pd.DataFrame(temp_list)\n",
    "df_temp_list.to_csv('./word_lists.csv', encoding='utf-8')"
   ]
  }
 ],
 "metadata": {
  "kernelspec": {
   "display_name": "Python 3",
   "language": "python",
   "name": "python3"
  },
  "language_info": {
   "codemirror_mode": {
    "name": "ipython",
    "version": 3
   },
   "file_extension": ".py",
   "mimetype": "text/x-python",
   "name": "python",
   "nbconvert_exporter": "python",
   "pygments_lexer": "ipython3",
   "version": "3.11.4"
  },
  "orig_nbformat": 4,
  "vscode": {
   "interpreter": {
    "hash": "5238573367df39f7286bb46f9ff5f08f63a01a80960060ce41e3c79b190280fa"
   }
  }
 },
 "nbformat": 4,
 "nbformat_minor": 2
}
