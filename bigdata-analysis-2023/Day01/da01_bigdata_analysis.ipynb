{
 "cells": [
  {
   "cell_type": "markdown",
   "metadata": {},
   "source": [
    "# 1일차\n",
    "- 빅데이터 개발환경\n",
    "    - Python 64bit\n",
    "    - VisualStudio Code, Anaconda, Colab, etc \n",
    "    - Database | OpenAPI | WebCrawling\n",
    "\n",
    "- 빅데이터용 파이썬 학습\n",
    "    - 생략\n",
    "\n",
    "- 데이터 분석용 파이썬 실습\n",
    "    - 데이터 입출력 부터"
   ]
  },
  {
   "cell_type": "markdown",
   "metadata": {},
   "source": [
    "## 마크다운 활용\n",
    "\n",
    "### 이미지부터 표까지\n",
    "- 깃허브 README.md와 동일하게 사용할 것!\n",
    "    - 아래 예제"
   ]
  },
  {
   "cell_type": "markdown",
   "metadata": {},
   "source": [
    "### 이미지 추가\n",
    "\n",
    "> **인용** 좀 하세요~ 제발\n",
    "\n",
    "<img src=\"https://dojang.io/pluginfile.php/14085/mod_page/content/7/046011_.png\" width=\"400\">\n",
    "\n",
    "<img src=\"https://raw.githubusercontent.com/hugoMGSung/pknu_aspnet_2023/main/images/restapi02.gif\" width=\"400\">\n",
    "\n",
    "\n",
    "---\n",
    "\n",
    "|제목|내용|비고|\n",
    "|:-----|----------:|:----:|\n",
    "|제목1|내용1|비고1|\n",
    "|제목2|내용2|비고2|\n",
    "|제목3|내용3|비고3|\n",
    "|제목4|내용입니다4|비고4|\n",
    "|제목입니다.|내용4|비고4예용|"
   ]
  },
  {
   "cell_type": "markdown",
   "metadata": {},
   "source": [
    "## 주피터 노트북 디버깅\n",
    "\n",
    "- 브레이크 포인트(중단점 클릭)\n",
    "- Ctrl + Shift + Alt + Enter\n",
    "    - py 디버깅과 동일(F10, F11) 사용"
   ]
  },
  {
   "cell_type": "markdown",
   "metadata": {},
   "source": [
    "## 데이터 입출력\n",
    "\n",
    "### 기본 출력"
   ]
  },
  {
   "cell_type": "code",
   "execution_count": 1,
   "metadata": {},
   "outputs": [
    {
     "name": "stdout",
     "output_type": "stream",
     "text": [
      "Hello Python!\n"
     ]
    }
   ],
   "source": [
    "## 최종하나면 출력\n",
    "'Hello Python.'\n",
    "print('Hello Python!')"
   ]
  },
  {
   "cell_type": "code",
   "execution_count": 2,
   "metadata": {},
   "outputs": [
    {
     "data": {
      "text/plain": [
       "'Hello BigData~~!!'"
      ]
     },
     "execution_count": 2,
     "metadata": {},
     "output_type": "execute_result"
    }
   ],
   "source": [
    "## 여러개 출력 안됨\n",
    "'Hello BigData'\n",
    "'Hello BigData!'\n",
    "'Hello BigData~~!!'"
   ]
  },
  {
   "cell_type": "code",
   "execution_count": 3,
   "metadata": {},
   "outputs": [
    {
     "name": "stdout",
     "output_type": "stream",
     "text": [
      "Hello BigData\n",
      "Hello BigData!\n",
      "Hello BigData~~!!\n"
     ]
    }
   ],
   "source": [
    "## 여러개 출력하고 싶으면 print() 사용\n",
    "print('Hello BigData')\n",
    "print('Hello BigData!')\n",
    "print('Hello BigData~~!!')"
   ]
  },
  {
   "cell_type": "markdown",
   "metadata": {},
   "source": [
    "## 입출력 이전\n",
    "\n",
    "### 데이터 분석용 라이브러리 리스트\n",
    "- 공부해야할 것들 기본\n",
    "    - Pandas\n",
    "    - openpyxl (import 필요없음)\n",
    "    - Numpy\n",
    "    - Matplotlib\n",
    "    - folium\n",
    "\n",
    "- 추가로 공부해야할 것들\n",
    "    - Seaborn\n",
    "    - tqdm\n",
    "    - wordcloud\n",
    "    - ...\n",
    "\n",
    "- 머신러닝, 딥러닝으로 가면??\n",
    "    - SckitLearn\n",
    "    - Tensorflow\n",
    "    - PyTorch\n",
    "    - ..."
   ]
  },
  {
   "cell_type": "markdown",
   "metadata": {},
   "source": [
    "### 데이터 가져오기\n",
    "\n",
    "- 주피터 노트북에서 데이터 가져올 때는 무조건 판다스 사용!\n",
    "    - 나머지는 쓰기 까다로움\n",
    "\n",
    "#### 기본\n",
    "- Pandas\n",
    "    - 받는 데이터는 기본이 DataFrame임, 따라서 변수명을 df_로 진행(하위 시리즈는 옵션)\n",
    "    - 시작!"
   ]
  },
  {
   "cell_type": "code",
   "execution_count": 4,
   "metadata": {},
   "outputs": [],
   "source": [
    "## 없으면 !pip install pandas\n",
    "import pandas as pd\n",
    "\n",
    "## URL 인코딩 파싱용 추가\n",
    "from urllib import parse"
   ]
  },
  {
   "cell_type": "code",
   "execution_count": 5,
   "metadata": {},
   "outputs": [
    {
     "data": {
      "text/plain": [
       "'https://raw.githubusercontent.com/hugoMGSung/bigdata-python-2023/main/Day03/%EC%B6%A9%EC%B2%AD%EB%B6%81%EB%8F%84_%ED%91%B8%EB%93%9C%EB%B1%85%ED%81%AC%ED%98%84%ED%99%A9.csv'"
      ]
     },
     "execution_count": 5,
     "metadata": {},
     "output_type": "execute_result"
    }
   ],
   "source": [
    "## 웹사이트 URL에 있는 한글은 URL인코딩할 것!\n",
    "file_name = 'https://raw.githubusercontent.com/hugoMGSung/bigdata-python-2023/main/Day03/' + parse.quote('충청북도_푸드뱅크현황.csv')\n",
    "file_name"
   ]
  },
  {
   "cell_type": "code",
   "execution_count": 6,
   "metadata": {},
   "outputs": [
    {
     "data": {
      "text/html": [
       "<div>\n",
       "<style scoped>\n",
       "    .dataframe tbody tr th:only-of-type {\n",
       "        vertical-align: middle;\n",
       "    }\n",
       "\n",
       "    .dataframe tbody tr th {\n",
       "        vertical-align: top;\n",
       "    }\n",
       "\n",
       "    .dataframe thead th {\n",
       "        text-align: right;\n",
       "    }\n",
       "</style>\n",
       "<table border=\"1\" class=\"dataframe\">\n",
       "  <thead>\n",
       "    <tr style=\"text-align: right;\">\n",
       "      <th></th>\n",
       "      <th>지역</th>\n",
       "      <th>시군구</th>\n",
       "      <th>센터단위</th>\n",
       "      <th>센터구분</th>\n",
       "      <th>지원센터</th>\n",
       "      <th>신고구분</th>\n",
       "      <th>운영단체명</th>\n",
       "      <th>운영법인분류(대)</th>\n",
       "      <th>대표자명</th>\n",
       "      <th>센터전화번호</th>\n",
       "      <th>주소</th>\n",
       "      <th>등록일자</th>\n",
       "    </tr>\n",
       "  </thead>\n",
       "  <tbody>\n",
       "    <tr>\n",
       "      <th>0</th>\n",
       "      <td>충북</td>\n",
       "      <td>충청북도 청주시 흥덕구</td>\n",
       "      <td>광역</td>\n",
       "      <td>푸드뱅크</td>\n",
       "      <td>광역기부식품등지원센터</td>\n",
       "      <td>당연신고</td>\n",
       "      <td>충청북도사회복지협의회</td>\n",
       "      <td>법인 운영</td>\n",
       "      <td>김*석</td>\n",
       "      <td>043-234-1377</td>\n",
       "      <td>청주시 흥덕구 공단로 87, 302호</td>\n",
       "      <td>2000-05-18</td>\n",
       "    </tr>\n",
       "    <tr>\n",
       "      <th>1</th>\n",
       "      <td>충북</td>\n",
       "      <td>충청북도 청주시 흥덕구</td>\n",
       "      <td>기초</td>\n",
       "      <td>푸드뱅크</td>\n",
       "      <td>청주시흥덕푸드뱅크</td>\n",
       "      <td>임의신고</td>\n",
       "      <td>청주시사회복지협의회</td>\n",
       "      <td>법인 운영</td>\n",
       "      <td>이*형</td>\n",
       "      <td>043-267-1377</td>\n",
       "      <td>청주시 흥덕구 무심서로 665(운천동), 2층</td>\n",
       "      <td>2002-08-19</td>\n",
       "    </tr>\n",
       "    <tr>\n",
       "      <th>2</th>\n",
       "      <td>충북</td>\n",
       "      <td>충청북도 청주시 상당구</td>\n",
       "      <td>기초</td>\n",
       "      <td>푸드뱅크</td>\n",
       "      <td>청주구세군푸드뱅크</td>\n",
       "      <td>당연신고</td>\n",
       "      <td>구세군청주복지센터</td>\n",
       "      <td>법인 운영</td>\n",
       "      <td>이*혁</td>\n",
       "      <td>043-254-1377</td>\n",
       "      <td>청주시 상당구 쇠내로 145번길 15, A동 202호</td>\n",
       "      <td>2010-01-01</td>\n",
       "    </tr>\n",
       "    <tr>\n",
       "      <th>3</th>\n",
       "      <td>충북</td>\n",
       "      <td>충청북도 청주시 흥덕구</td>\n",
       "      <td>기초</td>\n",
       "      <td>푸드뱅크</td>\n",
       "      <td>청주사랑나눔푸드뱅크</td>\n",
       "      <td>당연신고</td>\n",
       "      <td>개인</td>\n",
       "      <td>개인 운영</td>\n",
       "      <td>조*옥</td>\n",
       "      <td>043-266-1377</td>\n",
       "      <td>청주시 흥덕구 강서로 71번길 20-3</td>\n",
       "      <td>2008-03-03</td>\n",
       "    </tr>\n",
       "    <tr>\n",
       "      <th>4</th>\n",
       "      <td>충북</td>\n",
       "      <td>충청북도 청주시 청원구</td>\n",
       "      <td>기초</td>\n",
       "      <td>푸드뱅크</td>\n",
       "      <td>청주드림푸드뱅크</td>\n",
       "      <td>당연신고</td>\n",
       "      <td>기독교대한감리회(드림교회)</td>\n",
       "      <td>법인 운영</td>\n",
       "      <td>문*길</td>\n",
       "      <td>043-218-7991</td>\n",
       "      <td>청주시 청원구 상리로17번길 27-40(율량동)</td>\n",
       "      <td>2012-05-14</td>\n",
       "    </tr>\n",
       "  </tbody>\n",
       "</table>\n",
       "</div>"
      ],
      "text/plain": [
       "   지역           시군구 센터단위  센터구분         지원센터  신고구분           운영단체명 운영법인분류(대)  \\\n",
       "0  충북  충청북도 청주시 흥덕구   광역  푸드뱅크  광역기부식품등지원센터  당연신고     충청북도사회복지협의회     법인 운영   \n",
       "1  충북  충청북도 청주시 흥덕구   기초  푸드뱅크    청주시흥덕푸드뱅크  임의신고      청주시사회복지협의회     법인 운영   \n",
       "2  충북  충청북도 청주시 상당구   기초  푸드뱅크    청주구세군푸드뱅크  당연신고       구세군청주복지센터     법인 운영   \n",
       "3  충북  충청북도 청주시 흥덕구   기초  푸드뱅크   청주사랑나눔푸드뱅크  당연신고              개인     개인 운영   \n",
       "4  충북  충청북도 청주시 청원구   기초  푸드뱅크     청주드림푸드뱅크  당연신고  기독교대한감리회(드림교회)     법인 운영   \n",
       "\n",
       "  대표자명        센터전화번호                             주소        등록일자  \n",
       "0  김*석  043-234-1377           청주시 흥덕구 공단로 87, 302호  2000-05-18  \n",
       "1  이*형  043-267-1377      청주시 흥덕구 무심서로 665(운천동), 2층  2002-08-19  \n",
       "2  이*혁  043-254-1377  청주시 상당구 쇠내로 145번길 15, A동 202호  2010-01-01  \n",
       "3  조*옥  043-266-1377          청주시 흥덕구 강서로 71번길 20-3  2008-03-03  \n",
       "4  문*길  043-218-7991     청주시 청원구 상리로17번길 27-40(율량동)  2012-05-14  "
      ]
     },
     "execution_count": 6,
     "metadata": {},
     "output_type": "execute_result"
    }
   ],
   "source": [
    "## csv는 UTF-8 인코딩 필수는 아니지만 속성 지정할 것!\n",
    "df_basic = pd.read_csv(filepath_or_buffer=file_name, encoding='UTF-8')\n",
    "df_basic.head()"
   ]
  },
  {
   "cell_type": "code",
   "execution_count": 7,
   "metadata": {},
   "outputs": [
    {
     "ename": "ValueError",
     "evalue": "Excel file format cannot be determined, you must specify an engine manually.",
     "output_type": "error",
     "traceback": [
      "\u001b[1;31m---------------------------------------------------------------------------\u001b[0m",
      "\u001b[1;31mValueError\u001b[0m                                Traceback (most recent call last)",
      "Cell \u001b[1;32mIn[7], line 3\u001b[0m\n\u001b[0;32m      1\u001b[0m \u001b[39m## 깃헙 기본링크 주소는 안됨\u001b[39;00m\n\u001b[0;32m      2\u001b[0m file_path \u001b[39m=\u001b[39m \u001b[39m'\u001b[39m\u001b[39mhttps://github.com/hugoMGSung/bigdata-analysis-2023/blob/main/Datas/university_list_2020.xlsx\u001b[39m\u001b[39m'\u001b[39m\n\u001b[1;32m----> 3\u001b[0m df_excel \u001b[39m=\u001b[39m pd\u001b[39m.\u001b[39;49mread_excel(file_path)\n\u001b[0;32m      4\u001b[0m df_excel\n",
      "File \u001b[1;32mc:\\DEV\\LANGS\\Python\\Python311\\Lib\\site-packages\\pandas\\util\\_decorators.py:211\u001b[0m, in \u001b[0;36mdeprecate_kwarg.<locals>._deprecate_kwarg.<locals>.wrapper\u001b[1;34m(*args, **kwargs)\u001b[0m\n\u001b[0;32m    209\u001b[0m     \u001b[39melse\u001b[39;00m:\n\u001b[0;32m    210\u001b[0m         kwargs[new_arg_name] \u001b[39m=\u001b[39m new_arg_value\n\u001b[1;32m--> 211\u001b[0m \u001b[39mreturn\u001b[39;00m func(\u001b[39m*\u001b[39;49margs, \u001b[39m*\u001b[39;49m\u001b[39m*\u001b[39;49mkwargs)\n",
      "File \u001b[1;32mc:\\DEV\\LANGS\\Python\\Python311\\Lib\\site-packages\\pandas\\util\\_decorators.py:331\u001b[0m, in \u001b[0;36mdeprecate_nonkeyword_arguments.<locals>.decorate.<locals>.wrapper\u001b[1;34m(*args, **kwargs)\u001b[0m\n\u001b[0;32m    325\u001b[0m \u001b[39mif\u001b[39;00m \u001b[39mlen\u001b[39m(args) \u001b[39m>\u001b[39m num_allow_args:\n\u001b[0;32m    326\u001b[0m     warnings\u001b[39m.\u001b[39mwarn(\n\u001b[0;32m    327\u001b[0m         msg\u001b[39m.\u001b[39mformat(arguments\u001b[39m=\u001b[39m_format_argument_list(allow_args)),\n\u001b[0;32m    328\u001b[0m         \u001b[39mFutureWarning\u001b[39;00m,\n\u001b[0;32m    329\u001b[0m         stacklevel\u001b[39m=\u001b[39mfind_stack_level(),\n\u001b[0;32m    330\u001b[0m     )\n\u001b[1;32m--> 331\u001b[0m \u001b[39mreturn\u001b[39;00m func(\u001b[39m*\u001b[39;49margs, \u001b[39m*\u001b[39;49m\u001b[39m*\u001b[39;49mkwargs)\n",
      "File \u001b[1;32mc:\\DEV\\LANGS\\Python\\Python311\\Lib\\site-packages\\pandas\\io\\excel\\_base.py:482\u001b[0m, in \u001b[0;36mread_excel\u001b[1;34m(io, sheet_name, header, names, index_col, usecols, squeeze, dtype, engine, converters, true_values, false_values, skiprows, nrows, na_values, keep_default_na, na_filter, verbose, parse_dates, date_parser, thousands, decimal, comment, skipfooter, convert_float, mangle_dupe_cols, storage_options)\u001b[0m\n\u001b[0;32m    480\u001b[0m \u001b[39mif\u001b[39;00m \u001b[39mnot\u001b[39;00m \u001b[39misinstance\u001b[39m(io, ExcelFile):\n\u001b[0;32m    481\u001b[0m     should_close \u001b[39m=\u001b[39m \u001b[39mTrue\u001b[39;00m\n\u001b[1;32m--> 482\u001b[0m     io \u001b[39m=\u001b[39m ExcelFile(io, storage_options\u001b[39m=\u001b[39;49mstorage_options, engine\u001b[39m=\u001b[39;49mengine)\n\u001b[0;32m    483\u001b[0m \u001b[39melif\u001b[39;00m engine \u001b[39mand\u001b[39;00m engine \u001b[39m!=\u001b[39m io\u001b[39m.\u001b[39mengine:\n\u001b[0;32m    484\u001b[0m     \u001b[39mraise\u001b[39;00m \u001b[39mValueError\u001b[39;00m(\n\u001b[0;32m    485\u001b[0m         \u001b[39m\"\u001b[39m\u001b[39mEngine should not be specified when passing \u001b[39m\u001b[39m\"\u001b[39m\n\u001b[0;32m    486\u001b[0m         \u001b[39m\"\u001b[39m\u001b[39man ExcelFile - ExcelFile already has the engine set\u001b[39m\u001b[39m\"\u001b[39m\n\u001b[0;32m    487\u001b[0m     )\n",
      "File \u001b[1;32mc:\\DEV\\LANGS\\Python\\Python311\\Lib\\site-packages\\pandas\\io\\excel\\_base.py:1656\u001b[0m, in \u001b[0;36mExcelFile.__init__\u001b[1;34m(self, path_or_buffer, engine, storage_options)\u001b[0m\n\u001b[0;32m   1652\u001b[0m     ext \u001b[39m=\u001b[39m inspect_excel_format(\n\u001b[0;32m   1653\u001b[0m         content_or_path\u001b[39m=\u001b[39mpath_or_buffer, storage_options\u001b[39m=\u001b[39mstorage_options\n\u001b[0;32m   1654\u001b[0m     )\n\u001b[0;32m   1655\u001b[0m     \u001b[39mif\u001b[39;00m ext \u001b[39mis\u001b[39;00m \u001b[39mNone\u001b[39;00m:\n\u001b[1;32m-> 1656\u001b[0m         \u001b[39mraise\u001b[39;00m \u001b[39mValueError\u001b[39;00m(\n\u001b[0;32m   1657\u001b[0m             \u001b[39m\"\u001b[39m\u001b[39mExcel file format cannot be determined, you must specify \u001b[39m\u001b[39m\"\u001b[39m\n\u001b[0;32m   1658\u001b[0m             \u001b[39m\"\u001b[39m\u001b[39man engine manually.\u001b[39m\u001b[39m\"\u001b[39m\n\u001b[0;32m   1659\u001b[0m         )\n\u001b[0;32m   1661\u001b[0m engine \u001b[39m=\u001b[39m config\u001b[39m.\u001b[39mget_option(\u001b[39mf\u001b[39m\u001b[39m\"\u001b[39m\u001b[39mio.excel.\u001b[39m\u001b[39m{\u001b[39;00mext\u001b[39m}\u001b[39;00m\u001b[39m.reader\u001b[39m\u001b[39m\"\u001b[39m, silent\u001b[39m=\u001b[39m\u001b[39mTrue\u001b[39;00m)\n\u001b[0;32m   1662\u001b[0m \u001b[39mif\u001b[39;00m engine \u001b[39m==\u001b[39m \u001b[39m\"\u001b[39m\u001b[39mauto\u001b[39m\u001b[39m\"\u001b[39m:\n",
      "\u001b[1;31mValueError\u001b[0m: Excel file format cannot be determined, you must specify an engine manually."
     ]
    }
   ],
   "source": [
    "## 깃헙 기본링크 주소는 안됨\n",
    "file_path = 'https://github.com/hugoMGSung/bigdata-analysis-2023/blob/main/Datas/university_list_2020.xlsx'\n",
    "df_excel = pd.read_excel(file_path)\n",
    "df_excel"
   ]
  },
  {
   "cell_type": "code",
   "execution_count": null,
   "metadata": {},
   "outputs": [
    {
     "data": {
      "text/html": [
       "<div>\n",
       "<style scoped>\n",
       "    .dataframe tbody tr th:only-of-type {\n",
       "        vertical-align: middle;\n",
       "    }\n",
       "\n",
       "    .dataframe tbody tr th {\n",
       "        vertical-align: top;\n",
       "    }\n",
       "\n",
       "    .dataframe thead th {\n",
       "        text-align: right;\n",
       "    }\n",
       "</style>\n",
       "<table border=\"1\" class=\"dataframe\">\n",
       "  <thead>\n",
       "    <tr style=\"text-align: right;\">\n",
       "      <th></th>\n",
       "      <th>연도</th>\n",
       "      <th>학교종류</th>\n",
       "      <th>시도</th>\n",
       "      <th>행정구</th>\n",
       "      <th>학교명</th>\n",
       "      <th>학교명(영문)</th>\n",
       "      <th>본분교</th>\n",
       "      <th>학교상태</th>\n",
       "      <th>설립</th>\n",
       "      <th>우편번호</th>\n",
       "      <th>주소</th>\n",
       "      <th>전화번호</th>\n",
       "      <th>팩스번호</th>\n",
       "      <th>홈페이지</th>\n",
       "    </tr>\n",
       "  </thead>\n",
       "  <tbody>\n",
       "    <tr>\n",
       "      <th>0</th>\n",
       "      <td>2020</td>\n",
       "      <td>일반대학원</td>\n",
       "      <td>서울</td>\n",
       "      <td>서울 서초구</td>\n",
       "      <td>가톨릭대학교 일반대학원</td>\n",
       "      <td>Graduate School The Catholic University of Korea</td>\n",
       "      <td>제2캠퍼스</td>\n",
       "      <td>기존</td>\n",
       "      <td>사립</td>\n",
       "      <td>6591</td>\n",
       "      <td>서울특별시 서초구 반포대로 222 (반포동, 가톨릭대학교 성모병원)</td>\n",
       "      <td>02-2258-7114</td>\n",
       "      <td>02-2258-7742</td>\n",
       "      <td>songeui.catholic.ac.kr/gscuk/</td>\n",
       "    </tr>\n",
       "    <tr>\n",
       "      <th>1</th>\n",
       "      <td>2020</td>\n",
       "      <td>일반대학원</td>\n",
       "      <td>서울</td>\n",
       "      <td>서울 종로구</td>\n",
       "      <td>가톨릭대학교 일반대학원</td>\n",
       "      <td>Graduate School The Catholic University of Korea</td>\n",
       "      <td>제3캠퍼스</td>\n",
       "      <td>기존</td>\n",
       "      <td>사립</td>\n",
       "      <td>3083</td>\n",
       "      <td>서울특별시 종로구 창경궁로 296-12 (혜화동, 가톨릭대학교성신교정)</td>\n",
       "      <td>02-740-9714</td>\n",
       "      <td>02-741-2801</td>\n",
       "      <td>www.catholic.ac.kr</td>\n",
       "    </tr>\n",
       "    <tr>\n",
       "      <th>2</th>\n",
       "      <td>2020</td>\n",
       "      <td>일반대학원</td>\n",
       "      <td>서울</td>\n",
       "      <td>서울 서대문구</td>\n",
       "      <td>감리교신학대학교대학원</td>\n",
       "      <td>The Graduate School of M.T.U.</td>\n",
       "      <td>본교</td>\n",
       "      <td>기존</td>\n",
       "      <td>사립</td>\n",
       "      <td>3745</td>\n",
       "      <td>서울특별시 서대문구 독립문로 56 (냉천동, 감리교신학대학)</td>\n",
       "      <td>02-361-9114</td>\n",
       "      <td>02-361-9299</td>\n",
       "      <td>www.mtu.ac.kr</td>\n",
       "    </tr>\n",
       "    <tr>\n",
       "      <th>3</th>\n",
       "      <td>2020</td>\n",
       "      <td>일반대학원</td>\n",
       "      <td>서울</td>\n",
       "      <td>서울 광진구</td>\n",
       "      <td>건국대학교일반대학원</td>\n",
       "      <td>KONKUK UNIVERSITY GRADUATE SCHOOL</td>\n",
       "      <td>본교</td>\n",
       "      <td>기존</td>\n",
       "      <td>사립</td>\n",
       "      <td>5029</td>\n",
       "      <td>서울특별시 광진구 능동로 120 (화양동, 건국대학교)</td>\n",
       "      <td>02-450-3263</td>\n",
       "      <td>02-452-6490</td>\n",
       "      <td>grad.konkuk.ac.kr</td>\n",
       "    </tr>\n",
       "    <tr>\n",
       "      <th>4</th>\n",
       "      <td>2020</td>\n",
       "      <td>일반대학원</td>\n",
       "      <td>서울</td>\n",
       "      <td>서울 서대문구</td>\n",
       "      <td>경기대학교 일반대학원</td>\n",
       "      <td>GRADUATE SCHOOL OF KYONGGI UNIVERSITY</td>\n",
       "      <td>본교</td>\n",
       "      <td>기존</td>\n",
       "      <td>사립</td>\n",
       "      <td>3746</td>\n",
       "      <td>서울특별시 서대문구 경기대로9길 24 (충정로2가, 경기대학교)</td>\n",
       "      <td>02-390-5242</td>\n",
       "      <td>02-313-4131</td>\n",
       "      <td>www.kyonggi.ac.kr/kgraduate</td>\n",
       "    </tr>\n",
       "  </tbody>\n",
       "</table>\n",
       "</div>"
      ],
      "text/plain": [
       "     연도   학교종류  시도      행정구           학교명  \\\n",
       "0  2020  일반대학원  서울   서울 서초구  가톨릭대학교 일반대학원   \n",
       "1  2020  일반대학원  서울   서울 종로구  가톨릭대학교 일반대학원   \n",
       "2  2020  일반대학원  서울  서울 서대문구   감리교신학대학교대학원   \n",
       "3  2020  일반대학원  서울   서울 광진구    건국대학교일반대학원   \n",
       "4  2020  일반대학원  서울  서울 서대문구   경기대학교 일반대학원   \n",
       "\n",
       "                                            학교명(영문)    본분교 학교상태  설립  우편번호  \\\n",
       "0  Graduate School The Catholic University of Korea  제2캠퍼스   기존  사립  6591   \n",
       "1  Graduate School The Catholic University of Korea  제3캠퍼스   기존  사립  3083   \n",
       "2                     The Graduate School of M.T.U.     본교   기존  사립  3745   \n",
       "3                 KONKUK UNIVERSITY GRADUATE SCHOOL     본교   기존  사립  5029   \n",
       "4             GRADUATE SCHOOL OF KYONGGI UNIVERSITY     본교   기존  사립  3746   \n",
       "\n",
       "                                        주소                  전화번호  \\\n",
       "0    서울특별시 서초구 반포대로 222 (반포동, 가톨릭대학교 성모병원)  02-2258-7114           \n",
       "1  서울특별시 종로구 창경궁로 296-12 (혜화동, 가톨릭대학교성신교정)  02-740-9714            \n",
       "2        서울특별시 서대문구 독립문로 56 (냉천동, 감리교신학대학)  02-361-9114            \n",
       "3           서울특별시 광진구 능동로 120 (화양동, 건국대학교)           02-450-3263   \n",
       "4      서울특별시 서대문구 경기대로9길 24 (충정로2가, 경기대학교)  02-390-5242            \n",
       "\n",
       "                   팩스번호                           홈페이지  \n",
       "0  02-2258-7742          songeui.catholic.ac.kr/gscuk/  \n",
       "1  02-741-2801                      www.catholic.ac.kr  \n",
       "2  02-361-9299                           www.mtu.ac.kr  \n",
       "3           02-452-6490              grad.konkuk.ac.kr  \n",
       "4  02-313-4131             www.kyonggi.ac.kr/kgraduate  "
      ]
     },
     "execution_count": 54,
     "metadata": {},
     "output_type": "execute_result"
    }
   ],
   "source": [
    "## raw.githubusercontent.com 으로 변경할 것!!\n",
    "## sheet_name과 header, skiprows, skipfooter 활용 필요!\n",
    "file_path = 'https://raw.githubusercontent.com/hugoMGSung/bigdata-analysis-2023/main/Datas/university_list_2020.xlsx'\n",
    "df_excel = pd.read_excel(file_path, sheet_name='대학원', header=5)\n",
    "df_excel.head()"
   ]
  },
  {
   "cell_type": "markdown",
   "metadata": {},
   "source": [
    "#### Database\n",
    "- DB 종류별 VS code extension\n",
    "    - SQLServer : SQL Server (msssql) {Microsoft}\n",
    "    - Oracle : Oracle Developer Tools for VSCode {Oracle}\n",
    "    - MySQL : MySQL {Jun Han}"
   ]
  },
  {
   "cell_type": "markdown",
   "metadata": {},
   "source": [
    "#### MySQL\n",
    "- pymysql 설치"
   ]
  },
  {
   "cell_type": "code",
   "execution_count": null,
   "metadata": {},
   "outputs": [
    {
     "name": "stdout",
     "output_type": "stream",
     "text": [
      "Requirement already satisfied: pymysql in c:\\dev\\langs\\python\\python311\\lib\\site-packages (1.0.2)\n"
     ]
    }
   ],
   "source": [
    "!pip install pymysql"
   ]
  },
  {
   "cell_type": "code",
   "execution_count": null,
   "metadata": {},
   "outputs": [],
   "source": [
    "import pymysql"
   ]
  },
  {
   "cell_type": "code",
   "execution_count": null,
   "metadata": {},
   "outputs": [
    {
     "name": "stderr",
     "output_type": "stream",
     "text": [
      "C:\\Users\\perso\\AppData\\Local\\Temp\\ipykernel_29124\\4062082495.py:5: UserWarning: pandas only supports SQLAlchemy connectable (engine/connection) or database string URI or sqlite3 DBAPI2 connection. Other DBAPI2 objects are not tested. Please consider using SQLAlchemy.\n",
      "  df_books = pd.read_sql_query(sql=query, con=conn, index_col='bookIdx')\n"
     ]
    },
    {
     "data": {
      "text/html": [
       "<div>\n",
       "<style scoped>\n",
       "    .dataframe tbody tr th:only-of-type {\n",
       "        vertical-align: middle;\n",
       "    }\n",
       "\n",
       "    .dataframe tbody tr th {\n",
       "        vertical-align: top;\n",
       "    }\n",
       "\n",
       "    .dataframe thead th {\n",
       "        text-align: right;\n",
       "    }\n",
       "</style>\n",
       "<table border=\"1\" class=\"dataframe\">\n",
       "  <thead>\n",
       "    <tr style=\"text-align: right;\">\n",
       "      <th></th>\n",
       "      <th>Author</th>\n",
       "      <th>Division</th>\n",
       "      <th>Names</th>\n",
       "      <th>ReleaseDate</th>\n",
       "      <th>ISBN</th>\n",
       "      <th>Price</th>\n",
       "    </tr>\n",
       "    <tr>\n",
       "      <th>bookIdx</th>\n",
       "      <th></th>\n",
       "      <th></th>\n",
       "      <th></th>\n",
       "      <th></th>\n",
       "      <th></th>\n",
       "      <th></th>\n",
       "    </tr>\n",
       "  </thead>\n",
       "  <tbody>\n",
       "    <tr>\n",
       "      <th>1</th>\n",
       "      <td>넬레 노이하우스</td>\n",
       "      <td>B001</td>\n",
       "      <td>잔혹한 어머니의 날 1</td>\n",
       "      <td>2019-10-07</td>\n",
       "      <td>9791158791179</td>\n",
       "      <td>11520.0</td>\n",
       "    </tr>\n",
       "    <tr>\n",
       "      <th>2</th>\n",
       "      <td>넬레 노이하우스</td>\n",
       "      <td>B001</td>\n",
       "      <td>잔혹한 어머니의 날 2</td>\n",
       "      <td>2019-10-07</td>\n",
       "      <td>9791158791186</td>\n",
       "      <td>11520.0</td>\n",
       "    </tr>\n",
       "    <tr>\n",
       "      <th>3</th>\n",
       "      <td>매뉴 라인하트</td>\n",
       "      <td>B006</td>\n",
       "      <td>월드 오브 워크래프트 팝업북</td>\n",
       "      <td>2019-10-21</td>\n",
       "      <td>9788959527779</td>\n",
       "      <td>52200.0</td>\n",
       "    </tr>\n",
       "    <tr>\n",
       "      <th>4</th>\n",
       "      <td>묵향동후</td>\n",
       "      <td>B003</td>\n",
       "      <td>마도조사 2</td>\n",
       "      <td>2019-09-03</td>\n",
       "      <td>9791127852122</td>\n",
       "      <td>12600.0</td>\n",
       "    </tr>\n",
       "    <tr>\n",
       "      <th>5</th>\n",
       "      <td>오코제키 다이</td>\n",
       "      <td>B005</td>\n",
       "      <td>루팡의 딸</td>\n",
       "      <td>2019-09-25</td>\n",
       "      <td>9788998274412</td>\n",
       "      <td>13500.0</td>\n",
       "    </tr>\n",
       "  </tbody>\n",
       "</table>\n",
       "</div>"
      ],
      "text/plain": [
       "           Author Division            Names ReleaseDate           ISBN  \\\n",
       "bookIdx                                                                  \n",
       "1        넬레 노이하우스     B001     잔혹한 어머니의 날 1  2019-10-07  9791158791179   \n",
       "2        넬레 노이하우스     B001     잔혹한 어머니의 날 2  2019-10-07  9791158791186   \n",
       "3         매뉴 라인하트     B006  월드 오브 워크래프트 팝업북  2019-10-21  9788959527779   \n",
       "4            묵향동후     B003           마도조사 2  2019-09-03  9791127852122   \n",
       "5         오코제키 다이     B005            루팡의 딸  2019-09-25  9788998274412   \n",
       "\n",
       "           Price  \n",
       "bookIdx           \n",
       "1        11520.0  \n",
       "2        11520.0  \n",
       "3        52200.0  \n",
       "4        12600.0  \n",
       "5        13500.0  "
      ]
     },
     "execution_count": 12,
     "metadata": {},
     "output_type": "execute_result"
    }
   ],
   "source": [
    "## 테스트\n",
    "conn = pymysql.connect(host='210.119.12.52', port=3306, user='root', passwd='12345', db='bookrentalshop')\n",
    "query = 'SELECT * FROM bookstbl'\n",
    "\n",
    "df_books = pd.read_sql_query(sql=query, con=conn, index_col='bookIdx')\n",
    "df_books.head()"
   ]
  },
  {
   "cell_type": "markdown",
   "metadata": {},
   "source": [
    "### 데이터 내보내기"
   ]
  },
  {
   "cell_type": "code",
   "execution_count": null,
   "metadata": {},
   "outputs": [],
   "source": [
    "## to_csv, to_excel 함수등 활용\n",
    "df_books.to_csv('../Datas/export_bookrentalshop.csv', encoding='UTF-8', index=True)"
   ]
  },
  {
   "cell_type": "code",
   "execution_count": null,
   "metadata": {},
   "outputs": [],
   "source": [
    "df_books.to_excel('../Datas/export_bookrentalshop.xlsx')"
   ]
  },
  {
   "cell_type": "markdown",
   "metadata": {},
   "source": [
    "## 라이브러리 맛보기\n",
    "\n",
    "-  기본\n",
    "    - ~~Pandas~~\n",
    "    - ~~openpyxl~~\n",
    "    - Numpy : NumPy는 과학 컴퓨팅을 위한 기본 패키지\n",
    "    - Matplotlib\n",
    "    - folium\n",
    "\n",
    "### Numpy\n",
    "\n",
    "#### 기본 사용법\n",
    "- 넘파이 타입\n",
    "    - 불린형 : np.bool_\n",
    "    - 정수형 : np.int8, np.int16, np.int32, np.int64\n",
    "    - 실수형 : np.float32, np.float64\n",
    "    - 복소수 : np.complex64, np.complex128\n",
    "\n",
    "- 추가\n",
    "    - np.nan : not a number. Null, None과 유사(완전 일치X)\n",
    "    - np.inf : infinite 무한대"
   ]
  },
  {
   "cell_type": "code",
   "execution_count": null,
   "metadata": {},
   "outputs": [],
   "source": [
    "## Numpy import\n",
    "import numpy as np"
   ]
  },
  {
   "cell_type": "markdown",
   "metadata": {},
   "source": [
    "### 핵심\n",
    "\n",
    "NumPy와 패키지의 핵심은 ndarray(배열) 객체"
   ]
  },
  {
   "cell_type": "code",
   "execution_count": null,
   "metadata": {},
   "outputs": [
    {
     "data": {
      "text/plain": [
       "array([0.1, 0.2, 0.3])"
      ]
     },
     "execution_count": 20,
     "metadata": {},
     "output_type": "execute_result"
    }
   ],
   "source": [
    "## 1차원\n",
    "a1 = np.array((0.1, 0.2, 0.3))\n",
    "a1"
   ]
  },
  {
   "cell_type": "code",
   "execution_count": null,
   "metadata": {},
   "outputs": [
    {
     "data": {
      "text/plain": [
       "(3,)"
      ]
     },
     "execution_count": 21,
     "metadata": {},
     "output_type": "execute_result"
    }
   ],
   "source": [
    "a1.shape"
   ]
  },
  {
   "cell_type": "code",
   "execution_count": null,
   "metadata": {},
   "outputs": [
    {
     "data": {
      "text/plain": [
       "dtype('float64')"
      ]
     },
     "execution_count": 22,
     "metadata": {},
     "output_type": "execute_result"
    }
   ],
   "source": [
    "a1.dtype"
   ]
  },
  {
   "cell_type": "code",
   "execution_count": null,
   "metadata": {},
   "outputs": [
    {
     "data": {
      "text/plain": [
       "array([[1, 2, 3],\n",
       "       [4, 5, 6]])"
      ]
     },
     "execution_count": 23,
     "metadata": {},
     "output_type": "execute_result"
    }
   ],
   "source": [
    "a2 = np.array(((1,2,3), (4,5,6)))\n",
    "a2"
   ]
  },
  {
   "cell_type": "code",
   "execution_count": null,
   "metadata": {},
   "outputs": [
    {
     "data": {
      "text/plain": [
       "array([[1, 4],\n",
       "       [2, 5],\n",
       "       [3, 6]])"
      ]
     },
     "execution_count": 52,
     "metadata": {},
     "output_type": "execute_result"
    }
   ],
   "source": [
    "a2.T"
   ]
  },
  {
   "cell_type": "code",
   "execution_count": null,
   "metadata": {},
   "outputs": [
    {
     "data": {
      "text/plain": [
       "(2, 3)"
      ]
     },
     "execution_count": 25,
     "metadata": {},
     "output_type": "execute_result"
    }
   ],
   "source": [
    "a2.shape"
   ]
  },
  {
   "cell_type": "code",
   "execution_count": null,
   "metadata": {},
   "outputs": [
    {
     "data": {
      "text/plain": [
       "dtype('int32')"
      ]
     },
     "execution_count": 26,
     "metadata": {},
     "output_type": "execute_result"
    }
   ],
   "source": [
    "a2.dtype"
   ]
  },
  {
   "cell_type": "code",
   "execution_count": null,
   "metadata": {},
   "outputs": [
    {
     "data": {
      "text/plain": [
       "array([[0., 0., 0.],\n",
       "       [0., 0., 0.],\n",
       "       [0., 0., 0.]])"
      ]
     },
     "execution_count": 27,
     "metadata": {},
     "output_type": "execute_result"
    }
   ],
   "source": [
    "ae2 = np.zeros((3, 3))\n",
    "ae2"
   ]
  },
  {
   "cell_type": "code",
   "execution_count": null,
   "metadata": {},
   "outputs": [
    {
     "data": {
      "text/plain": [
       "array([[1., 1., 1.],\n",
       "       [1., 1., 1.],\n",
       "       [1., 1., 1.]])"
      ]
     },
     "execution_count": 28,
     "metadata": {},
     "output_type": "execute_result"
    }
   ],
   "source": [
    "ae2 = np.ones((3,3), dtype='float64')\n",
    "ae2"
   ]
  },
  {
   "cell_type": "code",
   "execution_count": null,
   "metadata": {},
   "outputs": [
    {
     "data": {
      "text/plain": [
       "array([[0., 0., 0.],\n",
       "       [0., 0., 0.],\n",
       "       [0., 0., 0.]])"
      ]
     },
     "execution_count": 32,
     "metadata": {},
     "output_type": "execute_result"
    }
   ],
   "source": [
    "ae2 = np.empty((3, 3))\n",
    "ae2"
   ]
  },
  {
   "cell_type": "markdown",
   "metadata": {},
   "source": [
    "#### 인덱스, 불린배열, 합치기 등"
   ]
  },
  {
   "cell_type": "code",
   "execution_count": null,
   "metadata": {},
   "outputs": [
    {
     "data": {
      "text/plain": [
       "array([ 1.2, -1.5,  2. ,  5.4,  6.7])"
      ]
     },
     "execution_count": 33,
     "metadata": {},
     "output_type": "execute_result"
    }
   ],
   "source": [
    "## 인덱싱\n",
    "ax = np.array([1.2, -1.5, 2, 5.4, 6.7])\n",
    "ax"
   ]
  },
  {
   "cell_type": "code",
   "execution_count": null,
   "metadata": {},
   "outputs": [
    {
     "data": {
      "text/plain": [
       "dtype('float64')"
      ]
     },
     "execution_count": 39,
     "metadata": {},
     "output_type": "execute_result"
    }
   ],
   "source": [
    "ax.dtype"
   ]
  },
  {
   "cell_type": "code",
   "execution_count": null,
   "metadata": {},
   "outputs": [
    {
     "data": {
      "text/plain": [
       "1.2"
      ]
     },
     "execution_count": 34,
     "metadata": {},
     "output_type": "execute_result"
    }
   ],
   "source": [
    "ax[0]"
   ]
  },
  {
   "cell_type": "code",
   "execution_count": null,
   "metadata": {},
   "outputs": [
    {
     "data": {
      "text/plain": [
       "2.0"
      ]
     },
     "execution_count": 35,
     "metadata": {},
     "output_type": "execute_result"
    }
   ],
   "source": [
    "ax[2]"
   ]
  },
  {
   "cell_type": "code",
   "execution_count": null,
   "metadata": {},
   "outputs": [
    {
     "data": {
      "text/plain": [
       "array([ 1.2, -1.5,  2. ])"
      ]
     },
     "execution_count": 36,
     "metadata": {},
     "output_type": "execute_result"
    }
   ],
   "source": [
    "ax[0:3]"
   ]
  },
  {
   "cell_type": "code",
   "execution_count": null,
   "metadata": {},
   "outputs": [
    {
     "data": {
      "text/plain": [
       "5.4"
      ]
     },
     "execution_count": 38,
     "metadata": {},
     "output_type": "execute_result"
    }
   ],
   "source": [
    "ax[-2]"
   ]
  },
  {
   "cell_type": "code",
   "execution_count": null,
   "metadata": {},
   "outputs": [
    {
     "data": {
      "text/plain": [
       "array([2. , 5.4, 6.7])"
      ]
     },
     "execution_count": 40,
     "metadata": {},
     "output_type": "execute_result"
    }
   ],
   "source": [
    "## 불린 배열\n",
    "ax[ax > 1.5]"
   ]
  },
  {
   "cell_type": "code",
   "execution_count": null,
   "metadata": {},
   "outputs": [
    {
     "data": {
      "text/plain": [
       "(array([0, 1, 2, 4], dtype=int64),)"
      ]
     },
     "execution_count": 42,
     "metadata": {},
     "output_type": "execute_result"
    }
   ],
   "source": [
    "ay = np.array([1.2, 1.3, 2.2, 0, 3.6, 0])\n",
    "np.nonzero(ay)"
   ]
  },
  {
   "cell_type": "code",
   "execution_count": null,
   "metadata": {},
   "outputs": [
    {
     "data": {
      "text/plain": [
       "array([[1, 2],\n",
       "       [3, 4],\n",
       "       [5, 6]])"
      ]
     },
     "execution_count": 49,
     "metadata": {},
     "output_type": "execute_result"
    }
   ],
   "source": [
    "## 합치기\n",
    "aa = np.array([[1,2],[3,4]])\n",
    "ab = np.array([[5,6]])\n",
    "\n",
    "np.concatenate((aa, ab), axis=0)"
   ]
  },
  {
   "cell_type": "code",
   "execution_count": null,
   "metadata": {},
   "outputs": [
    {
     "data": {
      "text/plain": [
       "array([[1, 2, 5],\n",
       "       [3, 4, 6]])"
      ]
     },
     "execution_count": 51,
     "metadata": {},
     "output_type": "execute_result"
    }
   ],
   "source": [
    "np.concatenate((aa, ab.T), axis=1)"
   ]
  },
  {
   "cell_type": "code",
   "execution_count": null,
   "metadata": {},
   "outputs": [
    {
     "data": {
      "text/plain": [
       "array([[1, 2, 3],\n",
       "       [4, 5, 6]])"
      ]
     },
     "execution_count": 53,
     "metadata": {},
     "output_type": "execute_result"
    }
   ],
   "source": [
    "ac = np.array([1,2,3])\n",
    "ad = np.array([4,5,6])\n",
    "np.vstack((ac, ad))"
   ]
  },
  {
   "cell_type": "code",
   "execution_count": null,
   "metadata": {},
   "outputs": [
    {
     "data": {
      "text/plain": [
       "array([1, 2, 3, 4, 5, 6])"
      ]
     },
     "execution_count": 56,
     "metadata": {},
     "output_type": "execute_result"
    }
   ],
   "source": [
    "## np.append(ac, ad) 와 동일\n",
    "np.hstack((ac, ad)) "
   ]
  },
  {
   "cell_type": "markdown",
   "metadata": {},
   "source": [
    "#### 연산\n",
    "\n",
    "- 사칙연산 모두 가능 (파이썬 배열과 차이)"
   ]
  },
  {
   "cell_type": "markdown",
   "metadata": {},
   "source": [
    "#### 이진탐색\n",
    "\n",
    "![이진탐색](https://wikidocs.net/images/page/14597/11.png)"
   ]
  },
  {
   "cell_type": "code",
   "execution_count": null,
   "metadata": {},
   "outputs": [
    {
     "name": "stdout",
     "output_type": "stream",
     "text": [
      "[ 0. 13. 26. 30.]\n",
      "-1 : 0 , 0\n",
      "0 : 0 , 1\n",
      "5 : 1 , 1\n",
      "13 : 1 , 2\n",
      "15 : 2 , 2\n",
      "30 : 3 , 4\n",
      "35 : 4 , 4\n"
     ]
    }
   ],
   "source": [
    "az = np.array([0., 13., 26., 30.])\n",
    "\n",
    "print(az)\n",
    "print(-1,':',np.searchsorted(az,-1.),',',np.searchsorted(az,-1.,side='right'))\n",
    "print( 0,':',np.searchsorted(az, 0.),',',np.searchsorted(az, 0.,side='right'))\n",
    "print( 5,':',np.searchsorted(az, 5.),',',np.searchsorted(az, 5.,side='right'))\n",
    "print(13,':',np.searchsorted(az,13.),',',np.searchsorted(az,13.,side='right'))\n",
    "print(15,':',np.searchsorted(az,15.),',',np.searchsorted(az,15.,side='right'))\n",
    "print(30,':',np.searchsorted(az,30.),',',np.searchsorted(az,30.,side='right'))\n",
    "print(35,':',np.searchsorted(az,35.),',',np.searchsorted(az,35.,side='right'))"
   ]
  },
  {
   "cell_type": "markdown",
   "metadata": {},
   "source": [
    "#### 복사"
   ]
  },
  {
   "cell_type": "code",
   "execution_count": null,
   "metadata": {},
   "outputs": [
    {
     "data": {
      "text/plain": [
       "array([1, 2, 3])"
      ]
     },
     "execution_count": 60,
     "metadata": {},
     "output_type": "execute_result"
    }
   ],
   "source": [
    "lf = [1, 2, 3]\n",
    "af = np.array(lf)\n",
    "af"
   ]
  },
  {
   "cell_type": "code",
   "execution_count": null,
   "metadata": {},
   "outputs": [
    {
     "data": {
      "text/plain": [
       "array([20,  2,  3])"
      ]
     },
     "execution_count": 64,
     "metadata": {},
     "output_type": "execute_result"
    }
   ],
   "source": [
    "## 얕은 복사(shallow copy)\n",
    "ah = af\n",
    "ah"
   ]
  },
  {
   "cell_type": "code",
   "execution_count": null,
   "metadata": {},
   "outputs": [
    {
     "data": {
      "text/plain": [
       "array([20,  2,  3])"
      ]
     },
     "execution_count": 65,
     "metadata": {},
     "output_type": "execute_result"
    }
   ],
   "source": [
    "ah[0] = 20\n",
    "ah"
   ]
  },
  {
   "cell_type": "code",
   "execution_count": null,
   "metadata": {},
   "outputs": [
    {
     "data": {
      "text/plain": [
       "array([20,  2,  3])"
      ]
     },
     "execution_count": 63,
     "metadata": {},
     "output_type": "execute_result"
    }
   ],
   "source": [
    "af"
   ]
  },
  {
   "cell_type": "code",
   "execution_count": null,
   "metadata": {},
   "outputs": [
    {
     "data": {
      "text/plain": [
       "True"
      ]
     },
     "execution_count": 66,
     "metadata": {},
     "output_type": "execute_result"
    }
   ],
   "source": [
    "ah is af"
   ]
  },
  {
   "cell_type": "code",
   "execution_count": null,
   "metadata": {},
   "outputs": [],
   "source": [
    "## 깊은 복사(deep copy)\n",
    "ai = af.copy()"
   ]
  },
  {
   "cell_type": "code",
   "execution_count": null,
   "metadata": {},
   "outputs": [
    {
     "data": {
      "text/plain": [
       "array([20,  2,  3])"
      ]
     },
     "execution_count": 68,
     "metadata": {},
     "output_type": "execute_result"
    }
   ],
   "source": [
    "ai[0] = 30\n",
    "af"
   ]
  },
  {
   "cell_type": "code",
   "execution_count": null,
   "metadata": {},
   "outputs": [
    {
     "data": {
      "text/plain": [
       "False"
      ]
     },
     "execution_count": 69,
     "metadata": {},
     "output_type": "execute_result"
    }
   ],
   "source": [
    "ai is af"
   ]
  },
  {
   "cell_type": "markdown",
   "metadata": {},
   "source": [
    "#### Numpy IO\n",
    "\n",
    "넘파이에서 파일 읽고 쓰기"
   ]
  },
  {
   "cell_type": "code",
   "execution_count": null,
   "metadata": {},
   "outputs": [],
   "source": [
    "## 파일쓰기\n",
    "np.savetxt('../Datas/random_array.txt', ax)"
   ]
  },
  {
   "cell_type": "code",
   "execution_count": null,
   "metadata": {},
   "outputs": [
    {
     "data": {
      "text/plain": [
       "array([ 1.2, -1.5,  2. ,  5.4,  6.7])"
      ]
     },
     "execution_count": 73,
     "metadata": {},
     "output_type": "execute_result"
    }
   ],
   "source": [
    "## 파일읽기\n",
    "flax = np.loadtxt('../Datas/random_array.txt')\n",
    "flax"
   ]
  },
  {
   "cell_type": "code",
   "execution_count": null,
   "metadata": {},
   "outputs": [],
   "source": [
    "## 백업\n",
    "ax.tofile('backup')"
   ]
  },
  {
   "cell_type": "code",
   "execution_count": null,
   "metadata": {},
   "outputs": [
    {
     "data": {
      "text/plain": [
       "array([ 1.2, -1.5,  2. ,  5.4,  6.7])"
      ]
     },
     "execution_count": 75,
     "metadata": {},
     "output_type": "execute_result"
    }
   ],
   "source": [
    "## 복구\n",
    "bax = np.fromfile('backup')\n",
    "bax"
   ]
  }
 ],
 "metadata": {
  "kernelspec": {
   "display_name": "Python 3",
   "language": "python",
   "name": "python3"
  },
  "language_info": {
   "codemirror_mode": {
    "name": "ipython",
    "version": 3
   },
   "file_extension": ".py",
   "mimetype": "text/x-python",
   "name": "python",
   "nbconvert_exporter": "python",
   "pygments_lexer": "ipython3",
   "version": "3.11.4"
  },
  "orig_nbformat": 4
 },
 "nbformat": 4,
 "nbformat_minor": 2
}
