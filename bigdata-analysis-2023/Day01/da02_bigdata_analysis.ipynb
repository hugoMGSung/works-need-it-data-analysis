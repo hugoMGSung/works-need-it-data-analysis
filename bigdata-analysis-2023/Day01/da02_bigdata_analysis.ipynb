{
 "cells": [
  {
   "cell_type": "markdown",
   "metadata": {},
   "source": [
    "## 라이브러리 맛보기\n",
    "\n",
    "https://wikidocs.net/book/1704 참조\n",
    "\n",
    "-  기본\n",
    "    - ~~Pandas~~\n",
    "    - ~~openpyxl~~\n",
    "    - ~~Numpy~~\n",
    "    - Matplotlib\n",
    "    - folium\n",
    "\n",
    "### Scipy\n",
    "- 과학기술계산을 위한 Python 라이브러리\n",
    "    - NumPy, Matplotlib, pandas, SymPy와 연계되어 있음\n",
    "\n",
    "#### 기본 사용법"
   ]
  },
  {
   "cell_type": "code",
   "execution_count": 1,
   "metadata": {},
   "outputs": [
    {
     "name": "stdout",
     "output_type": "stream",
     "text": [
      "Requirement already satisfied: scipy in c:\\dev\\langs\\python\\python311\\lib\\site-packages (1.10.1)\n",
      "Requirement already satisfied: numpy<1.27.0,>=1.19.5 in c:\\dev\\langs\\python\\python311\\lib\\site-packages (from scipy) (1.23.5)\n"
     ]
    }
   ],
   "source": [
    "!pip install scipy"
   ]
  },
  {
   "cell_type": "code",
   "execution_count": 2,
   "metadata": {},
   "outputs": [],
   "source": [
    "## Numpy and Scipy\n",
    "import numpy\n",
    "import scipy"
   ]
  },
  {
   "cell_type": "code",
   "execution_count": 3,
   "metadata": {},
   "outputs": [
    {
     "name": "stdout",
     "output_type": "stream",
     "text": [
      "openblas64__info:\n",
      "    library_dirs = ['D:\\\\a\\\\numpy\\\\numpy\\\\build\\\\openblas64__info']\n",
      "    libraries = ['openblas64__info']\n",
      "    language = f77\n",
      "    define_macros = [('HAVE_CBLAS', None), ('BLAS_SYMBOL_SUFFIX', '64_'), ('HAVE_BLAS_ILP64', None)]\n",
      "blas_ilp64_opt_info:\n",
      "    library_dirs = ['D:\\\\a\\\\numpy\\\\numpy\\\\build\\\\openblas64__info']\n",
      "    libraries = ['openblas64__info']\n",
      "    language = f77\n",
      "    define_macros = [('HAVE_CBLAS', None), ('BLAS_SYMBOL_SUFFIX', '64_'), ('HAVE_BLAS_ILP64', None)]\n",
      "openblas64__lapack_info:\n",
      "    library_dirs = ['D:\\\\a\\\\numpy\\\\numpy\\\\build\\\\openblas64__lapack_info']\n",
      "    libraries = ['openblas64__lapack_info']\n",
      "    language = f77\n",
      "    define_macros = [('HAVE_CBLAS', None), ('BLAS_SYMBOL_SUFFIX', '64_'), ('HAVE_BLAS_ILP64', None), ('HAVE_LAPACKE', None)]\n",
      "lapack_ilp64_opt_info:\n",
      "    library_dirs = ['D:\\\\a\\\\numpy\\\\numpy\\\\build\\\\openblas64__lapack_info']\n",
      "    libraries = ['openblas64__lapack_info']\n",
      "    language = f77\n",
      "    define_macros = [('HAVE_CBLAS', None), ('BLAS_SYMBOL_SUFFIX', '64_'), ('HAVE_BLAS_ILP64', None), ('HAVE_LAPACKE', None)]\n",
      "Supported SIMD extensions in this NumPy install:\n",
      "    baseline = SSE,SSE2,SSE3\n",
      "    found = SSSE3,SSE41,POPCNT,SSE42,AVX,F16C,FMA3,AVX2\n",
      "    not found = AVX512F,AVX512CD,AVX512_SKX,AVX512_CLX,AVX512_CNL,AVX512_ICL\n"
     ]
    }
   ],
   "source": [
    "numpy.show_config()"
   ]
  },
  {
   "cell_type": "code",
   "execution_count": 4,
   "metadata": {},
   "outputs": [
    {
     "name": "stdout",
     "output_type": "stream",
     "text": [
      "{\n",
      "  \"Compilers\": {\n",
      "    \"c\": {\n",
      "      \"name\": \"gcc\",\n",
      "      \"linker\": \"ld.bfd\",\n",
      "      \"version\": \"10.3.0\",\n",
      "      \"commands\": \"cc\"\n",
      "    },\n",
      "    \"cython\": {\n",
      "      \"name\": \"cython\",\n",
      "      \"linker\": \"cython\",\n",
      "      \"version\": \"0.29.33\",\n",
      "      \"commands\": \"cython\"\n",
      "    },\n",
      "    \"c++\": {\n",
      "      \"name\": \"gcc\",\n",
      "      \"linker\": \"ld.bfd\",\n",
      "      \"version\": \"10.3.0\",\n",
      "      \"commands\": \"c++\"\n",
      "    },\n",
      "    \"fortran\": {\n",
      "      \"name\": \"gcc\",\n",
      "      \"linker\": \"ld.bfd\",\n",
      "      \"version\": \"10.3.0\",\n",
      "      \"commands\": \"gfortran\"\n",
      "    },\n",
      "    \"pythran\": {\n",
      "      \"version\": \"0.12.1\",\n",
      "      \"include directory\": \"C:\\\\Users\\\\runneradmin\\\\AppData\\\\Local\\\\Temp\\\\pip-build-env-tkj0pjht\\\\overlay\\\\Lib\\\\site-packages\\\\pythran\"\n",
      "    }\n",
      "  },\n",
      "  \"Machine Information\": {\n",
      "    \"host\": {\n",
      "      \"cpu\": \"x86_64\",\n",
      "      \"family\": \"x86_64\",\n",
      "      \"endian\": \"little\",\n",
      "      \"system\": \"windows\"\n",
      "    },\n",
      "    \"build\": {\n",
      "      \"cpu\": \"x86_64\",\n",
      "      \"family\": \"x86_64\",\n",
      "      \"endian\": \"little\",\n",
      "      \"system\": \"windows\"\n",
      "    },\n",
      "    \"cross-compiled\": false\n",
      "  },\n",
      "  \"Build Dependencies\": {\n",
      "    \"blas\": {\n",
      "      \"name\": \"openblas\",\n",
      "      \"found\": true,\n",
      "      \"version\": \"0.3.18\",\n",
      "      \"detection method\": \"pkgconfig\",\n",
      "      \"include directory\": \"c:/opt/openblas/if_32/64/include\",\n",
      "      \"lib directory\": \"c:/opt/openblas/if_32/64/lib\",\n",
      "      \"openblas configuration\": \"USE_64BITINT= DYNAMIC_ARCH=1 DYNAMIC_OLDER= NO_CBLAS= NO_LAPACK= NO_LAPACKE= NO_AFFINITY=1 USE_OPENMP= PRESCOTT MAX_THREADS=4\",\n",
      "      \"pc file directory\": \"c:/opt/openblas/if_32/64/lib/pkgconfig\"\n",
      "    },\n",
      "    \"lapack\": {\n",
      "      \"name\": \"openblas\",\n",
      "      \"found\": true,\n",
      "      \"version\": \"0.3.18\",\n",
      "      \"detection method\": \"pkgconfig\",\n",
      "      \"include directory\": \"c:/opt/openblas/if_32/64/include\",\n",
      "      \"lib directory\": \"c:/opt/openblas/if_32/64/lib\",\n",
      "      \"openblas configuration\": \"USE_64BITINT= DYNAMIC_ARCH=1 DYNAMIC_OLDER= NO_CBLAS= NO_LAPACK= NO_LAPACKE= NO_AFFINITY=1 USE_OPENMP= PRESCOTT MAX_THREADS=4\",\n",
      "      \"pc file directory\": \"c:/opt/openblas/if_32/64/lib/pkgconfig\"\n",
      "    }\n",
      "  },\n",
      "  \"Python Information\": {\n",
      "    \"path\": \"C:\\\\Users\\\\runneradmin\\\\AppData\\\\Local\\\\Temp\\\\cibw-run-7zsnxupn\\\\cp311-win_amd64\\\\build\\\\venv\\\\Scripts\\\\python.exe\",\n",
      "    \"version\": \"3.11\"\n",
      "  }\n",
      "}\n"
     ]
    },
    {
     "name": "stderr",
     "output_type": "stream",
     "text": [
      "c:\\DEV\\LANGS\\Python\\Python311\\Lib\\site-packages\\scipy\\__config__.py:140: UserWarning: Install `pyyaml` for better output\n",
      "  warnings.warn(\"Install `pyyaml` for better output\", stacklevel=1)\n"
     ]
    }
   ],
   "source": [
    "scipy.show_config()"
   ]
  },
  {
   "cell_type": "markdown",
   "metadata": {},
   "source": [
    "#### 계산속도\n",
    "- 계산속도\n",
    "    - CPU time : 작업을 수행한 프로세서의 시간을 합산한 시간. time.process_time()에서 리턴된 값의 차이로 계산\n",
    "    - wall time : 작업을 수행한 시간. time.perf_counter()이나 time.time()에서 리턴되는 값의 차이. time_perf_counter()가 보다 정확한 값을 제시"
   ]
  },
  {
   "cell_type": "code",
   "execution_count": 10,
   "metadata": {},
   "outputs": [
    {
     "name": "stdout",
     "output_type": "stream",
     "text": [
      "cpuTime :  0.40625\n",
      "wallTime1 :  0.17138130002422258\n",
      "wallTime2 :  0.1719954013824463\n"
     ]
    }
   ],
   "source": [
    "## 시간속도 체크\n",
    "import time\n",
    "import numpy as np\n",
    "import scipy.linalg as linalg\n",
    "\n",
    "A = np.random.random(size=(10000,10000))\n",
    "\n",
    "cpuTime   = time.process_time()    # CPU time\n",
    "wallTime1 = time.perf_counter()   # wall time\n",
    "wallTime2 = time.time()            # wall time\n",
    "\n",
    "linalg.norm(A)\n",
    "\n",
    "cpuTime   = time.process_time() - cpuTime     # CPU time\n",
    "wallTime1 = time.perf_counter() - wallTime1   # wall time\n",
    "wallTime2 = time.time() - wallTime2           # wall time\n",
    "\n",
    "print('cpuTime : ', cpuTime)\n",
    "print('wallTime1 : ', wallTime1)\n",
    "print('wallTime2 : ', wallTime2)"
   ]
  },
  {
   "cell_type": "markdown",
   "metadata": {},
   "source": [
    "#### 선형대수\n",
    "\n",
    "#### 행렬곱"
   ]
  },
  {
   "cell_type": "code",
   "execution_count": 15,
   "metadata": {},
   "outputs": [],
   "source": [
    "A = np.array([[1,2,-1],\n",
    "              [2,7,4],\n",
    "              [0,4,-1]])\n",
    "\n",
    "b = np.array([1,0,1.2])\n",
    "\n",
    "# 행결 벡터 곱셈\n",
    "y1 = np.matmul(A,b)\n",
    "y2 = np.dot(A,b)\n",
    "y3 = A.dot(b)\n",
    "\n",
    "# 행령 행렬 곱셈\n",
    "B = np.array([[1,2,3,4],\n",
    "              [-1,2,3,1],\n",
    "              [3,-2,5,9]])\n",
    "\n",
    "C1 = np.matmul(A,B)\n",
    "C2 = np.dot(A,B)\n",
    "C3 = A.dot(B)"
   ]
  },
  {
   "cell_type": "code",
   "execution_count": 12,
   "metadata": {},
   "outputs": [
    {
     "data": {
      "text/plain": [
       "array([[-4,  8,  4, -3],\n",
       "       [ 7, 10, 47, 51],\n",
       "       [-7, 10,  7, -5]])"
      ]
     },
     "execution_count": 12,
     "metadata": {},
     "output_type": "execute_result"
    }
   ],
   "source": [
    "C1"
   ]
  },
  {
   "cell_type": "code",
   "execution_count": 13,
   "metadata": {},
   "outputs": [
    {
     "data": {
      "text/plain": [
       "array([[-4,  8,  4, -3],\n",
       "       [ 7, 10, 47, 51],\n",
       "       [-7, 10,  7, -5]])"
      ]
     },
     "execution_count": 13,
     "metadata": {},
     "output_type": "execute_result"
    }
   ],
   "source": [
    "C2"
   ]
  },
  {
   "cell_type": "code",
   "execution_count": 14,
   "metadata": {},
   "outputs": [
    {
     "data": {
      "text/plain": [
       "array([[-4,  8,  4, -3],\n",
       "       [ 7, 10, 47, 51],\n",
       "       [-7, 10,  7, -5]])"
      ]
     },
     "execution_count": 14,
     "metadata": {},
     "output_type": "execute_result"
    }
   ],
   "source": [
    "C3"
   ]
  },
  {
   "cell_type": "markdown",
   "metadata": {},
   "source": [
    "..."
   ]
  }
 ],
 "metadata": {
  "kernelspec": {
   "display_name": "Python 3",
   "language": "python",
   "name": "python3"
  },
  "language_info": {
   "codemirror_mode": {
    "name": "ipython",
    "version": 3
   },
   "file_extension": ".py",
   "mimetype": "text/x-python",
   "name": "python",
   "nbconvert_exporter": "python",
   "pygments_lexer": "ipython3",
   "version": "3.11.4"
  },
  "orig_nbformat": 4
 },
 "nbformat": 4,
 "nbformat_minor": 2
}
