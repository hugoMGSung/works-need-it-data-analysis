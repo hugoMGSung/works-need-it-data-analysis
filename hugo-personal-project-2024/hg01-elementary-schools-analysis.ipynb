{
 "cells": [
  {
   "cell_type": "markdown",
   "metadata": {},
   "source": [
    "## 부산 초등학교 현황\n",
    "\n",
    "### 분석데이터 \n",
    "모두 학교 알리미 오픈데이터"
   ]
  },
  {
   "cell_type": "code",
   "execution_count": null,
   "metadata": {},
   "outputs": [],
   "source": []
  }
 ],
 "metadata": {
  "language_info": {
   "name": "python"
  }
 },
 "nbformat": 4,
 "nbformat_minor": 2
}
